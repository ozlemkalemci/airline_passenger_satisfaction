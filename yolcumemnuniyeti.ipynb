{
 "cells": [
  {
   "cell_type": "markdown",
   "id": "b26cd80a",
   "metadata": {
    "papermill": {
     "duration": 0.027541,
     "end_time": "2022-06-21T20:43:01.376215",
     "exception": false,
     "start_time": "2022-06-21T20:43:01.348674",
     "status": "completed"
    },
    "tags": []
   },
   "source": [
    "Bu veri seti, ismi verilmemiş bir havayolu şirketinin yolcu memnuniyet anketini içermektedir.\n",
    "Memnun (veya memnun olmayan) bir yolcuyla yüksek düzeyde ilişkili olan faktörleri öğrenmek firma için oldukça önemlidir.\n",
    "Çünkü havayollarının daha memnun müşteriler yaratmak için sundukları hizmetlerin hangi yönünün daha fazla vurgulanması gerektiğini bilmeleri gerekir.\n",
    "Bu veri setinin temel amacı, diğer parametre değerlerinin ayrıntıları verildiğinde gelecekteki bir müşterinin hizmetten memnun olup olmayacağını tahmin etmektir.\n",
    "\n",
    "____________________\n",
    "Parametreler:\n",
    "\n",
    "Gender: Yolcuların cinsiyeti (Female, Male)\n",
    "\n",
    "Customer Type: Müşteri tipi (Loyal Customer, disloyal Customer)\n",
    "\n",
    "Age: Yolcuların gerçek yaşı\n",
    "\n",
    "Type of Travel: Yolcuların uçuş amacı (Business travel, Personal Travel)\n",
    "\n",
    "Class: Yolcuların uçakta seyahat sınıfı (Business, Eco, Eco Plus)\n",
    "\n",
    "Flight Distance: Bu yolculuğun uçuş mesafesi\n",
    "\n",
    "Inflight wifi service: Uçak içi wifi hizmetinden memnuniyet düzeyi (0:Uygulanamaz;1-5)\n",
    "\n",
    "Departure/Arrival time convenient: Uygun Kalkış/Varış saatinin memnuniyet düzeyi\n",
    "\n",
    "Ease of Online booking: Çevrimiçi rezervasyonun memnuniyet düzeyi\n",
    "\n",
    "Gate location: Kapı konumunun memnuniyet düzeyi\n",
    "\n",
    "Food and drink: Yiyecek ve içecekten memnuniyet düzeyi\n",
    "\n",
    "Online boarding: Çevrimiçi biniş memnuniyet düzeyi\n",
    "\n",
    "Seat comfort: Koltuk konforundan memnuniyet seviyesi\n",
    "\n",
    "Inflight entertainment: Uçak içi eğlencenin memnuniyet düzeyi\n",
    "\n",
    "On-board service: Araç içi hizmetten memnuniyet düzeyi\n",
    "\n",
    "Leg room service: herhangi iki koltuk arasında ayaklar için bırakılmış mesafeden  memnuniyet düzeyi\n",
    "\n",
    "Baggage handling: Bagaj taşıma memnuniyet düzeyi\n",
    "\n",
    "Checkin service: Check-in hizmetinden memnuniyet düzeyi\n",
    "\n",
    "Inflight service: Uçak içi hizmetten memnuniyet düzeyi\n",
    "\n",
    "Cleanliness: Temizlikten Memnuniyet Düzeyi\n",
    "\n",
    "Departure Delay in Minutes: Kalkışta gecikmeli dakika\n",
    "\n",
    "Arrival Delay in Minutes: Varışta geciken dakikalar\n",
    "\n",
    "satisfaction: Havayolu memnuniyet düzeyi (Memnuniyet, tarafsızlık veya memnuniyetsizlik)"
   ]
  },
  {
   "cell_type": "markdown",
   "id": "4b7a2fba",
   "metadata": {
    "papermill": {
     "duration": 0.025538,
     "end_time": "2022-06-21T20:43:01.430325",
     "exception": false,
     "start_time": "2022-06-21T20:43:01.404787",
     "status": "completed"
    },
    "tags": []
   },
   "source": [
    "# IMPORTLAR:"
   ]
  },
  {
   "cell_type": "code",
   "execution_count": 1,
   "id": "ff01a2b6",
   "metadata": {
    "execution": {
     "iopub.execute_input": "2022-06-21T20:43:01.484513Z",
     "iopub.status.busy": "2022-06-21T20:43:01.483791Z",
     "iopub.status.idle": "2022-06-21T20:43:17.503261Z",
     "shell.execute_reply": "2022-06-21T20:43:17.501547Z"
    },
    "papermill": {
     "duration": 16.049891,
     "end_time": "2022-06-21T20:43:17.505900",
     "exception": false,
     "start_time": "2022-06-21T20:43:01.456009",
     "status": "completed"
    },
    "tags": []
   },
   "outputs": [
    {
     "name": "stdout",
     "output_type": "stream",
     "text": [
      "Collecting pydotplus\r\n",
      "  Downloading pydotplus-2.0.2.tar.gz (278 kB)\r\n",
      "\u001b[2K     \u001b[90m━━━━━━━━━━━━━━━━━━━━━━━━━━━━━━━━━━━━━━━\u001b[0m \u001b[32m278.7/278.7 kB\u001b[0m \u001b[31m1.5 MB/s\u001b[0m eta \u001b[36m0:00:00\u001b[0m\r\n",
      "\u001b[?25h  Preparing metadata (setup.py) ... \u001b[?25l-\b \bdone\r\n",
      "\u001b[?25hRequirement already satisfied: pyparsing>=2.0.1 in /opt/conda/lib/python3.7/site-packages (from pydotplus) (3.0.9)\r\n",
      "Building wheels for collected packages: pydotplus\r\n",
      "  Building wheel for pydotplus (setup.py) ... \u001b[?25l-\b \b\\\b \bdone\r\n",
      "\u001b[?25h  Created wheel for pydotplus: filename=pydotplus-2.0.2-py3-none-any.whl size=24575 sha256=8750681a4c450cd70d65f0eec9bc11dddf9850886f67f0be854571035f745638\r\n",
      "  Stored in directory: /root/.cache/pip/wheels/1e/7b/04/7387cf6cc9e48b4a96e361b0be812f0708b394b821bf8c9c50\r\n",
      "Successfully built pydotplus\r\n",
      "Installing collected packages: pydotplus\r\n",
      "Successfully installed pydotplus-2.0.2\r\n",
      "\u001b[33mWARNING: Running pip as the 'root' user can result in broken permissions and conflicting behaviour with the system package manager. It is recommended to use a virtual environment instead: https://pip.pypa.io/warnings/venv\u001b[0m\u001b[33m\r\n",
      "\u001b[0mNote: you may need to restart the kernel to use updated packages.\n"
     ]
    }
   ],
   "source": [
    "pip install pydotplus\n"
   ]
  },
  {
   "cell_type": "code",
   "execution_count": 2,
   "id": "4cbecf13",
   "metadata": {
    "execution": {
     "iopub.execute_input": "2022-06-21T20:43:17.563304Z",
     "iopub.status.busy": "2022-06-21T20:43:17.562735Z",
     "iopub.status.idle": "2022-06-21T20:43:31.308594Z",
     "shell.execute_reply": "2022-06-21T20:43:31.307095Z"
    },
    "papermill": {
     "duration": 13.77764,
     "end_time": "2022-06-21T20:43:31.311002",
     "exception": false,
     "start_time": "2022-06-21T20:43:17.533362",
     "status": "completed"
    },
    "tags": []
   },
   "outputs": [
    {
     "name": "stdout",
     "output_type": "stream",
     "text": [
      "Collecting skompiler\r\n",
      "  Downloading SKompiler-0.6.tar.gz (45 kB)\r\n",
      "\u001b[2K     \u001b[90m━━━━━━━━━━━━━━━━━━━━━━━━━━━━━━━━━━━━━━━\u001b[0m \u001b[32m45.3/45.3 kB\u001b[0m \u001b[31m587.7 kB/s\u001b[0m eta \u001b[36m0:00:00\u001b[0m\r\n",
      "\u001b[?25h  Preparing metadata (setup.py) ... \u001b[?25l-\b \bdone\r\n",
      "\u001b[?25hRequirement already satisfied: scikit-learn>=0.22 in /opt/conda/lib/python3.7/site-packages (from skompiler) (1.0.2)\r\n",
      "Requirement already satisfied: scipy>=1.1.0 in /opt/conda/lib/python3.7/site-packages (from scikit-learn>=0.22->skompiler) (1.7.3)\r\n",
      "Requirement already satisfied: joblib>=0.11 in /opt/conda/lib/python3.7/site-packages (from scikit-learn>=0.22->skompiler) (1.1.0)\r\n",
      "Requirement already satisfied: numpy>=1.14.6 in /opt/conda/lib/python3.7/site-packages (from scikit-learn>=0.22->skompiler) (1.21.6)\r\n",
      "Requirement already satisfied: threadpoolctl>=2.0.0 in /opt/conda/lib/python3.7/site-packages (from scikit-learn>=0.22->skompiler) (3.1.0)\r\n",
      "Building wheels for collected packages: skompiler\r\n",
      "  Building wheel for skompiler (setup.py) ... \u001b[?25l-\b \b\\\b \bdone\r\n",
      "\u001b[?25h  Created wheel for skompiler: filename=SKompiler-0.6-py3-none-any.whl size=54286 sha256=8e534fb1f3662cf31b05e5dc30c0da1e94287c91ebaf58e46c372819b502b868\r\n",
      "  Stored in directory: /root/.cache/pip/wheels/47/1c/59/b80a730f4afd2144bad854df4b167b812486c9d4c1bd4cf4c5\r\n",
      "Successfully built skompiler\r\n",
      "Installing collected packages: skompiler\r\n",
      "Successfully installed skompiler-0.6\r\n",
      "\u001b[33mWARNING: Running pip as the 'root' user can result in broken permissions and conflicting behaviour with the system package manager. It is recommended to use a virtual environment instead: https://pip.pypa.io/warnings/venv\u001b[0m\u001b[33m\r\n",
      "\u001b[0mNote: you may need to restart the kernel to use updated packages.\n"
     ]
    }
   ],
   "source": [
    "pip install skompiler\n"
   ]
  },
  {
   "cell_type": "code",
   "execution_count": 3,
   "id": "406a2981",
   "metadata": {
    "execution": {
     "iopub.execute_input": "2022-06-21T20:43:31.374114Z",
     "iopub.status.busy": "2022-06-21T20:43:31.373663Z",
     "iopub.status.idle": "2022-06-21T20:43:43.045703Z",
     "shell.execute_reply": "2022-06-21T20:43:43.044437Z"
    },
    "papermill": {
     "duration": 11.706795,
     "end_time": "2022-06-21T20:43:43.047818",
     "exception": false,
     "start_time": "2022-06-21T20:43:31.341023",
     "status": "completed"
    },
    "tags": []
   },
   "outputs": [
    {
     "name": "stdout",
     "output_type": "stream",
     "text": [
      "Collecting astor\r\n",
      "  Downloading astor-0.8.1-py2.py3-none-any.whl (27 kB)\r\n",
      "Installing collected packages: astor\r\n",
      "Successfully installed astor-0.8.1\r\n",
      "\u001b[33mWARNING: Running pip as the 'root' user can result in broken permissions and conflicting behaviour with the system package manager. It is recommended to use a virtual environment instead: https://pip.pypa.io/warnings/venv\u001b[0m\u001b[33m\r\n",
      "\u001b[0mNote: you may need to restart the kernel to use updated packages.\n"
     ]
    }
   ],
   "source": [
    "pip install astor\n"
   ]
  },
  {
   "cell_type": "code",
   "execution_count": 4,
   "id": "36fa38d9",
   "metadata": {
    "execution": {
     "iopub.execute_input": "2022-06-21T20:43:43.106925Z",
     "iopub.status.busy": "2022-06-21T20:43:43.106045Z",
     "iopub.status.idle": "2022-06-21T20:43:54.308670Z",
     "shell.execute_reply": "2022-06-21T20:43:54.306881Z"
    },
    "papermill": {
     "duration": 11.235058,
     "end_time": "2022-06-21T20:43:54.311238",
     "exception": false,
     "start_time": "2022-06-21T20:43:43.076180",
     "status": "completed"
    },
    "tags": []
   },
   "outputs": [
    {
     "name": "stdout",
     "output_type": "stream",
     "text": [
      "Requirement already satisfied: joblib in /opt/conda/lib/python3.7/site-packages (1.1.0)\r\n",
      "\u001b[33mWARNING: Running pip as the 'root' user can result in broken permissions and conflicting behaviour with the system package manager. It is recommended to use a virtual environment instead: https://pip.pypa.io/warnings/venv\u001b[0m\u001b[33m\r\n",
      "\u001b[0mNote: you may need to restart the kernel to use updated packages.\n"
     ]
    }
   ],
   "source": [
    "pip install joblib"
   ]
  },
  {
   "cell_type": "code",
   "execution_count": 5,
   "id": "8e7c4853",
   "metadata": {
    "execution": {
     "iopub.execute_input": "2022-06-21T20:43:54.371597Z",
     "iopub.status.busy": "2022-06-21T20:43:54.370764Z",
     "iopub.status.idle": "2022-06-21T20:43:57.630090Z",
     "shell.execute_reply": "2022-06-21T20:43:57.628455Z"
    },
    "papermill": {
     "duration": 3.293146,
     "end_time": "2022-06-21T20:43:57.632996",
     "exception": false,
     "start_time": "2022-06-21T20:43:54.339850",
     "status": "completed"
    },
    "tags": []
   },
   "outputs": [
    {
     "data": {
      "text/html": [
       "<style type='text/css'>\n",
       ".datatable table.frame { margin-bottom: 0; }\n",
       ".datatable table.frame thead { border-bottom: none; }\n",
       ".datatable table.frame tr.coltypes td {  color: #FFFFFF;  line-height: 6px;  padding: 0 0.5em;}\n",
       ".datatable .bool    { background: #DDDD99; }\n",
       ".datatable .object  { background: #565656; }\n",
       ".datatable .int     { background: #5D9E5D; }\n",
       ".datatable .float   { background: #4040CC; }\n",
       ".datatable .str     { background: #CC4040; }\n",
       ".datatable .time    { background: #40CC40; }\n",
       ".datatable .row_index {  background: var(--jp-border-color3);  border-right: 1px solid var(--jp-border-color0);  color: var(--jp-ui-font-color3);  font-size: 9px;}\n",
       ".datatable .frame tbody td { text-align: left; }\n",
       ".datatable .frame tr.coltypes .row_index {  background: var(--jp-border-color0);}\n",
       ".datatable th:nth-child(2) { padding-left: 12px; }\n",
       ".datatable .hellipsis {  color: var(--jp-cell-editor-border-color);}\n",
       ".datatable .vellipsis {  background: var(--jp-layout-color0);  color: var(--jp-cell-editor-border-color);}\n",
       ".datatable .na {  color: var(--jp-cell-editor-border-color);  font-size: 80%;}\n",
       ".datatable .sp {  opacity: 0.25;}\n",
       ".datatable .footer { font-size: 9px; }\n",
       ".datatable .frame_dimensions {  background: var(--jp-border-color3);  border-top: 1px solid var(--jp-border-color0);  color: var(--jp-ui-font-color3);  display: inline-block;  opacity: 0.6;  padding: 1px 10px 1px 5px;}\n",
       "</style>\n"
      ],
      "text/plain": [
       "<IPython.core.display.HTML object>"
      ]
     },
     "metadata": {},
     "output_type": "display_data"
    }
   ],
   "source": [
    "import numpy as np\n",
    "import pandas as pd\n",
    "import matplotlib.pyplot as plt\n",
    "import seaborn as sns\n",
    "from scipy import stats\n",
    "import joblib\n",
    "from skompiler import skompile\n",
    "import pydotplus\n",
    "from sklearn.ensemble import RandomForestClassifier, GradientBoostingClassifier, VotingClassifier, AdaBoostClassifier\n",
    "from sklearn.model_selection import validation_curve\n",
    "from sklearn.linear_model import LogisticRegression\n",
    "from catboost import CatBoostClassifier\n",
    "from xgboost import XGBClassifier\n",
    "from lightgbm import LGBMClassifier\n",
    "from sklearn.neighbors import KNeighborsClassifier\n",
    "from skompiler import skompile\n",
    "import graphviz\n",
    "from sklearn.svm import SVC\n",
    "from sklearn.metrics import confusion_matrix, classification_report, plot_roc_curve\n",
    "from sklearn.tree import DecisionTreeClassifier\n",
    "from sklearn.preprocessing import StandardScaler\n",
    "from sklearn.metrics import accuracy_score, precision_score, recall_score, f1_score,roc_auc_score\n",
    "from sklearn.model_selection import train_test_split\n",
    "from sklearn.model_selection import GridSearchCV, cross_validate\n",
    "from sklearn.preprocessing import LabelEncoder\n",
    "import warnings\n",
    "from sklearn.exceptions import ConvergenceWarning\n",
    "from sklearn.metrics import plot_confusion_matrix\n",
    "warnings.simplefilter(action=\"ignore\")\n",
    "warnings.simplefilter(action='ignore', category=FutureWarning)\n",
    "warnings.simplefilter(\"ignore\", category=ConvergenceWarning)\n",
    "warnings.simplefilter(action='ignore', category=FutureWarning)\n",
    "warnings.simplefilter(\"ignore\", category=ConvergenceWarning)\n",
    "pd.set_option('display.max_columns', None)\n",
    "pd.set_option('display.width', 500)\n",
    "pd.set_option('display.max_rows', None)\n",
    "pd.set_option('display.float_format', lambda x: '%.3f' % x)"
   ]
  },
  {
   "cell_type": "markdown",
   "id": "3c6b770a",
   "metadata": {
    "papermill": {
     "duration": 0.02804,
     "end_time": "2022-06-21T20:43:57.690524",
     "exception": false,
     "start_time": "2022-06-21T20:43:57.662484",
     "status": "completed"
    },
    "tags": []
   },
   "source": [
    "# FORMÜLLER:"
   ]
  },
  {
   "cell_type": "code",
   "execution_count": 6,
   "id": "46c3d4c1",
   "metadata": {
    "execution": {
     "iopub.execute_input": "2022-06-21T20:43:57.750037Z",
     "iopub.status.busy": "2022-06-21T20:43:57.749606Z",
     "iopub.status.idle": "2022-06-21T20:43:57.807752Z",
     "shell.execute_reply": "2022-06-21T20:43:57.806366Z"
    },
    "papermill": {
     "duration": 0.091567,
     "end_time": "2022-06-21T20:43:57.810396",
     "exception": false,
     "start_time": "2022-06-21T20:43:57.718829",
     "status": "completed"
    },
    "tags": []
   },
   "outputs": [],
   "source": [
    "# keşifçi veri analizi için:\n",
    "def check_df(dataframe, head=5):\n",
    "    print(\"##################### Shape #####################\")\n",
    "    print(dataframe.shape)\n",
    "    print(\"##################### Types #####################\")\n",
    "    print(dataframe.dtypes)\n",
    "    print(\"##################### Head #####################\")\n",
    "    print(dataframe.head())\n",
    "    print(\"##################### Tail #####################\")\n",
    "    print(dataframe.tail())\n",
    "    print(\"##################### NA #####################\")\n",
    "    print(dataframe.isnull().sum())\n",
    "    print(\"##################### Quantiles #####################\")\n",
    "    print(dataframe.quantile([0, 0.05, 0.50, 0.95, 0.99, 1]).T)\n",
    "\n",
    "# kategorik değişken özetleme\n",
    "def cat_summary(dataframe, col_name, plot=False):\n",
    "    print(pd.DataFrame({col_name: dataframe[col_name].value_counts(),\n",
    "                        \"Ratio\": 100 * dataframe[col_name].value_counts() / len(dataframe)}))\n",
    "    print(\"##########################################\")\n",
    "    if plot:\n",
    "        sns.countplot(x=dataframe[col_name], data=dataframe)\n",
    "        plt.show(block=True)\n",
    "\n",
    "# numerik değişken özetleme\n",
    "def num_summary(dataframe, numerical_col, plot=False):\n",
    "    quantiles = [0.05, 0.10, 0.20, 0.30, 0.40, 0.50, 0.60, 0.70, 0.80, 0.90, 0.95, 0.99]\n",
    "    print(dataframe[numerical_col].describe(quantiles).T)\n",
    "\n",
    "    if plot:\n",
    "        dataframe[numerical_col].hist(bins=20)\n",
    "        plt.xlabel(numerical_col)\n",
    "        plt.title(numerical_col)\n",
    "        plt.show(block=True)\n",
    "\n",
    "# bağımlı değişkeni sayısal değişken ile özetleme\n",
    "def target_summary_with_num(dataframe, target, numerical_col):\n",
    "    print(dataframe.groupby(target).agg({numerical_col: \"mean\"}), end=\"\\n\\n\\n\")\n",
    "\n",
    "# bağımlı değişkeni kategorik değişken ile özetleme\n",
    "def target_summary_with_cat(dataframe, target, categorical_col):\n",
    "    print(pd.DataFrame({\"TARGET_MEAN\": dataframe.groupby(categorical_col)[target].mean()}), end=\"\\n\\n\\n\")\n",
    "\n",
    "# korelasyon matrisini oluşturma\n",
    "def correlation_matrix(df, cols):\n",
    "    fig = plt.gcf()\n",
    "    fig.set_size_inches(10, 8)\n",
    "    plt.xticks(fontsize=10)\n",
    "    plt.yticks(fontsize=10)\n",
    "    fig = sns.heatmap(df[cols].corr(), annot=True, linewidths=0.5, annot_kws={'size': 12}, linecolor='w', cmap='RdBu')\n",
    "    plt.show(block=True)\n",
    "\n",
    "# kategorik, numerik, numerik görünümlü kategorik ve kategorik ama kardinal değişkenleri düzenleme\n",
    "def grab_col_names(dataframe, cat_th=10, car_th=20):\n",
    "    \"\"\"\n",
    "\n",
    "    Veri setindeki kategorik, numerik ve kategorik fakat kardinal değişkenlerin isimlerini verir.\n",
    "    Not: Kategorik değişkenlerin içerisine numerik görünümlü kategorik değişkenler de dahildir.\n",
    "\n",
    "    Parameters\n",
    "    ------\n",
    "        dataframe: dataframe\n",
    "                Değişken isimleri alınmak istenilen dataframe\n",
    "        cat_th: int, optional\n",
    "                numerik fakat kategorik olan değişkenler için sınıf eşik değeri\n",
    "        car_th: int, optinal\n",
    "                kategorik fakat kardinal değişkenler için sınıf eşik değeri\n",
    "\n",
    "    Returns\n",
    "    ------\n",
    "        cat_cols: list\n",
    "                Kategorik değişken listesi\n",
    "        num_cols: list\n",
    "                Numerik değişken listesi\n",
    "        cat_but_car: list\n",
    "                Kategorik görünümlü kardinal değişken listesi\n",
    "\n",
    "    Examples\n",
    "    ------\n",
    "        import seaborn as sns\n",
    "        df = sns.load_dataset(\"iris\")\n",
    "        print(grab_col_names(df))\n",
    "\n",
    "\n",
    "    Notes\n",
    "    ------\n",
    "        cat_cols + num_cols + cat_but_car = toplam değişken sayısı\n",
    "        num_but_cat cat_cols'un içerisinde.\n",
    "        Return olan 3 liste toplamı toplam değişken sayısına eşittir: cat_cols + num_cols + cat_but_car = değişken sayısı\n",
    "\n",
    "    \"\"\"\n",
    "\n",
    "    # cat_cols, cat_but_car\n",
    "    cat_cols = [col for col in dataframe.columns if dataframe[col].dtypes == \"O\"]\n",
    "    num_but_cat = [col for col in dataframe.columns if dataframe[col].nunique() < cat_th and dataframe[col].dtypes != \"O\"]\n",
    "    cat_but_car = [col for col in dataframe.columns if dataframe[col].nunique() > car_th and dataframe[col].dtypes == \"O\"]\n",
    "    cat_cols = cat_cols + num_but_cat\n",
    "    cat_cols = [col for col in cat_cols if col not in cat_but_car]\n",
    "\n",
    "    # num_cols\n",
    "    num_cols = [col for col in dataframe.columns if dataframe[col].dtypes != \"O\"]\n",
    "    num_cols = [col for col in num_cols if col not in num_but_cat]\n",
    "\n",
    "    return cat_cols, num_cols, cat_but_car\n",
    "\n",
    "def check_skew(df_skew, column):\n",
    "    skew = stats.skew(df_skew[column])\n",
    "    skewtest = stats.skewtest(df_skew[column])\n",
    "    plt.title('Distribution of ' + column)\n",
    "    sns.distplot(df_skew[column], color=\"g\")\n",
    "    print(\"{}'s: Skew: {}, : {}\".format(column, skew, skewtest))\n",
    "    return\n",
    "\n",
    "# aykırı değer üst ve alt limitlerini bulma\n",
    "def outlier_thresholds(dataframe, col_name, q1=0.25, q3=0.75):\n",
    "    quartile1 = dataframe[col_name].quantile(q1)\n",
    "    quartile3 = dataframe[col_name].quantile(q3)\n",
    "    interquantile_range = quartile3 - quartile1\n",
    "    up_limit = quartile3 + 1.5 * interquantile_range\n",
    "    low_limit = quartile1 - 1.5 * interquantile_range\n",
    "    return low_limit, up_limit\n",
    "\n",
    "# aykırı değerleri üst ve alt limitler ile değiştirme\n",
    "def replace_with_thresholds(dataframe, variable):\n",
    "    low_limit, up_limit = outlier_thresholds(dataframe, variable)\n",
    "    dataframe.loc[(dataframe[variable] < low_limit), variable] = low_limit\n",
    "    dataframe.loc[(dataframe[variable] > up_limit), variable] = up_limit\n",
    "\n",
    "# aykırı gözlem var mı diye bakma\n",
    "def check_outlier(dataframe, col_name, q1=0.25, q3=0.75):\n",
    "    low_limit, up_limit = outlier_thresholds(dataframe, col_name, q1, q3)\n",
    "    if dataframe[(dataframe[col_name] > up_limit) | (dataframe[col_name] < low_limit)].any(axis=None):\n",
    "        return True\n",
    "    else:\n",
    "        return False\n",
    "\n",
    "# eksik değerleri bulmak için\n",
    "def missing_values_table(dataframe, na_name=False):\n",
    "    na_columns = [col for col in dataframe.columns if dataframe[col].isnull().sum() > 0]\n",
    "    n_miss = dataframe[na_columns].isnull().sum().sort_values(ascending=False)\n",
    "    ratio = (dataframe[na_columns].isnull().sum() / dataframe.shape[0] * 100).sort_values(ascending=False)\n",
    "    missing_df = pd.concat([n_miss, np.round(ratio, 2)], axis=1, keys=['n_miss', 'ratio'])\n",
    "    print(missing_df, end=\"\\n\")\n",
    "    if na_name:\n",
    "        return na_columns\n",
    "    \n",
    "# Eksik Değerlerin Bağımlı Değişken ile İlişkisinin İncelenmesi    \n",
    "def missing_vs_target(dataframe, target, na_columns): \n",
    "    temp_df = dataframe.copy()\n",
    "    for col in na_columns:\n",
    "        temp_df[col + '_NA_FLAG'] = np.where(temp_df[col].isnull(), 1, 0)\n",
    "    na_flags = temp_df.loc[:, temp_df.columns.str.contains(\"_NA_\")].columns\n",
    "    for col in na_flags:\n",
    "        print(pd.DataFrame({\"TARGET_MEAN\": temp_df.groupby(col)[target].mean(),\n",
    "                            \"Count\": temp_df.groupby(col)[target].count()}), end=\"\\n\\n\\n\")\n",
    "# LABEL ENCODING\n",
    "def label_encoder(dataframe, binary_col):\n",
    "    labelencoder = LabelEncoder()\n",
    "    dataframe[binary_col] = labelencoder.fit_transform(dataframe[binary_col])\n",
    "    return dataframe\n",
    "\n",
    "# one hot encoder işlemi yani kategorikleri 0 ve 1 düzenine geçirme\n",
    "# kullanırken drop_first = True olmalı ki dummy değişken tuzağına takılmayalım\n",
    "def one_hot_encoder(dataframe, categorical_cols, drop_first=False):\n",
    "    dataframe = pd.get_dummies(dataframe, columns=categorical_cols, drop_first=drop_first)\n",
    "    return dataframe\n",
    "\n",
    "# tüm modeller için sonuçları inceleyebilmek için base_model fonksiyonu:\n",
    "def base_models(X, y, scoring=\"roc_auc\"):\n",
    "    print(\"Base Models....\")\n",
    "    classifiers = [('LR', LogisticRegression()),\n",
    "                   ('KNN', KNeighborsClassifier()),\n",
    "                   (\"SVC\", SVC()),\n",
    "                   (\"CART\", DecisionTreeClassifier()),\n",
    "                   (\"RF\", RandomForestClassifier()),\n",
    "                   ('Adaboost', AdaBoostClassifier()),\n",
    "                   ('GBM', GradientBoostingClassifier()),\n",
    "                   ('XGBoost', XGBClassifier(use_label_encoder=False, eval_metric='logloss')),\n",
    "                   ('LightGBM', LGBMClassifier()),\n",
    "                   ]\n",
    "\n",
    "    for name, classifier in classifiers:\n",
    "        cv_results = cross_validate(classifier, X, y, cv=3, scoring=scoring)\n",
    "        print(f\"{scoring}: {round(cv_results['test_score'].mean(), 4)} ({name}) \")\n",
    "\n",
    "# en iyi modeli kurmak için gerekli olan hiperparametreleri bulmak için:\n",
    "def hyperparameter_optimization(X, y, cv=3, scoring=\"roc_auc\"):\n",
    "    print(\"Hyperparameter Optimization....\")\n",
    "    best_models = {}\n",
    "    for name, classifier, params in classifiers:\n",
    "        print(f\"########## {name} ##########\")\n",
    "        cv_results = cross_validate(classifier, X, y, cv=cv, scoring=scoring)\n",
    "        print(f\"{scoring} (Before): {round(cv_results['test_score'].mean(), 4)}\")\n",
    "\n",
    "        gs_best = GridSearchCV(classifier, params, cv=cv, n_jobs=-1, verbose=False).fit(X, y)\n",
    "        final_model = classifier.set_params(**gs_best.best_params_)\n",
    "\n",
    "        cv_results = cross_validate(final_model, X, y, cv=cv, scoring=scoring)\n",
    "        print(f\"{scoring} (After): {round(cv_results['test_score'].mean(), 4)}\")\n",
    "        print(f\"{name} best params: {gs_best.best_params_}\", end=\"\\n\\n\")\n",
    "        best_models[name] = final_model\n",
    "    return best_models\n",
    "\n",
    "# en iyi parametrelerle en uygun sınıflandırma yöntemini bulma\n",
    "def voting_classifier(best_models, X, y):\n",
    "    print(\"Voting Classifier...\")\n",
    "\n",
    "    voting_clf = VotingClassifier(estimators=[('KNN', best_models[\"KNN\"]),\n",
    "                                              ('RF', best_models[\"RF\"]),\n",
    "                                              ('LightGBM', best_models[\"LightGBM\"])],\n",
    "                                  voting='soft').fit(X, y)\n",
    "\n",
    "    cv_results = cross_validate(voting_clf, X, y, cv=3, scoring=[\"accuracy\", \"f1\", \"roc_auc\"])\n",
    "    print(f\"Accuracy: {cv_results['test_accuracy'].mean()}\")\n",
    "    print(f\"F1Score: {cv_results['test_f1'].mean()}\")\n",
    "    print(f\"ROC_AUC: {cv_results['test_roc_auc'].mean()}\")\n",
    "    return voting_clf\n",
    "\n",
    "def plot_confusion_matrix(y, y_pred):\n",
    "    acc = round(accuracy_score(y, y_pred), 2)\n",
    "    cm = confusion_matrix(y, y_pred)\n",
    "    sns.heatmap(cm, annot=True, fmt=\".0f\")\n",
    "    plt.xlabel('y_pred')\n",
    "    plt.ylabel('y')\n",
    "    plt.title('Accuracy Score: {0}'.format(acc), size=10)\n",
    "    plt.show()\n",
    "    \n",
    "def val_curve_params(model, X, y, param_name, param_range, scoring=\"roc_auc\", cv=10):\n",
    "    train_score, test_score = validation_curve(\n",
    "        model, X=X, y=y, param_name=param_name, param_range=param_range, scoring=scoring, cv=cv)\n",
    "\n",
    "    mean_train_score = np.mean(train_score, axis=1)\n",
    "    mean_test_score = np.mean(test_score, axis=1)\n",
    "\n",
    "    plt.plot(param_range, mean_train_score,\n",
    "             label=\"Training Score\", color='b')\n",
    "\n",
    "    plt.plot(param_range, mean_test_score,\n",
    "             label=\"Validation Score\", color='g')\n",
    "\n",
    "    plt.title(f\"Validation Curve for {type(model).__name__}\")\n",
    "    plt.xlabel(f\"Number of {param_name}\")\n",
    "    plt.ylabel(f\"{scoring}\")\n",
    "    plt.tight_layout()\n",
    "    plt.legend(loc='best')\n",
    "    plt.show(block=True)\n"
   ]
  },
  {
   "cell_type": "markdown",
   "id": "2635cc9b",
   "metadata": {
    "papermill": {
     "duration": 0.027836,
     "end_time": "2022-06-21T20:43:57.866714",
     "exception": false,
     "start_time": "2022-06-21T20:43:57.838878",
     "status": "completed"
    },
    "tags": []
   },
   "source": [
    "# VERİYİ HAZIRLAMA"
   ]
  },
  {
   "cell_type": "code",
   "execution_count": 7,
   "id": "5002c74b",
   "metadata": {
    "execution": {
     "iopub.execute_input": "2022-06-21T20:43:57.925366Z",
     "iopub.status.busy": "2022-06-21T20:43:57.924554Z",
     "iopub.status.idle": "2022-06-21T20:43:58.605747Z",
     "shell.execute_reply": "2022-06-21T20:43:58.604531Z"
    },
    "papermill": {
     "duration": 0.7135,
     "end_time": "2022-06-21T20:43:58.608368",
     "exception": false,
     "start_time": "2022-06-21T20:43:57.894868",
     "status": "completed"
    },
    "tags": []
   },
   "outputs": [],
   "source": [
    "traindf = pd.read_csv(\"../input/airline-passenger-satisfaction/train.csv\")\n",
    "testdf = pd.read_csv(\"../input/airline-passenger-satisfaction/test.csv\")"
   ]
  },
  {
   "cell_type": "code",
   "execution_count": 8,
   "id": "cba34b01",
   "metadata": {
    "execution": {
     "iopub.execute_input": "2022-06-21T20:43:58.668963Z",
     "iopub.status.busy": "2022-06-21T20:43:58.667859Z",
     "iopub.status.idle": "2022-06-21T20:43:58.676296Z",
     "shell.execute_reply": "2022-06-21T20:43:58.675108Z"
    },
    "papermill": {
     "duration": 0.040849,
     "end_time": "2022-06-21T20:43:58.678228",
     "exception": false,
     "start_time": "2022-06-21T20:43:58.637379",
     "status": "completed"
    },
    "tags": []
   },
   "outputs": [
    {
     "data": {
      "text/plain": [
       "Index(['Unnamed: 0', 'id', 'Gender', 'Customer Type', 'Age', 'Type of Travel', 'Class', 'Flight Distance', 'Inflight wifi service', 'Departure/Arrival time convenient', 'Ease of Online booking', 'Gate location', 'Food and drink', 'Online boarding', 'Seat comfort', 'Inflight entertainment', 'On-board service', 'Leg room service', 'Baggage handling', 'Checkin service', 'Inflight service', 'Cleanliness', 'Departure Delay in Minutes', 'Arrival Delay in Minutes', 'satisfaction'], dtype='object')"
      ]
     },
     "execution_count": 8,
     "metadata": {},
     "output_type": "execute_result"
    }
   ],
   "source": [
    "traindf.columns"
   ]
  },
  {
   "cell_type": "code",
   "execution_count": 9,
   "id": "54589d4f",
   "metadata": {
    "execution": {
     "iopub.execute_input": "2022-06-21T20:43:58.737024Z",
     "iopub.status.busy": "2022-06-21T20:43:58.736559Z",
     "iopub.status.idle": "2022-06-21T20:43:58.743722Z",
     "shell.execute_reply": "2022-06-21T20:43:58.742613Z"
    },
    "papermill": {
     "duration": 0.039544,
     "end_time": "2022-06-21T20:43:58.745991",
     "exception": false,
     "start_time": "2022-06-21T20:43:58.706447",
     "status": "completed"
    },
    "tags": []
   },
   "outputs": [
    {
     "data": {
      "text/plain": [
       "Index(['Unnamed: 0', 'id', 'Gender', 'Customer Type', 'Age', 'Type of Travel', 'Class', 'Flight Distance', 'Inflight wifi service', 'Departure/Arrival time convenient', 'Ease of Online booking', 'Gate location', 'Food and drink', 'Online boarding', 'Seat comfort', 'Inflight entertainment', 'On-board service', 'Leg room service', 'Baggage handling', 'Checkin service', 'Inflight service', 'Cleanliness', 'Departure Delay in Minutes', 'Arrival Delay in Minutes', 'satisfaction'], dtype='object')"
      ]
     },
     "execution_count": 9,
     "metadata": {},
     "output_type": "execute_result"
    }
   ],
   "source": [
    "testdf.columns"
   ]
  },
  {
   "cell_type": "code",
   "execution_count": 10,
   "id": "24067944",
   "metadata": {
    "execution": {
     "iopub.execute_input": "2022-06-21T20:43:58.805541Z",
     "iopub.status.busy": "2022-06-21T20:43:58.805044Z",
     "iopub.status.idle": "2022-06-21T20:43:58.857096Z",
     "shell.execute_reply": "2022-06-21T20:43:58.856010Z"
    },
    "papermill": {
     "duration": 0.08513,
     "end_time": "2022-06-21T20:43:58.859832",
     "exception": false,
     "start_time": "2022-06-21T20:43:58.774702",
     "status": "completed"
    },
    "tags": []
   },
   "outputs": [],
   "source": [
    "df = pd.concat([traindf, testdf], sort=False)"
   ]
  },
  {
   "cell_type": "code",
   "execution_count": 11,
   "id": "10032a3c",
   "metadata": {
    "execution": {
     "iopub.execute_input": "2022-06-21T20:43:58.919502Z",
     "iopub.status.busy": "2022-06-21T20:43:58.919017Z",
     "iopub.status.idle": "2022-06-21T20:43:58.991624Z",
     "shell.execute_reply": "2022-06-21T20:43:58.990554Z"
    },
    "papermill": {
     "duration": 0.105279,
     "end_time": "2022-06-21T20:43:58.994117",
     "exception": false,
     "start_time": "2022-06-21T20:43:58.888838",
     "status": "completed"
    },
    "tags": []
   },
   "outputs": [],
   "source": [
    "df.drop(\"Unnamed: 0\", axis=1,inplace=True)"
   ]
  },
  {
   "cell_type": "code",
   "execution_count": 12,
   "id": "42510a41",
   "metadata": {
    "execution": {
     "iopub.execute_input": "2022-06-21T20:43:59.053280Z",
     "iopub.status.busy": "2022-06-21T20:43:59.052741Z",
     "iopub.status.idle": "2022-06-21T20:43:59.143600Z",
     "shell.execute_reply": "2022-06-21T20:43:59.142458Z"
    },
    "papermill": {
     "duration": 0.1237,
     "end_time": "2022-06-21T20:43:59.146528",
     "exception": false,
     "start_time": "2022-06-21T20:43:59.022828",
     "status": "completed"
    },
    "tags": []
   },
   "outputs": [],
   "source": [
    "df[\"satisfaction\"] = df[\"satisfaction\"].apply(lambda x: 1 if x == \"satisfied\" else 0)"
   ]
  },
  {
   "cell_type": "markdown",
   "id": "e5c9b614",
   "metadata": {
    "papermill": {
     "duration": 0.028802,
     "end_time": "2022-06-21T20:43:59.204146",
     "exception": false,
     "start_time": "2022-06-21T20:43:59.175344",
     "status": "completed"
    },
    "tags": []
   },
   "source": [
    "Inflight wifi service için \"0:Not\" denmektedir. bu aslında boş - uygulanamaz olan değerlerin 0 ile doldurulduğu anlamına gelmektedir. \n",
    "0'ları nan değere dönüştürüp medyan ile dolduruyorum:"
   ]
  },
  {
   "cell_type": "code",
   "execution_count": 13,
   "id": "57e839c5",
   "metadata": {
    "execution": {
     "iopub.execute_input": "2022-06-21T20:43:59.264178Z",
     "iopub.status.busy": "2022-06-21T20:43:59.263714Z",
     "iopub.status.idle": "2022-06-21T20:43:59.360578Z",
     "shell.execute_reply": "2022-06-21T20:43:59.359139Z"
    },
    "papermill": {
     "duration": 0.12991,
     "end_time": "2022-06-21T20:43:59.363250",
     "exception": false,
     "start_time": "2022-06-21T20:43:59.233340",
     "status": "completed"
    },
    "tags": []
   },
   "outputs": [],
   "source": [
    "zero_columns = [col for col in df.columns if (df[col].min() == 0 and col in ['Inflight wifi service'])]"
   ]
  },
  {
   "cell_type": "code",
   "execution_count": 14,
   "id": "5253233e",
   "metadata": {
    "execution": {
     "iopub.execute_input": "2022-06-21T20:43:59.425268Z",
     "iopub.status.busy": "2022-06-21T20:43:59.424734Z",
     "iopub.status.idle": "2022-06-21T20:43:59.431560Z",
     "shell.execute_reply": "2022-06-21T20:43:59.430548Z"
    },
    "papermill": {
     "duration": 0.041596,
     "end_time": "2022-06-21T20:43:59.434047",
     "exception": false,
     "start_time": "2022-06-21T20:43:59.392451",
     "status": "completed"
    },
    "tags": []
   },
   "outputs": [
    {
     "data": {
      "text/plain": [
       "['Inflight wifi service']"
      ]
     },
     "execution_count": 14,
     "metadata": {},
     "output_type": "execute_result"
    }
   ],
   "source": [
    "zero_columns"
   ]
  },
  {
   "cell_type": "code",
   "execution_count": 15,
   "id": "81b37a3f",
   "metadata": {
    "execution": {
     "iopub.execute_input": "2022-06-21T20:43:59.494805Z",
     "iopub.status.busy": "2022-06-21T20:43:59.494122Z",
     "iopub.status.idle": "2022-06-21T20:43:59.512160Z",
     "shell.execute_reply": "2022-06-21T20:43:59.511175Z"
    },
    "papermill": {
     "duration": 0.051559,
     "end_time": "2022-06-21T20:43:59.514747",
     "exception": false,
     "start_time": "2022-06-21T20:43:59.463188",
     "status": "completed"
    },
    "tags": []
   },
   "outputs": [],
   "source": [
    "for col in zero_columns:\n",
    "    df[col] = np.where(df[col] == 0, np.nan, df[col])"
   ]
  },
  {
   "cell_type": "code",
   "execution_count": 16,
   "id": "13647fb2",
   "metadata": {
    "execution": {
     "iopub.execute_input": "2022-06-21T20:43:59.576941Z",
     "iopub.status.busy": "2022-06-21T20:43:59.576318Z",
     "iopub.status.idle": "2022-06-21T20:43:59.589976Z",
     "shell.execute_reply": "2022-06-21T20:43:59.589113Z"
    },
    "papermill": {
     "duration": 0.048071,
     "end_time": "2022-06-21T20:43:59.592622",
     "exception": false,
     "start_time": "2022-06-21T20:43:59.544551",
     "status": "completed"
    },
    "tags": []
   },
   "outputs": [],
   "source": [
    "for col in zero_columns:\n",
    "    df.loc[df[col].isnull(), col] = df[col].median()"
   ]
  },
  {
   "cell_type": "markdown",
   "id": "d940fafa",
   "metadata": {
    "papermill": {
     "duration": 0.028646,
     "end_time": "2022-06-21T20:43:59.650377",
     "exception": false,
     "start_time": "2022-06-21T20:43:59.621731",
     "status": "completed"
    },
    "tags": []
   },
   "source": [
    "# KEŞİFÇİ VERİ ANALİZİ"
   ]
  },
  {
   "cell_type": "code",
   "execution_count": 17,
   "id": "2157ec77",
   "metadata": {
    "execution": {
     "iopub.execute_input": "2022-06-21T20:43:59.710283Z",
     "iopub.status.busy": "2022-06-21T20:43:59.709811Z",
     "iopub.status.idle": "2022-06-21T20:43:59.870693Z",
     "shell.execute_reply": "2022-06-21T20:43:59.869646Z"
    },
    "papermill": {
     "duration": 0.19388,
     "end_time": "2022-06-21T20:43:59.873325",
     "exception": false,
     "start_time": "2022-06-21T20:43:59.679445",
     "status": "completed"
    },
    "tags": []
   },
   "outputs": [
    {
     "name": "stdout",
     "output_type": "stream",
     "text": [
      "##################### Shape #####################\n",
      "(129880, 24)\n",
      "##################### Types #####################\n",
      "id                                     int64\n",
      "Gender                                object\n",
      "Customer Type                         object\n",
      "Age                                    int64\n",
      "Type of Travel                        object\n",
      "Class                                 object\n",
      "Flight Distance                        int64\n",
      "Inflight wifi service                float64\n",
      "Departure/Arrival time convenient      int64\n",
      "Ease of Online booking                 int64\n",
      "Gate location                          int64\n",
      "Food and drink                         int64\n",
      "Online boarding                        int64\n",
      "Seat comfort                           int64\n",
      "Inflight entertainment                 int64\n",
      "On-board service                       int64\n",
      "Leg room service                       int64\n",
      "Baggage handling                       int64\n",
      "Checkin service                        int64\n",
      "Inflight service                       int64\n",
      "Cleanliness                            int64\n",
      "Departure Delay in Minutes             int64\n",
      "Arrival Delay in Minutes             float64\n",
      "satisfaction                           int64\n",
      "dtype: object\n",
      "##################### Head #####################\n",
      "       id  Gender      Customer Type  Age   Type of Travel     Class  Flight Distance  Inflight wifi service  Departure/Arrival time convenient  Ease of Online booking  Gate location  Food and drink  Online boarding  Seat comfort  Inflight entertainment  On-board service  Leg room service  Baggage handling  Checkin service  Inflight service  Cleanliness  Departure Delay in Minutes  Arrival Delay in Minutes  satisfaction\n",
      "0   70172    Male     Loyal Customer   13  Personal Travel  Eco Plus              460                  3.000                                  4                       3              1               5                3             5                       5                 4                 3                 4                4                 5            5                          25                    18.000             0\n",
      "1    5047    Male  disloyal Customer   25  Business travel  Business              235                  3.000                                  2                       3              3               1                3             1                       1                 1                 5                 3                1                 4            1                           1                     6.000             0\n",
      "2  110028  Female     Loyal Customer   26  Business travel  Business             1142                  2.000                                  2                       2              2               5                5             5                       5                 4                 3                 4                4                 4            5                           0                     0.000             1\n",
      "3   24026  Female     Loyal Customer   25  Business travel  Business              562                  2.000                                  5                       5              5               2                2             2                       2                 2                 5                 3                1                 4            2                          11                     9.000             0\n",
      "4  119299    Male     Loyal Customer   61  Business travel  Business              214                  3.000                                  3                       3              3               4                5             5                       3                 3                 4                 4                3                 3            3                           0                     0.000             1\n",
      "##################### Tail #####################\n",
      "          id  Gender      Customer Type  Age   Type of Travel     Class  Flight Distance  Inflight wifi service  Departure/Arrival time convenient  Ease of Online booking  Gate location  Food and drink  Online boarding  Seat comfort  Inflight entertainment  On-board service  Leg room service  Baggage handling  Checkin service  Inflight service  Cleanliness  Departure Delay in Minutes  Arrival Delay in Minutes  satisfaction\n",
      "25971  78463    Male  disloyal Customer   34  Business travel  Business              526                  3.000                                  3                       3              1               4                3             4                       4                 3                 2                 4                4                 5            4                           0                     0.000             0\n",
      "25972  71167    Male     Loyal Customer   23  Business travel  Business              646                  4.000                                  4                       4              4               4                4             4                       4                 4                 5                 5                5                 5            4                           0                     0.000             1\n",
      "25973  37675  Female     Loyal Customer   17  Personal Travel       Eco              828                  2.000                                  5                       1              5               2                1             2                       2                 4                 3                 4                5                 4            2                           0                     0.000             0\n",
      "25974  90086    Male     Loyal Customer   14  Business travel  Business             1127                  3.000                                  3                       3              3               4                4             4                       4                 3                 2                 5                4                 5            4                           0                     0.000             1\n",
      "25975  34799  Female     Loyal Customer   42  Personal Travel       Eco              264                  2.000                                  5                       2              5               4                2             2                       1                 1                 2                 1                1                 1            1                           0                     0.000             0\n",
      "##################### NA #####################\n",
      "id                                     0\n",
      "Gender                                 0\n",
      "Customer Type                          0\n",
      "Age                                    0\n",
      "Type of Travel                         0\n",
      "Class                                  0\n",
      "Flight Distance                        0\n",
      "Inflight wifi service                  0\n",
      "Departure/Arrival time convenient      0\n",
      "Ease of Online booking                 0\n",
      "Gate location                          0\n",
      "Food and drink                         0\n",
      "Online boarding                        0\n",
      "Seat comfort                           0\n",
      "Inflight entertainment                 0\n",
      "On-board service                       0\n",
      "Leg room service                       0\n",
      "Baggage handling                       0\n",
      "Checkin service                        0\n",
      "Inflight service                       0\n",
      "Cleanliness                            0\n",
      "Departure Delay in Minutes             0\n",
      "Arrival Delay in Minutes             393\n",
      "satisfaction                           0\n",
      "dtype: int64\n",
      "##################### Quantiles #####################\n",
      "                                   0.000    0.050     0.500      0.950      0.990      1.000\n",
      "id                                 1.000 6494.950 64940.500 123386.050 128581.210 129880.000\n",
      "Age                                7.000   15.000    40.000     64.000     70.000     85.000\n",
      "Flight Distance                   31.000  176.950   844.000   3380.000   3884.000   4983.000\n",
      "Inflight wifi service              1.000    1.000     3.000      5.000      5.000      5.000\n",
      "Departure/Arrival time convenient  0.000    0.000     3.000      5.000      5.000      5.000\n",
      "Ease of Online booking             0.000    1.000     3.000      5.000      5.000      5.000\n",
      "Gate location                      0.000    1.000     3.000      5.000      5.000      5.000\n",
      "Food and drink                     0.000    1.000     3.000      5.000      5.000      5.000\n",
      "Online boarding                    0.000    1.000     3.000      5.000      5.000      5.000\n",
      "Seat comfort                       0.000    1.000     4.000      5.000      5.000      5.000\n",
      "Inflight entertainment             0.000    1.000     4.000      5.000      5.000      5.000\n",
      "On-board service                   0.000    1.000     4.000      5.000      5.000      5.000\n",
      "Leg room service                   0.000    1.000     4.000      5.000      5.000      5.000\n",
      "Baggage handling                   1.000    1.000     4.000      5.000      5.000      5.000\n",
      "Checkin service                    0.000    1.000     3.000      5.000      5.000      5.000\n",
      "Inflight service                   0.000    1.000     4.000      5.000      5.000      5.000\n",
      "Cleanliness                        0.000    1.000     3.000      5.000      5.000      5.000\n",
      "Departure Delay in Minutes         0.000    0.000     0.000     77.000    180.000   1592.000\n",
      "Arrival Delay in Minutes           0.000    0.000     0.000     78.000    182.000   1584.000\n",
      "satisfaction                       0.000    0.000     0.000      1.000      1.000      1.000\n"
     ]
    }
   ],
   "source": [
    "# Genel resim\n",
    "check_df(df)"
   ]
  },
  {
   "cell_type": "markdown",
   "id": "d211786e",
   "metadata": {
    "papermill": {
     "duration": 0.02967,
     "end_time": "2022-06-21T20:43:59.932885",
     "exception": false,
     "start_time": "2022-06-21T20:43:59.903215",
     "status": "completed"
    },
    "tags": []
   },
   "source": [
    "shape: 129880, 24\n",
    "\n",
    "Arrival Delay in Minutes içinde 393 adet boş değişken var. eksik gözlem analizi yapılmalı.\n",
    "\n",
    "Puanlamaların bulunduğu değerlendirme değişkenleri int olarak görünüyor. cat_cols, num_cols, cat_but_car düzenlemesi yapılmalı.\n",
    "\n",
    "Uçuş mesafeleri ve kalkış-biniş gecikme dakikaları için aykırı değer gözlemi yapılmalı. "
   ]
  },
  {
   "cell_type": "code",
   "execution_count": 18,
   "id": "f464541d",
   "metadata": {
    "execution": {
     "iopub.execute_input": "2022-06-21T20:43:59.993699Z",
     "iopub.status.busy": "2022-06-21T20:43:59.993011Z",
     "iopub.status.idle": "2022-06-21T20:44:00.131518Z",
     "shell.execute_reply": "2022-06-21T20:44:00.130550Z"
    },
    "papermill": {
     "duration": 0.1718,
     "end_time": "2022-06-21T20:44:00.134105",
     "exception": false,
     "start_time": "2022-06-21T20:43:59.962305",
     "status": "completed"
    },
    "tags": []
   },
   "outputs": [],
   "source": [
    "# kategorik, numerik, numerik görünümlü kategorik ve kategorik ama kardinal değişkenleri düzenleme\n",
    "cat_cols, num_cols, cat_but_car = grab_col_names(df, cat_th=7, car_th=20)"
   ]
  },
  {
   "cell_type": "code",
   "execution_count": 19,
   "id": "914d7c22",
   "metadata": {
    "execution": {
     "iopub.execute_input": "2022-06-21T20:44:00.195220Z",
     "iopub.status.busy": "2022-06-21T20:44:00.194585Z",
     "iopub.status.idle": "2022-06-21T20:44:00.201174Z",
     "shell.execute_reply": "2022-06-21T20:44:00.200216Z"
    },
    "papermill": {
     "duration": 0.039447,
     "end_time": "2022-06-21T20:44:00.203082",
     "exception": false,
     "start_time": "2022-06-21T20:44:00.163635",
     "status": "completed"
    },
    "tags": []
   },
   "outputs": [
    {
     "data": {
      "text/plain": [
       "['Gender',\n",
       " 'Customer Type',\n",
       " 'Type of Travel',\n",
       " 'Class',\n",
       " 'Inflight wifi service',\n",
       " 'Departure/Arrival time convenient',\n",
       " 'Ease of Online booking',\n",
       " 'Gate location',\n",
       " 'Food and drink',\n",
       " 'Online boarding',\n",
       " 'Seat comfort',\n",
       " 'Inflight entertainment',\n",
       " 'On-board service',\n",
       " 'Leg room service',\n",
       " 'Baggage handling',\n",
       " 'Checkin service',\n",
       " 'Inflight service',\n",
       " 'Cleanliness',\n",
       " 'satisfaction']"
      ]
     },
     "execution_count": 19,
     "metadata": {},
     "output_type": "execute_result"
    }
   ],
   "source": [
    "cat_cols"
   ]
  },
  {
   "cell_type": "markdown",
   "id": "93c7bbcc",
   "metadata": {
    "papermill": {
     "duration": 0.028913,
     "end_time": "2022-06-21T20:44:00.261313",
     "exception": false,
     "start_time": "2022-06-21T20:44:00.232400",
     "status": "completed"
    },
    "tags": []
   },
   "source": [
    "işlem düzgünlüğü için değişkenlerde bululunan boşlukları _ ile değiştirilmeli"
   ]
  },
  {
   "cell_type": "code",
   "execution_count": 20,
   "id": "15695f4a",
   "metadata": {
    "execution": {
     "iopub.execute_input": "2022-06-21T20:44:00.321615Z",
     "iopub.status.busy": "2022-06-21T20:44:00.320968Z",
     "iopub.status.idle": "2022-06-21T20:44:00.328285Z",
     "shell.execute_reply": "2022-06-21T20:44:00.326910Z"
    },
    "papermill": {
     "duration": 0.040164,
     "end_time": "2022-06-21T20:44:00.330575",
     "exception": false,
     "start_time": "2022-06-21T20:44:00.290411",
     "status": "completed"
    },
    "tags": []
   },
   "outputs": [
    {
     "data": {
      "text/plain": [
       "['id',\n",
       " 'Age',\n",
       " 'Flight Distance',\n",
       " 'Departure Delay in Minutes',\n",
       " 'Arrival Delay in Minutes']"
      ]
     },
     "execution_count": 20,
     "metadata": {},
     "output_type": "execute_result"
    }
   ],
   "source": [
    "num_cols"
   ]
  },
  {
   "cell_type": "markdown",
   "id": "311be9f2",
   "metadata": {
    "papermill": {
     "duration": 0.028857,
     "end_time": "2022-06-21T20:44:00.389502",
     "exception": false,
     "start_time": "2022-06-21T20:44:00.360645",
     "status": "completed"
    },
    "tags": []
   },
   "source": [
    "id içinde çoklama olmadığı için her satır benzersiz bir kişiye aittir. numerik sayılmayacak bu id değişkeni gereksizdir. kaldırılmalı."
   ]
  },
  {
   "cell_type": "code",
   "execution_count": 21,
   "id": "5489edf0",
   "metadata": {
    "execution": {
     "iopub.execute_input": "2022-06-21T20:44:00.450772Z",
     "iopub.status.busy": "2022-06-21T20:44:00.450024Z",
     "iopub.status.idle": "2022-06-21T20:44:00.475523Z",
     "shell.execute_reply": "2022-06-21T20:44:00.474563Z"
    },
    "papermill": {
     "duration": 0.058811,
     "end_time": "2022-06-21T20:44:00.478087",
     "exception": false,
     "start_time": "2022-06-21T20:44:00.419276",
     "status": "completed"
    },
    "tags": []
   },
   "outputs": [],
   "source": [
    "df.drop(\"id\", axis=1,inplace=True)"
   ]
  },
  {
   "cell_type": "code",
   "execution_count": 22,
   "id": "c3b1dee6",
   "metadata": {
    "execution": {
     "iopub.execute_input": "2022-06-21T20:44:00.539711Z",
     "iopub.status.busy": "2022-06-21T20:44:00.539015Z",
     "iopub.status.idle": "2022-06-21T20:44:00.683079Z",
     "shell.execute_reply": "2022-06-21T20:44:00.676079Z"
    },
    "papermill": {
     "duration": 0.178401,
     "end_time": "2022-06-21T20:44:00.686360",
     "exception": false,
     "start_time": "2022-06-21T20:44:00.507959",
     "status": "completed"
    },
    "tags": []
   },
   "outputs": [],
   "source": [
    "# id olmadan kategorik, numerik, numerik görünümlü kategorik ve kategorik ama kardinal değişkenleri düzenleme\n",
    "cat_cols, num_cols, cat_but_car = grab_col_names(df, cat_th=7, car_th=20)"
   ]
  },
  {
   "cell_type": "code",
   "execution_count": 23,
   "id": "df34bdfc",
   "metadata": {
    "execution": {
     "iopub.execute_input": "2022-06-21T20:44:00.764659Z",
     "iopub.status.busy": "2022-06-21T20:44:00.763620Z",
     "iopub.status.idle": "2022-06-21T20:44:01.068670Z",
     "shell.execute_reply": "2022-06-21T20:44:01.067574Z"
    },
    "papermill": {
     "duration": 0.343754,
     "end_time": "2022-06-21T20:44:01.072194",
     "exception": false,
     "start_time": "2022-06-21T20:44:00.728440",
     "status": "completed"
    },
    "tags": []
   },
   "outputs": [
    {
     "name": "stdout",
     "output_type": "stream",
     "text": [
      "        Gender  Ratio\n",
      "Female   65899 50.738\n",
      "Male     63981 49.262\n",
      "##########################################\n",
      "                   Customer Type  Ratio\n",
      "Loyal Customer            106100 81.691\n",
      "disloyal Customer          23780 18.309\n",
      "##########################################\n",
      "                 Type of Travel  Ratio\n",
      "Business travel           89693 69.058\n",
      "Personal Travel           40187 30.942\n",
      "##########################################\n",
      "          Class  Ratio\n",
      "Business  62160 47.860\n",
      "Eco       58309 44.895\n",
      "Eco Plus   9411  7.246\n",
      "##########################################\n",
      "       Inflight wifi service  Ratio\n",
      "3.000                  36101 27.796\n",
      "2.000                  32320 24.885\n",
      "4.000                  24775 19.075\n",
      "1.000                  22328 17.191\n",
      "5.000                  14356 11.053\n",
      "##########################################\n",
      "   Departure/Arrival time convenient  Ratio\n",
      "4                              31880 24.546\n",
      "5                              27998 21.557\n",
      "3                              22378 17.230\n",
      "2                              21534 16.580\n",
      "1                              19409 14.944\n",
      "0                               6681  5.144\n",
      "##########################################\n",
      "   Ease of Online booking  Ratio\n",
      "3                   30393 23.401\n",
      "2                   30051 23.138\n",
      "4                   24444 18.820\n",
      "1                   21886 16.851\n",
      "5                   17424 13.415\n",
      "0                    5682  4.375\n",
      "##########################################\n",
      "   Gate location  Ratio\n",
      "3          35717 27.500\n",
      "4          30466 23.457\n",
      "2          24296 18.706\n",
      "1          21991 16.932\n",
      "5          17409 13.404\n",
      "0              1  0.001\n",
      "##########################################\n",
      "   Food and drink  Ratio\n",
      "4           30563 23.532\n",
      "5           27957 21.525\n",
      "3           27794 21.400\n",
      "2           27383 21.083\n",
      "1           16051 12.358\n",
      "0             132  0.102\n",
      "##########################################\n",
      "   Online boarding  Ratio\n",
      "4            38468 29.618\n",
      "3            27117 20.879\n",
      "5            26020 20.034\n",
      "2            21934 16.888\n",
      "1            13261 10.210\n",
      "0             3080  2.371\n",
      "##########################################\n",
      "   Seat comfort  Ratio\n",
      "4         39756 30.610\n",
      "5         33158 25.530\n",
      "3         23328 17.961\n",
      "2         18529 14.266\n",
      "1         15108 11.632\n",
      "0             1  0.001\n",
      "##########################################\n",
      "   Inflight entertainment  Ratio\n",
      "4                   36791 28.327\n",
      "5                   31544 24.287\n",
      "3                   23884 18.389\n",
      "2                   21968 16.914\n",
      "1                   15675 12.069\n",
      "0                      18  0.014\n",
      "##########################################\n",
      "   On-board service  Ratio\n",
      "4             38703 29.799\n",
      "5             29492 22.707\n",
      "3             28542 21.976\n",
      "2             18351 14.129\n",
      "1             14787 11.385\n",
      "0                 5  0.004\n",
      "##########################################\n",
      "   Leg room service  Ratio\n",
      "4             35886 27.630\n",
      "5             30905 23.795\n",
      "3             25056 19.292\n",
      "2             24540 18.894\n",
      "1             12895  9.928\n",
      "0               598  0.460\n",
      "##########################################\n",
      "   Baggage handling  Ratio\n",
      "4             46761 36.003\n",
      "5             33878 26.084\n",
      "3             25851 19.904\n",
      "2             14362 11.058\n",
      "1              9028  6.951\n",
      "##########################################\n",
      "   Checkin service  Ratio\n",
      "4            36333 27.974\n",
      "3            35453 27.297\n",
      "5            25883 19.928\n",
      "1            16108 12.402\n",
      "2            16102 12.398\n",
      "0                1  0.001\n",
      "##########################################\n",
      "   Inflight service  Ratio\n",
      "4             47323 36.436\n",
      "5             34066 26.229\n",
      "3             25316 19.492\n",
      "2             14308 11.016\n",
      "1              8862  6.823\n",
      "0                 5  0.004\n",
      "##########################################\n",
      "   Cleanliness  Ratio\n",
      "4        33969 26.154\n",
      "3        30639 23.590\n",
      "5        28416 21.879\n",
      "2        20113 15.486\n",
      "1        16729 12.880\n",
      "0           14  0.011\n",
      "##########################################\n",
      "   satisfaction  Ratio\n",
      "0         73452 56.554\n",
      "1         56428 43.446\n",
      "##########################################\n"
     ]
    }
   ],
   "source": [
    "# Kategorik değişkenlerin incelenmesi\n",
    "for col in cat_cols:\n",
    "    cat_summary(df, col)"
   ]
  },
  {
   "cell_type": "code",
   "execution_count": 24,
   "id": "65e03008",
   "metadata": {
    "execution": {
     "iopub.execute_input": "2022-06-21T20:44:01.174078Z",
     "iopub.status.busy": "2022-06-21T20:44:01.173653Z",
     "iopub.status.idle": "2022-06-21T20:44:02.492987Z",
     "shell.execute_reply": "2022-06-21T20:44:02.492101Z"
    },
    "papermill": {
     "duration": 1.372709,
     "end_time": "2022-06-21T20:44:02.495253",
     "exception": false,
     "start_time": "2022-06-21T20:44:01.122544",
     "status": "completed"
    },
    "tags": []
   },
   "outputs": [
    {
     "name": "stdout",
     "output_type": "stream",
     "text": [
      "count   129880.000\n",
      "mean        39.428\n",
      "std         15.119\n",
      "min          7.000\n",
      "5%          15.000\n",
      "10%         20.000\n",
      "20%         25.000\n",
      "30%         30.000\n",
      "40%         36.000\n",
      "50%         40.000\n",
      "60%         44.000\n",
      "70%         49.000\n",
      "80%         54.000\n",
      "90%         59.000\n",
      "95%         64.000\n",
      "99%         70.000\n",
      "max         85.000\n",
      "Name: Age, dtype: float64\n"
     ]
    },
    {
     "data": {
      "image/png": "[encoded data removed]",
      "text/plain": [
       "<Figure size 432x288 with 1 Axes>"
      ]
     },
     "metadata": {
      "needs_background": "light"
     },
     "output_type": "display_data"
    },
    {
     "name": "stdout",
     "output_type": "stream",
     "text": [
      "count   129880.000\n",
      "mean      1190.316\n",
      "std        997.452\n",
      "min         31.000\n",
      "5%         176.950\n",
      "10%        236.000\n",
      "20%        358.000\n",
      "30%        483.000\n",
      "40%        631.000\n",
      "50%        844.000\n",
      "60%       1050.000\n",
      "70%       1513.000\n",
      "80%       2072.000\n",
      "90%       2751.000\n",
      "95%       3380.000\n",
      "99%       3884.000\n",
      "max       4983.000\n",
      "Name: Flight Distance, dtype: float64\n"
     ]
    },
    {
     "data": {
      "image/png": "[encoded data removed]",
      "text/plain": [
       "<Figure size 432x288 with 1 Axes>"
      ]
     },
     "metadata": {
      "needs_background": "light"
     },
     "output_type": "display_data"
    },
    {
     "name": "stdout",
     "output_type": "stream",
     "text": [
      "count   129880.000\n",
      "mean        14.714\n",
      "std         38.071\n",
      "min          0.000\n",
      "5%           0.000\n",
      "10%          0.000\n",
      "20%          0.000\n",
      "30%          0.000\n",
      "40%          0.000\n",
      "50%          0.000\n",
      "60%          2.000\n",
      "70%          8.000\n",
      "80%         19.000\n",
      "90%         44.000\n",
      "95%         77.000\n",
      "99%        180.000\n",
      "max       1592.000\n",
      "Name: Departure Delay in Minutes, dtype: float64\n"
     ]
    },
    {
     "data": {
      "image/png": "[encoded data removed]",
      "text/plain": [
       "<Figure size 432x288 with 1 Axes>"
      ]
     },
     "metadata": {
      "needs_background": "light"
     },
     "output_type": "display_data"
    },
    {
     "name": "stdout",
     "output_type": "stream",
     "text": [
      "count   129487.000\n",
      "mean        15.091\n",
      "std         38.466\n",
      "min          0.000\n",
      "5%           0.000\n",
      "10%          0.000\n",
      "20%          0.000\n",
      "30%          0.000\n",
      "40%          0.000\n",
      "50%          0.000\n",
      "60%          2.000\n",
      "70%          9.000\n",
      "80%         19.000\n",
      "90%         44.000\n",
      "95%         78.000\n",
      "99%        182.000\n",
      "max       1584.000\n",
      "Name: Arrival Delay in Minutes, dtype: float64\n"
     ]
    },
    {
     "data": {
      "image/png": "[encoded data removed]",
      "text/plain": [
       "<Figure size 432x288 with 1 Axes>"
      ]
     },
     "metadata": {
      "needs_background": "light"
     },
     "output_type": "display_data"
    }
   ],
   "source": [
    "# Sayısal değişkenlerin incelenmesi\n",
    "df[num_cols].describe().T\n",
    "for col in num_cols:\n",
    "    num_summary(df, col, plot=True)"
   ]
  },
  {
   "cell_type": "code",
   "execution_count": 25,
   "id": "433b72a4",
   "metadata": {
    "execution": {
     "iopub.execute_input": "2022-06-21T20:44:02.561031Z",
     "iopub.status.busy": "2022-06-21T20:44:02.559499Z",
     "iopub.status.idle": "2022-06-21T20:44:02.897678Z",
     "shell.execute_reply": "2022-06-21T20:44:02.896310Z"
    },
    "papermill": {
     "duration": 0.373763,
     "end_time": "2022-06-21T20:44:02.900231",
     "exception": false,
     "start_time": "2022-06-21T20:44:02.526468",
     "status": "completed"
    },
    "tags": []
   },
   "outputs": [
    {
     "data": {
      "image/png": "[encoded data removed]",
      "text/plain": [
       "<Figure size 720x576 with 2 Axes>"
      ]
     },
     "metadata": {
      "needs_background": "light"
     },
     "output_type": "display_data"
    }
   ],
   "source": [
    "# Sayısal değişkenkerin birbirleri ile korelasyonu\n",
    "correlation_matrix(df, num_cols)"
   ]
  },
  {
   "cell_type": "markdown",
   "id": "5224701d",
   "metadata": {
    "papermill": {
     "duration": 0.031473,
     "end_time": "2022-06-21T20:44:02.965421",
     "exception": false,
     "start_time": "2022-06-21T20:44:02.933948",
     "status": "completed"
    },
    "tags": []
   },
   "source": [
    "Departure Delay in Minutes ve Arrival Delay in Minutes birbiri ile yüksek korelasyonlu görünüyor. Zaten gecikmeli kalkış yapan bir uçak gecikmeli iniş yapacaktır.  "
   ]
  },
  {
   "cell_type": "code",
   "execution_count": 26,
   "id": "ac6075e2",
   "metadata": {
    "execution": {
     "iopub.execute_input": "2022-06-21T20:44:03.031503Z",
     "iopub.status.busy": "2022-06-21T20:44:03.031021Z",
     "iopub.status.idle": "2022-06-21T20:44:03.061121Z",
     "shell.execute_reply": "2022-06-21T20:44:03.059973Z"
    },
    "papermill": {
     "duration": 0.065777,
     "end_time": "2022-06-21T20:44:03.063670",
     "exception": false,
     "start_time": "2022-06-21T20:44:02.997893",
     "status": "completed"
    },
    "tags": []
   },
   "outputs": [
    {
     "name": "stdout",
     "output_type": "stream",
     "text": [
      "                Age\n",
      "satisfaction       \n",
      "0            37.651\n",
      "1            41.741\n",
      "\n",
      "\n",
      "              Flight Distance\n",
      "satisfaction                 \n",
      "0                     929.715\n",
      "1                    1529.539\n",
      "\n",
      "\n",
      "              Departure Delay in Minutes\n",
      "satisfaction                            \n",
      "0                                 16.407\n",
      "1                                 12.510\n",
      "\n",
      "\n",
      "              Arrival Delay in Minutes\n",
      "satisfaction                          \n",
      "0                               17.056\n",
      "1                               12.534\n",
      "\n",
      "\n"
     ]
    }
   ],
   "source": [
    "# Target ile sayısal değişkenlerin incelemesi\n",
    "for col in num_cols:\n",
    "    target_summary_with_num(df, \"satisfaction\", col)"
   ]
  },
  {
   "cell_type": "markdown",
   "id": "abdc8cd4",
   "metadata": {
    "papermill": {
     "duration": 0.032099,
     "end_time": "2022-06-21T20:44:03.129222",
     "exception": false,
     "start_time": "2022-06-21T20:44:03.097123",
     "status": "completed"
    },
    "tags": []
   },
   "source": [
    "yaş ortalaması daha büyük olduğunda memnuniyet artıyor gibi görünüyor. ancak 0-1ler için yaş ortalamasına bakıldığında çok da bir fark yok gibi görünüyor. yeni yaş değişkenleri oluşturup tekrar incelenmeli. arrival ve departure gecikmelerine bakılınca doğal olarak gecikme az olduğunda memnuniyetin arttığını söyleyebiliriz. uzak mesafelerde de memnuniyet var gibi görünüyor."
   ]
  },
  {
   "cell_type": "markdown",
   "id": "08e45388",
   "metadata": {
    "papermill": {
     "duration": 0.033426,
     "end_time": "2022-06-21T20:44:03.196902",
     "exception": false,
     "start_time": "2022-06-21T20:44:03.163476",
     "status": "completed"
    },
    "tags": []
   },
   "source": [
    "eksik gözlem analizi:"
   ]
  },
  {
   "cell_type": "code",
   "execution_count": 27,
   "id": "c5def5bd",
   "metadata": {
    "execution": {
     "iopub.execute_input": "2022-06-21T20:44:03.267089Z",
     "iopub.status.busy": "2022-06-21T20:44:03.265763Z",
     "iopub.status.idle": "2022-06-21T20:44:03.336615Z",
     "shell.execute_reply": "2022-06-21T20:44:03.335378Z"
    },
    "papermill": {
     "duration": 0.108424,
     "end_time": "2022-06-21T20:44:03.339026",
     "exception": false,
     "start_time": "2022-06-21T20:44:03.230602",
     "status": "completed"
    },
    "tags": []
   },
   "outputs": [
    {
     "data": {
      "text/plain": [
       "True"
      ]
     },
     "execution_count": 27,
     "metadata": {},
     "output_type": "execute_result"
    }
   ],
   "source": [
    "df.isnull().values.any()  # eksik gozlem var mı yok mu sorgusu\n"
   ]
  },
  {
   "cell_type": "code",
   "execution_count": 28,
   "id": "582b25ab",
   "metadata": {
    "execution": {
     "iopub.execute_input": "2022-06-21T20:44:03.406354Z",
     "iopub.status.busy": "2022-06-21T20:44:03.405901Z",
     "iopub.status.idle": "2022-06-21T20:44:03.476704Z",
     "shell.execute_reply": "2022-06-21T20:44:03.475485Z"
    },
    "papermill": {
     "duration": 0.107148,
     "end_time": "2022-06-21T20:44:03.479055",
     "exception": false,
     "start_time": "2022-06-21T20:44:03.371907",
     "status": "completed"
    },
    "tags": []
   },
   "outputs": [
    {
     "data": {
      "text/plain": [
       "Gender                                 0\n",
       "Customer Type                          0\n",
       "Age                                    0\n",
       "Type of Travel                         0\n",
       "Class                                  0\n",
       "Flight Distance                        0\n",
       "Inflight wifi service                  0\n",
       "Departure/Arrival time convenient      0\n",
       "Ease of Online booking                 0\n",
       "Gate location                          0\n",
       "Food and drink                         0\n",
       "Online boarding                        0\n",
       "Seat comfort                           0\n",
       "Inflight entertainment                 0\n",
       "On-board service                       0\n",
       "Leg room service                       0\n",
       "Baggage handling                       0\n",
       "Checkin service                        0\n",
       "Inflight service                       0\n",
       "Cleanliness                            0\n",
       "Departure Delay in Minutes             0\n",
       "Arrival Delay in Minutes             393\n",
       "satisfaction                           0\n",
       "dtype: int64"
      ]
     },
     "execution_count": 28,
     "metadata": {},
     "output_type": "execute_result"
    }
   ],
   "source": [
    "df.isnull().sum()  # degiskenlerdeki eksik deger sayisi. hangisinde kaç eksik değer var\n"
   ]
  },
  {
   "cell_type": "code",
   "execution_count": 29,
   "id": "8fc0e726",
   "metadata": {
    "execution": {
     "iopub.execute_input": "2022-06-21T20:44:03.548000Z",
     "iopub.status.busy": "2022-06-21T20:44:03.547409Z",
     "iopub.status.idle": "2022-06-21T20:44:03.619432Z",
     "shell.execute_reply": "2022-06-21T20:44:03.618185Z"
    },
    "papermill": {
     "duration": 0.110352,
     "end_time": "2022-06-21T20:44:03.622512",
     "exception": false,
     "start_time": "2022-06-21T20:44:03.512160",
     "status": "completed"
    },
    "tags": []
   },
   "outputs": [
    {
     "data": {
      "text/plain": [
       "393"
      ]
     },
     "execution_count": 29,
     "metadata": {},
     "output_type": "execute_result"
    }
   ],
   "source": [
    "df.isnull().sum().sum()  # veri setindeki toplam eksik deger sayisi\n"
   ]
  },
  {
   "cell_type": "code",
   "execution_count": 30,
   "id": "026c6a32",
   "metadata": {
    "execution": {
     "iopub.execute_input": "2022-06-21T20:44:03.703019Z",
     "iopub.status.busy": "2022-06-21T20:44:03.701895Z",
     "iopub.status.idle": "2022-06-21T20:44:03.776862Z",
     "shell.execute_reply": "2022-06-21T20:44:03.775867Z"
    },
    "papermill": {
     "duration": 0.11155,
     "end_time": "2022-06-21T20:44:03.779086",
     "exception": false,
     "start_time": "2022-06-21T20:44:03.667536",
     "status": "completed"
    },
    "tags": []
   },
   "outputs": [
    {
     "data": {
      "text/plain": [
       "Arrival Delay in Minutes            0.303\n",
       "Gender                              0.000\n",
       "Seat comfort                        0.000\n",
       "Departure Delay in Minutes          0.000\n",
       "Cleanliness                         0.000\n",
       "Inflight service                    0.000\n",
       "Checkin service                     0.000\n",
       "Baggage handling                    0.000\n",
       "Leg room service                    0.000\n",
       "On-board service                    0.000\n",
       "Inflight entertainment              0.000\n",
       "Online boarding                     0.000\n",
       "Customer Type                       0.000\n",
       "Food and drink                      0.000\n",
       "Gate location                       0.000\n",
       "Ease of Online booking              0.000\n",
       "Departure/Arrival time convenient   0.000\n",
       "Inflight wifi service               0.000\n",
       "Flight Distance                     0.000\n",
       "Class                               0.000\n",
       "Type of Travel                      0.000\n",
       "Age                                 0.000\n",
       "satisfaction                        0.000\n",
       "dtype: float64"
      ]
     },
     "execution_count": 30,
     "metadata": {},
     "output_type": "execute_result"
    }
   ],
   "source": [
    "(df.isnull().sum() / df.shape[0] * 100).sort_values(ascending=False)  # eksik değerlerin tüm verilere oranı\n"
   ]
  },
  {
   "cell_type": "code",
   "execution_count": 31,
   "id": "e3a8e59f",
   "metadata": {
    "execution": {
     "iopub.execute_input": "2022-06-21T20:44:03.849670Z",
     "iopub.status.busy": "2022-06-21T20:44:03.848350Z",
     "iopub.status.idle": "2022-06-21T20:44:03.919016Z",
     "shell.execute_reply": "2022-06-21T20:44:03.917929Z"
    },
    "papermill": {
     "duration": 0.109083,
     "end_time": "2022-06-21T20:44:03.921710",
     "exception": false,
     "start_time": "2022-06-21T20:44:03.812627",
     "status": "completed"
    },
    "tags": []
   },
   "outputs": [],
   "source": [
    "na_cols = [col for col in df.columns if df[col].isnull().sum() > 0]  # eksik değer sayısı 0'dan büyük olan değişkenler"
   ]
  },
  {
   "cell_type": "markdown",
   "id": "e89080d8",
   "metadata": {
    "papermill": {
     "duration": 0.033526,
     "end_time": "2022-06-21T20:44:03.991537",
     "exception": false,
     "start_time": "2022-06-21T20:44:03.958011",
     "status": "completed"
    },
    "tags": []
   },
   "source": [
    "aykırı gözlem analizi"
   ]
  },
  {
   "cell_type": "code",
   "execution_count": 32,
   "id": "3557249e",
   "metadata": {
    "execution": {
     "iopub.execute_input": "2022-06-21T20:44:04.068306Z",
     "iopub.status.busy": "2022-06-21T20:44:04.066839Z",
     "iopub.status.idle": "2022-06-21T20:44:04.121179Z",
     "shell.execute_reply": "2022-06-21T20:44:04.120179Z"
    },
    "papermill": {
     "duration": 0.097888,
     "end_time": "2022-06-21T20:44:04.124756",
     "exception": false,
     "start_time": "2022-06-21T20:44:04.026868",
     "status": "completed"
    },
    "tags": []
   },
   "outputs": [
    {
     "name": "stdout",
     "output_type": "stream",
     "text": [
      "Age False\n",
      "Flight Distance False\n",
      "Departure Delay in Minutes True\n",
      "Arrival Delay in Minutes True\n"
     ]
    }
   ],
   "source": [
    "for col in num_cols:\n",
    "    print(col, check_outlier(df, col, 0.05, 0.95))"
   ]
  },
  {
   "cell_type": "markdown",
   "id": "f9cceb66",
   "metadata": {
    "papermill": {
     "duration": 0.034338,
     "end_time": "2022-06-21T20:44:04.200361",
     "exception": false,
     "start_time": "2022-06-21T20:44:04.166023",
     "status": "completed"
    },
    "tags": []
   },
   "source": [
    "uçuş mesafelerinde de aykırı değer çıkmasını bekliyordum ancak çıkmadı \n",
    "\n",
    "aykırı değer çıkan değişkenler:\n",
    "\n",
    "Departure Delay in Minutes True\n",
    "\n",
    "Arrival Delay in Minutes True\n"
   ]
  },
  {
   "cell_type": "markdown",
   "id": "5bb6b4b3",
   "metadata": {
    "papermill": {
     "duration": 0.034151,
     "end_time": "2022-06-21T20:44:04.268847",
     "exception": false,
     "start_time": "2022-06-21T20:44:04.234696",
     "status": "completed"
    },
    "tags": []
   },
   "source": [
    "Korelasyon analizi:"
   ]
  },
  {
   "cell_type": "code",
   "execution_count": 33,
   "id": "71b32afb",
   "metadata": {
    "execution": {
     "iopub.execute_input": "2022-06-21T20:44:04.336959Z",
     "iopub.status.busy": "2022-06-21T20:44:04.336256Z",
     "iopub.status.idle": "2022-06-21T20:44:04.515886Z",
     "shell.execute_reply": "2022-06-21T20:44:04.514446Z"
    },
    "papermill": {
     "duration": 0.216628,
     "end_time": "2022-06-21T20:44:04.518473",
     "exception": false,
     "start_time": "2022-06-21T20:44:04.301845",
     "status": "completed"
    },
    "tags": []
   },
   "outputs": [
    {
     "data": {
      "text/html": [
       "<div>\n",
       "<style scoped>\n",
       "    .dataframe tbody tr th:only-of-type {\n",
       "        vertical-align: middle;\n",
       "    }\n",
       "\n",
       "    .dataframe tbody tr th {\n",
       "        vertical-align: top;\n",
       "    }\n",
       "\n",
       "    .dataframe thead th {\n",
       "        text-align: right;\n",
       "    }\n",
       "</style>\n",
       "<table border=\"1\" class=\"dataframe\">\n",
       "  <thead>\n",
       "    <tr style=\"text-align: right;\">\n",
       "      <th></th>\n",
       "      <th>Age</th>\n",
       "      <th>Flight Distance</th>\n",
       "      <th>Inflight wifi service</th>\n",
       "      <th>Departure/Arrival time convenient</th>\n",
       "      <th>Ease of Online booking</th>\n",
       "      <th>Gate location</th>\n",
       "      <th>Food and drink</th>\n",
       "      <th>Online boarding</th>\n",
       "      <th>Seat comfort</th>\n",
       "      <th>Inflight entertainment</th>\n",
       "      <th>On-board service</th>\n",
       "      <th>Leg room service</th>\n",
       "      <th>Baggage handling</th>\n",
       "      <th>Checkin service</th>\n",
       "      <th>Inflight service</th>\n",
       "      <th>Cleanliness</th>\n",
       "      <th>Departure Delay in Minutes</th>\n",
       "      <th>Arrival Delay in Minutes</th>\n",
       "      <th>satisfaction</th>\n",
       "    </tr>\n",
       "  </thead>\n",
       "  <tbody>\n",
       "    <tr>\n",
       "      <th>Age</th>\n",
       "      <td>1.000</td>\n",
       "      <td>0.099</td>\n",
       "      <td>0.010</td>\n",
       "      <td>0.037</td>\n",
       "      <td>0.023</td>\n",
       "      <td>-0.000</td>\n",
       "      <td>0.023</td>\n",
       "      <td>0.208</td>\n",
       "      <td>0.159</td>\n",
       "      <td>0.075</td>\n",
       "      <td>0.057</td>\n",
       "      <td>0.039</td>\n",
       "      <td>-0.048</td>\n",
       "      <td>0.033</td>\n",
       "      <td>-0.051</td>\n",
       "      <td>0.053</td>\n",
       "      <td>-0.009</td>\n",
       "      <td>-0.011</td>\n",
       "      <td>0.134</td>\n",
       "    </tr>\n",
       "    <tr>\n",
       "      <th>Flight Distance</th>\n",
       "      <td>0.099</td>\n",
       "      <td>1.000</td>\n",
       "      <td>0.010</td>\n",
       "      <td>-0.019</td>\n",
       "      <td>0.065</td>\n",
       "      <td>0.006</td>\n",
       "      <td>0.057</td>\n",
       "      <td>0.215</td>\n",
       "      <td>0.158</td>\n",
       "      <td>0.131</td>\n",
       "      <td>0.111</td>\n",
       "      <td>0.135</td>\n",
       "      <td>0.065</td>\n",
       "      <td>0.074</td>\n",
       "      <td>0.059</td>\n",
       "      <td>0.096</td>\n",
       "      <td>0.002</td>\n",
       "      <td>-0.002</td>\n",
       "      <td>0.298</td>\n",
       "    </tr>\n",
       "    <tr>\n",
       "      <th>Inflight wifi service</th>\n",
       "      <td>0.010</td>\n",
       "      <td>0.010</td>\n",
       "      <td>1.000</td>\n",
       "      <td>0.321</td>\n",
       "      <td>0.627</td>\n",
       "      <td>0.354</td>\n",
       "      <td>0.140</td>\n",
       "      <td>0.435</td>\n",
       "      <td>0.136</td>\n",
       "      <td>0.210</td>\n",
       "      <td>0.124</td>\n",
       "      <td>0.153</td>\n",
       "      <td>0.116</td>\n",
       "      <td>0.062</td>\n",
       "      <td>0.106</td>\n",
       "      <td>0.144</td>\n",
       "      <td>-0.025</td>\n",
       "      <td>-0.028</td>\n",
       "      <td>0.387</td>\n",
       "    </tr>\n",
       "    <tr>\n",
       "      <th>Departure/Arrival time convenient</th>\n",
       "      <td>0.037</td>\n",
       "      <td>-0.019</td>\n",
       "      <td>0.321</td>\n",
       "      <td>1.000</td>\n",
       "      <td>0.438</td>\n",
       "      <td>0.448</td>\n",
       "      <td>0.001</td>\n",
       "      <td>0.072</td>\n",
       "      <td>0.009</td>\n",
       "      <td>-0.008</td>\n",
       "      <td>0.067</td>\n",
       "      <td>0.011</td>\n",
       "      <td>0.071</td>\n",
       "      <td>0.091</td>\n",
       "      <td>0.072</td>\n",
       "      <td>0.010</td>\n",
       "      <td>0.001</td>\n",
       "      <td>-0.001</td>\n",
       "      <td>-0.054</td>\n",
       "    </tr>\n",
       "    <tr>\n",
       "      <th>Ease of Online booking</th>\n",
       "      <td>0.023</td>\n",
       "      <td>0.065</td>\n",
       "      <td>0.627</td>\n",
       "      <td>0.438</td>\n",
       "      <td>1.000</td>\n",
       "      <td>0.460</td>\n",
       "      <td>0.031</td>\n",
       "      <td>0.405</td>\n",
       "      <td>0.029</td>\n",
       "      <td>0.047</td>\n",
       "      <td>0.039</td>\n",
       "      <td>0.109</td>\n",
       "      <td>0.039</td>\n",
       "      <td>0.009</td>\n",
       "      <td>0.035</td>\n",
       "      <td>0.015</td>\n",
       "      <td>-0.005</td>\n",
       "      <td>-0.007</td>\n",
       "      <td>0.169</td>\n",
       "    </tr>\n",
       "    <tr>\n",
       "      <th>Gate location</th>\n",
       "      <td>-0.000</td>\n",
       "      <td>0.006</td>\n",
       "      <td>0.354</td>\n",
       "      <td>0.448</td>\n",
       "      <td>0.460</td>\n",
       "      <td>1.000</td>\n",
       "      <td>-0.003</td>\n",
       "      <td>0.003</td>\n",
       "      <td>0.003</td>\n",
       "      <td>0.003</td>\n",
       "      <td>-0.029</td>\n",
       "      <td>-0.005</td>\n",
       "      <td>0.001</td>\n",
       "      <td>-0.039</td>\n",
       "      <td>0.000</td>\n",
       "      <td>-0.006</td>\n",
       "      <td>0.006</td>\n",
       "      <td>0.006</td>\n",
       "      <td>-0.003</td>\n",
       "    </tr>\n",
       "    <tr>\n",
       "      <th>Food and drink</th>\n",
       "      <td>0.023</td>\n",
       "      <td>0.057</td>\n",
       "      <td>0.140</td>\n",
       "      <td>0.001</td>\n",
       "      <td>0.031</td>\n",
       "      <td>-0.003</td>\n",
       "      <td>1.000</td>\n",
       "      <td>0.234</td>\n",
       "      <td>0.576</td>\n",
       "      <td>0.623</td>\n",
       "      <td>0.057</td>\n",
       "      <td>0.033</td>\n",
       "      <td>0.035</td>\n",
       "      <td>0.085</td>\n",
       "      <td>0.035</td>\n",
       "      <td>0.658</td>\n",
       "      <td>-0.029</td>\n",
       "      <td>-0.032</td>\n",
       "      <td>0.211</td>\n",
       "    </tr>\n",
       "    <tr>\n",
       "      <th>Online boarding</th>\n",
       "      <td>0.208</td>\n",
       "      <td>0.215</td>\n",
       "      <td>0.435</td>\n",
       "      <td>0.072</td>\n",
       "      <td>0.405</td>\n",
       "      <td>0.003</td>\n",
       "      <td>0.234</td>\n",
       "      <td>1.000</td>\n",
       "      <td>0.419</td>\n",
       "      <td>0.284</td>\n",
       "      <td>0.154</td>\n",
       "      <td>0.123</td>\n",
       "      <td>0.084</td>\n",
       "      <td>0.204</td>\n",
       "      <td>0.074</td>\n",
       "      <td>0.329</td>\n",
       "      <td>-0.019</td>\n",
       "      <td>-0.023</td>\n",
       "      <td>0.502</td>\n",
       "    </tr>\n",
       "    <tr>\n",
       "      <th>Seat comfort</th>\n",
       "      <td>0.159</td>\n",
       "      <td>0.158</td>\n",
       "      <td>0.136</td>\n",
       "      <td>0.009</td>\n",
       "      <td>0.029</td>\n",
       "      <td>0.003</td>\n",
       "      <td>0.576</td>\n",
       "      <td>0.419</td>\n",
       "      <td>1.000</td>\n",
       "      <td>0.612</td>\n",
       "      <td>0.131</td>\n",
       "      <td>0.104</td>\n",
       "      <td>0.075</td>\n",
       "      <td>0.190</td>\n",
       "      <td>0.069</td>\n",
       "      <td>0.680</td>\n",
       "      <td>-0.028</td>\n",
       "      <td>-0.031</td>\n",
       "      <td>0.349</td>\n",
       "    </tr>\n",
       "    <tr>\n",
       "      <th>Inflight entertainment</th>\n",
       "      <td>0.075</td>\n",
       "      <td>0.131</td>\n",
       "      <td>0.210</td>\n",
       "      <td>-0.008</td>\n",
       "      <td>0.047</td>\n",
       "      <td>0.003</td>\n",
       "      <td>0.623</td>\n",
       "      <td>0.284</td>\n",
       "      <td>0.612</td>\n",
       "      <td>1.000</td>\n",
       "      <td>0.419</td>\n",
       "      <td>0.300</td>\n",
       "      <td>0.379</td>\n",
       "      <td>0.120</td>\n",
       "      <td>0.406</td>\n",
       "      <td>0.693</td>\n",
       "      <td>-0.027</td>\n",
       "      <td>-0.030</td>\n",
       "      <td>0.398</td>\n",
       "    </tr>\n",
       "    <tr>\n",
       "      <th>On-board service</th>\n",
       "      <td>0.057</td>\n",
       "      <td>0.111</td>\n",
       "      <td>0.124</td>\n",
       "      <td>0.067</td>\n",
       "      <td>0.039</td>\n",
       "      <td>-0.029</td>\n",
       "      <td>0.057</td>\n",
       "      <td>0.154</td>\n",
       "      <td>0.131</td>\n",
       "      <td>0.419</td>\n",
       "      <td>1.000</td>\n",
       "      <td>0.358</td>\n",
       "      <td>0.520</td>\n",
       "      <td>0.245</td>\n",
       "      <td>0.552</td>\n",
       "      <td>0.122</td>\n",
       "      <td>-0.030</td>\n",
       "      <td>-0.035</td>\n",
       "      <td>0.322</td>\n",
       "    </tr>\n",
       "    <tr>\n",
       "      <th>Leg room service</th>\n",
       "      <td>0.039</td>\n",
       "      <td>0.135</td>\n",
       "      <td>0.153</td>\n",
       "      <td>0.011</td>\n",
       "      <td>0.109</td>\n",
       "      <td>-0.005</td>\n",
       "      <td>0.033</td>\n",
       "      <td>0.123</td>\n",
       "      <td>0.104</td>\n",
       "      <td>0.300</td>\n",
       "      <td>0.358</td>\n",
       "      <td>1.000</td>\n",
       "      <td>0.371</td>\n",
       "      <td>0.153</td>\n",
       "      <td>0.370</td>\n",
       "      <td>0.097</td>\n",
       "      <td>0.015</td>\n",
       "      <td>0.011</td>\n",
       "      <td>0.312</td>\n",
       "    </tr>\n",
       "    <tr>\n",
       "      <th>Baggage handling</th>\n",
       "      <td>-0.048</td>\n",
       "      <td>0.065</td>\n",
       "      <td>0.116</td>\n",
       "      <td>0.071</td>\n",
       "      <td>0.039</td>\n",
       "      <td>0.001</td>\n",
       "      <td>0.035</td>\n",
       "      <td>0.084</td>\n",
       "      <td>0.075</td>\n",
       "      <td>0.379</td>\n",
       "      <td>0.520</td>\n",
       "      <td>0.371</td>\n",
       "      <td>1.000</td>\n",
       "      <td>0.235</td>\n",
       "      <td>0.629</td>\n",
       "      <td>0.097</td>\n",
       "      <td>-0.004</td>\n",
       "      <td>-0.008</td>\n",
       "      <td>0.249</td>\n",
       "    </tr>\n",
       "    <tr>\n",
       "      <th>Checkin service</th>\n",
       "      <td>0.033</td>\n",
       "      <td>0.074</td>\n",
       "      <td>0.062</td>\n",
       "      <td>0.091</td>\n",
       "      <td>0.009</td>\n",
       "      <td>-0.039</td>\n",
       "      <td>0.085</td>\n",
       "      <td>0.204</td>\n",
       "      <td>0.190</td>\n",
       "      <td>0.120</td>\n",
       "      <td>0.245</td>\n",
       "      <td>0.153</td>\n",
       "      <td>0.235</td>\n",
       "      <td>1.000</td>\n",
       "      <td>0.238</td>\n",
       "      <td>0.177</td>\n",
       "      <td>-0.019</td>\n",
       "      <td>-0.022</td>\n",
       "      <td>0.237</td>\n",
       "    </tr>\n",
       "    <tr>\n",
       "      <th>Inflight service</th>\n",
       "      <td>-0.051</td>\n",
       "      <td>0.059</td>\n",
       "      <td>0.106</td>\n",
       "      <td>0.072</td>\n",
       "      <td>0.035</td>\n",
       "      <td>0.000</td>\n",
       "      <td>0.035</td>\n",
       "      <td>0.074</td>\n",
       "      <td>0.069</td>\n",
       "      <td>0.406</td>\n",
       "      <td>0.552</td>\n",
       "      <td>0.370</td>\n",
       "      <td>0.629</td>\n",
       "      <td>0.238</td>\n",
       "      <td>1.000</td>\n",
       "      <td>0.090</td>\n",
       "      <td>-0.054</td>\n",
       "      <td>-0.060</td>\n",
       "      <td>0.245</td>\n",
       "    </tr>\n",
       "    <tr>\n",
       "      <th>Cleanliness</th>\n",
       "      <td>0.053</td>\n",
       "      <td>0.096</td>\n",
       "      <td>0.144</td>\n",
       "      <td>0.010</td>\n",
       "      <td>0.015</td>\n",
       "      <td>-0.006</td>\n",
       "      <td>0.658</td>\n",
       "      <td>0.329</td>\n",
       "      <td>0.680</td>\n",
       "      <td>0.693</td>\n",
       "      <td>0.122</td>\n",
       "      <td>0.097</td>\n",
       "      <td>0.097</td>\n",
       "      <td>0.177</td>\n",
       "      <td>0.090</td>\n",
       "      <td>1.000</td>\n",
       "      <td>-0.015</td>\n",
       "      <td>-0.017</td>\n",
       "      <td>0.307</td>\n",
       "    </tr>\n",
       "    <tr>\n",
       "      <th>Departure Delay in Minutes</th>\n",
       "      <td>-0.009</td>\n",
       "      <td>0.002</td>\n",
       "      <td>-0.025</td>\n",
       "      <td>0.001</td>\n",
       "      <td>-0.005</td>\n",
       "      <td>0.006</td>\n",
       "      <td>-0.029</td>\n",
       "      <td>-0.019</td>\n",
       "      <td>-0.028</td>\n",
       "      <td>-0.027</td>\n",
       "      <td>-0.030</td>\n",
       "      <td>0.015</td>\n",
       "      <td>-0.004</td>\n",
       "      <td>-0.019</td>\n",
       "      <td>-0.054</td>\n",
       "      <td>-0.015</td>\n",
       "      <td>1.000</td>\n",
       "      <td>0.965</td>\n",
       "      <td>-0.051</td>\n",
       "    </tr>\n",
       "    <tr>\n",
       "      <th>Arrival Delay in Minutes</th>\n",
       "      <td>-0.011</td>\n",
       "      <td>-0.002</td>\n",
       "      <td>-0.028</td>\n",
       "      <td>-0.001</td>\n",
       "      <td>-0.007</td>\n",
       "      <td>0.006</td>\n",
       "      <td>-0.032</td>\n",
       "      <td>-0.023</td>\n",
       "      <td>-0.031</td>\n",
       "      <td>-0.030</td>\n",
       "      <td>-0.035</td>\n",
       "      <td>0.011</td>\n",
       "      <td>-0.008</td>\n",
       "      <td>-0.022</td>\n",
       "      <td>-0.060</td>\n",
       "      <td>-0.017</td>\n",
       "      <td>0.965</td>\n",
       "      <td>1.000</td>\n",
       "      <td>-0.058</td>\n",
       "    </tr>\n",
       "    <tr>\n",
       "      <th>satisfaction</th>\n",
       "      <td>0.134</td>\n",
       "      <td>0.298</td>\n",
       "      <td>0.387</td>\n",
       "      <td>-0.054</td>\n",
       "      <td>0.169</td>\n",
       "      <td>-0.003</td>\n",
       "      <td>0.211</td>\n",
       "      <td>0.502</td>\n",
       "      <td>0.349</td>\n",
       "      <td>0.398</td>\n",
       "      <td>0.322</td>\n",
       "      <td>0.312</td>\n",
       "      <td>0.249</td>\n",
       "      <td>0.237</td>\n",
       "      <td>0.245</td>\n",
       "      <td>0.307</td>\n",
       "      <td>-0.051</td>\n",
       "      <td>-0.058</td>\n",
       "      <td>1.000</td>\n",
       "    </tr>\n",
       "  </tbody>\n",
       "</table>\n",
       "</div>"
      ],
      "text/plain": [
       "                                     Age  Flight Distance  Inflight wifi service  Departure/Arrival time convenient  Ease of Online booking  Gate location  Food and drink  Online boarding  Seat comfort  Inflight entertainment  On-board service  Leg room service  Baggage handling  Checkin service  Inflight service  Cleanliness  Departure Delay in Minutes  Arrival Delay in Minutes  satisfaction\n",
       "Age                                1.000            0.099                  0.010                              0.037                   0.023         -0.000           0.023            0.208         0.159                   0.075             0.057             0.039            -0.048            0.033            -0.051        0.053                      -0.009                    -0.011         0.134\n",
       "Flight Distance                    0.099            1.000                  0.010                             -0.019                   0.065          0.006           0.057            0.215         0.158                   0.131             0.111             0.135             0.065            0.074             0.059        0.096                       0.002                    -0.002         0.298\n",
       "Inflight wifi service              0.010            0.010                  1.000                              0.321                   0.627          0.354           0.140            0.435         0.136                   0.210             0.124             0.153             0.116            0.062             0.106        0.144                      -0.025                    -0.028         0.387\n",
       "Departure/Arrival time convenient  0.037           -0.019                  0.321                              1.000                   0.438          0.448           0.001            0.072         0.009                  -0.008             0.067             0.011             0.071            0.091             0.072        0.010                       0.001                    -0.001        -0.054\n",
       "Ease of Online booking             0.023            0.065                  0.627                              0.438                   1.000          0.460           0.031            0.405         0.029                   0.047             0.039             0.109             0.039            0.009             0.035        0.015                      -0.005                    -0.007         0.169\n",
       "Gate location                     -0.000            0.006                  0.354                              0.448                   0.460          1.000          -0.003            0.003         0.003                   0.003            -0.029            -0.005             0.001           -0.039             0.000       -0.006                       0.006                     0.006        -0.003\n",
       "Food and drink                     0.023            0.057                  0.140                              0.001                   0.031         -0.003           1.000            0.234         0.576                   0.623             0.057             0.033             0.035            0.085             0.035        0.658                      -0.029                    -0.032         0.211\n",
       "Online boarding                    0.208            0.215                  0.435                              0.072                   0.405          0.003           0.234            1.000         0.419                   0.284             0.154             0.123             0.084            0.204             0.074        0.329                      -0.019                    -0.023         0.502\n",
       "Seat comfort                       0.159            0.158                  0.136                              0.009                   0.029          0.003           0.576            0.419         1.000                   0.612             0.131             0.104             0.075            0.190             0.069        0.680                      -0.028                    -0.031         0.349\n",
       "Inflight entertainment             0.075            0.131                  0.210                             -0.008                   0.047          0.003           0.623            0.284         0.612                   1.000             0.419             0.300             0.379            0.120             0.406        0.693                      -0.027                    -0.030         0.398\n",
       "On-board service                   0.057            0.111                  0.124                              0.067                   0.039         -0.029           0.057            0.154         0.131                   0.419             1.000             0.358             0.520            0.245             0.552        0.122                      -0.030                    -0.035         0.322\n",
       "Leg room service                   0.039            0.135                  0.153                              0.011                   0.109         -0.005           0.033            0.123         0.104                   0.300             0.358             1.000             0.371            0.153             0.370        0.097                       0.015                     0.011         0.312\n",
       "Baggage handling                  -0.048            0.065                  0.116                              0.071                   0.039          0.001           0.035            0.084         0.075                   0.379             0.520             0.371             1.000            0.235             0.629        0.097                      -0.004                    -0.008         0.249\n",
       "Checkin service                    0.033            0.074                  0.062                              0.091                   0.009         -0.039           0.085            0.204         0.190                   0.120             0.245             0.153             0.235            1.000             0.238        0.177                      -0.019                    -0.022         0.237\n",
       "Inflight service                  -0.051            0.059                  0.106                              0.072                   0.035          0.000           0.035            0.074         0.069                   0.406             0.552             0.370             0.629            0.238             1.000        0.090                      -0.054                    -0.060         0.245\n",
       "Cleanliness                        0.053            0.096                  0.144                              0.010                   0.015         -0.006           0.658            0.329         0.680                   0.693             0.122             0.097             0.097            0.177             0.090        1.000                      -0.015                    -0.017         0.307\n",
       "Departure Delay in Minutes        -0.009            0.002                 -0.025                              0.001                  -0.005          0.006          -0.029           -0.019        -0.028                  -0.027            -0.030             0.015            -0.004           -0.019            -0.054       -0.015                       1.000                     0.965        -0.051\n",
       "Arrival Delay in Minutes          -0.011           -0.002                 -0.028                             -0.001                  -0.007          0.006          -0.032           -0.023        -0.031                  -0.030            -0.035             0.011            -0.008           -0.022            -0.060       -0.017                       0.965                     1.000        -0.058\n",
       "satisfaction                       0.134            0.298                  0.387                             -0.054                   0.169         -0.003           0.211            0.502         0.349                   0.398             0.322             0.312             0.249            0.237             0.245        0.307                      -0.051                    -0.058         1.000"
      ]
     },
     "execution_count": 33,
     "metadata": {},
     "output_type": "execute_result"
    }
   ],
   "source": [
    "df.corr()\n"
   ]
  },
  {
   "cell_type": "markdown",
   "id": "47744071",
   "metadata": {
    "papermill": {
     "duration": 0.037157,
     "end_time": "2022-06-21T20:44:04.590494",
     "exception": false,
     "start_time": "2022-06-21T20:44:04.553337",
     "status": "completed"
    },
    "tags": []
   },
   "source": [
    "Korelasyon Matrisi"
   ]
  },
  {
   "cell_type": "code",
   "execution_count": 34,
   "id": "61a5ed38",
   "metadata": {
    "execution": {
     "iopub.execute_input": "2022-06-21T20:44:04.661018Z",
     "iopub.status.busy": "2022-06-21T20:44:04.660190Z",
     "iopub.status.idle": "2022-06-21T20:44:06.693922Z",
     "shell.execute_reply": "2022-06-21T20:44:06.692879Z"
    },
    "papermill": {
     "duration": 2.074253,
     "end_time": "2022-06-21T20:44:06.698926",
     "exception": false,
     "start_time": "2022-06-21T20:44:04.624673",
     "status": "completed"
    },
    "tags": []
   },
   "outputs": [
    {
     "data": {
      "image/png": "[encoded data removed]",
      "text/plain": [
       "<Figure size 1296x936 with 2 Axes>"
      ]
     },
     "metadata": {
      "needs_background": "light"
     },
     "output_type": "display_data"
    }
   ],
   "source": [
    "f, ax = plt.subplots(figsize=[18, 13])\n",
    "sns.heatmap(df.corr(), annot=True, fmt=\".2f\", ax=ax, cmap=\"magma\")\n",
    "ax.set_title(\"Correlation Matrix\", fontsize=20)\n",
    "plt.show()"
   ]
  },
  {
   "cell_type": "markdown",
   "id": "8007a926",
   "metadata": {
    "papermill": {
     "duration": 0.037529,
     "end_time": "2022-06-21T20:44:06.773469",
     "exception": false,
     "start_time": "2022-06-21T20:44:06.735940",
     "status": "completed"
    },
    "tags": []
   },
   "source": [
    "Çok güçlü korelasyonlar (0.8 ile 1 veya -0.8 ile -1.0 arası değerler): -\n",
    "\n",
    "Güçlü korelasyonlar (0.6 ile 0.8 veya -0.6 ile -0.8 arası değerler): -\n",
    "\n",
    "Orta derece korelasyonlar (0.4 ile 0.6 veya -0.4 ile -0.6 arası değerler): online boarding(0.50), inflight entertainment(0.40)"
   ]
  },
  {
   "cell_type": "code",
   "execution_count": 35,
   "id": "eff6c385",
   "metadata": {
    "execution": {
     "iopub.execute_input": "2022-06-21T20:44:06.850199Z",
     "iopub.status.busy": "2022-06-21T20:44:06.849739Z",
     "iopub.status.idle": "2022-06-21T20:44:06.898552Z",
     "shell.execute_reply": "2022-06-21T20:44:06.897329Z"
    },
    "papermill": {
     "duration": 0.090251,
     "end_time": "2022-06-21T20:44:06.900478",
     "exception": false,
     "start_time": "2022-06-21T20:44:06.810227",
     "status": "completed"
    },
    "tags": []
   },
   "outputs": [
    {
     "data": {
      "text/plain": [
       "satisfaction                         1.000\n",
       "Online boarding                      0.502\n",
       "Inflight entertainment               0.398\n",
       "Inflight wifi service                0.387\n",
       "Seat comfort                         0.349\n",
       "On-board service                     0.322\n",
       "Leg room service                     0.312\n",
       "Cleanliness                          0.307\n",
       "Flight Distance                      0.298\n",
       "Baggage handling                     0.249\n",
       "Inflight service                     0.245\n",
       "Checkin service                      0.237\n",
       "Food and drink                       0.211\n",
       "Ease of Online booking               0.169\n",
       "Age                                  0.134\n",
       "Gate location                       -0.003\n",
       "Departure Delay in Minutes          -0.051\n",
       "Departure/Arrival time convenient   -0.054\n",
       "Arrival Delay in Minutes            -0.058\n",
       "dtype: float64"
      ]
     },
     "execution_count": 35,
     "metadata": {},
     "output_type": "execute_result"
    }
   ],
   "source": [
    "df.corrwith(df[\"satisfaction\"]).sort_values(ascending=False)"
   ]
  },
  {
   "cell_type": "markdown",
   "id": "c80089b6",
   "metadata": {
    "papermill": {
     "duration": 0.038162,
     "end_time": "2022-06-21T20:44:06.976713",
     "exception": false,
     "start_time": "2022-06-21T20:44:06.938551",
     "status": "completed"
    },
    "tags": []
   },
   "source": [
    "# FEATURE ENGINEERING"
   ]
  },
  {
   "cell_type": "markdown",
   "id": "68246549",
   "metadata": {
    "papermill": {
     "duration": 0.039755,
     "end_time": "2022-06-21T20:44:07.054674",
     "exception": false,
     "start_time": "2022-06-21T20:44:07.014919",
     "status": "completed"
    },
    "tags": []
   },
   "source": [
    "Eksik değerler:"
   ]
  },
  {
   "cell_type": "code",
   "execution_count": 36,
   "id": "d1054871",
   "metadata": {
    "execution": {
     "iopub.execute_input": "2022-06-21T20:44:07.132400Z",
     "iopub.status.busy": "2022-06-21T20:44:07.131912Z",
     "iopub.status.idle": "2022-06-21T20:44:07.210242Z",
     "shell.execute_reply": "2022-06-21T20:44:07.209470Z"
    },
    "papermill": {
     "duration": 0.119747,
     "end_time": "2022-06-21T20:44:07.212222",
     "exception": false,
     "start_time": "2022-06-21T20:44:07.092475",
     "status": "completed"
    },
    "tags": []
   },
   "outputs": [
    {
     "name": "stdout",
     "output_type": "stream",
     "text": [
      "                          n_miss  ratio\n",
      "Arrival Delay in Minutes     393  0.300\n"
     ]
    }
   ],
   "source": [
    "na_columns = missing_values_table(df, na_name=True)"
   ]
  },
  {
   "cell_type": "markdown",
   "id": "77175e6c",
   "metadata": {
    "papermill": {
     "duration": 0.036721,
     "end_time": "2022-06-21T20:44:07.285982",
     "exception": false,
     "start_time": "2022-06-21T20:44:07.249261",
     "status": "completed"
    },
    "tags": []
   },
   "source": [
    "Eksik değerleri doldurma:"
   ]
  },
  {
   "cell_type": "code",
   "execution_count": 37,
   "id": "19462854",
   "metadata": {
    "execution": {
     "iopub.execute_input": "2022-06-21T20:44:07.362663Z",
     "iopub.status.busy": "2022-06-21T20:44:07.361947Z",
     "iopub.status.idle": "2022-06-21T20:44:07.370728Z",
     "shell.execute_reply": "2022-06-21T20:44:07.369994Z"
    },
    "papermill": {
     "duration": 0.05002,
     "end_time": "2022-06-21T20:44:07.372884",
     "exception": false,
     "start_time": "2022-06-21T20:44:07.322864",
     "status": "completed"
    },
    "tags": []
   },
   "outputs": [],
   "source": [
    "df[\"Arrival Delay in Minutes\"].fillna(df[\"Arrival Delay in Minutes\"].median(), inplace=True)"
   ]
  },
  {
   "cell_type": "code",
   "execution_count": 38,
   "id": "c929d8b5",
   "metadata": {
    "execution": {
     "iopub.execute_input": "2022-06-21T20:44:07.451438Z",
     "iopub.status.busy": "2022-06-21T20:44:07.450936Z",
     "iopub.status.idle": "2022-06-21T20:44:07.591157Z",
     "shell.execute_reply": "2022-06-21T20:44:07.590135Z"
    },
    "papermill": {
     "duration": 0.182519,
     "end_time": "2022-06-21T20:44:07.593788",
     "exception": false,
     "start_time": "2022-06-21T20:44:07.411269",
     "status": "completed"
    },
    "tags": []
   },
   "outputs": [
    {
     "data": {
      "text/html": [
       "<div>\n",
       "<style scoped>\n",
       "    .dataframe tbody tr th:only-of-type {\n",
       "        vertical-align: middle;\n",
       "    }\n",
       "\n",
       "    .dataframe tbody tr th {\n",
       "        vertical-align: top;\n",
       "    }\n",
       "\n",
       "    .dataframe thead th {\n",
       "        text-align: right;\n",
       "    }\n",
       "</style>\n",
       "<table border=\"1\" class=\"dataframe\">\n",
       "  <thead>\n",
       "    <tr style=\"text-align: right;\">\n",
       "      <th></th>\n",
       "      <th>count</th>\n",
       "      <th>mean</th>\n",
       "      <th>std</th>\n",
       "      <th>min</th>\n",
       "      <th>25%</th>\n",
       "      <th>50%</th>\n",
       "      <th>75%</th>\n",
       "      <th>max</th>\n",
       "    </tr>\n",
       "  </thead>\n",
       "  <tbody>\n",
       "    <tr>\n",
       "      <th>Age</th>\n",
       "      <td>129880.000</td>\n",
       "      <td>39.428</td>\n",
       "      <td>15.119</td>\n",
       "      <td>7.000</td>\n",
       "      <td>27.000</td>\n",
       "      <td>40.000</td>\n",
       "      <td>51.000</td>\n",
       "      <td>85.000</td>\n",
       "    </tr>\n",
       "    <tr>\n",
       "      <th>Flight Distance</th>\n",
       "      <td>129880.000</td>\n",
       "      <td>1190.316</td>\n",
       "      <td>997.452</td>\n",
       "      <td>31.000</td>\n",
       "      <td>414.000</td>\n",
       "      <td>844.000</td>\n",
       "      <td>1744.000</td>\n",
       "      <td>4983.000</td>\n",
       "    </tr>\n",
       "    <tr>\n",
       "      <th>Inflight wifi service</th>\n",
       "      <td>129880.000</td>\n",
       "      <td>2.819</td>\n",
       "      <td>1.240</td>\n",
       "      <td>1.000</td>\n",
       "      <td>2.000</td>\n",
       "      <td>3.000</td>\n",
       "      <td>4.000</td>\n",
       "      <td>5.000</td>\n",
       "    </tr>\n",
       "    <tr>\n",
       "      <th>Departure/Arrival time convenient</th>\n",
       "      <td>129880.000</td>\n",
       "      <td>3.058</td>\n",
       "      <td>1.527</td>\n",
       "      <td>0.000</td>\n",
       "      <td>2.000</td>\n",
       "      <td>3.000</td>\n",
       "      <td>4.000</td>\n",
       "      <td>5.000</td>\n",
       "    </tr>\n",
       "    <tr>\n",
       "      <th>Ease of Online booking</th>\n",
       "      <td>129880.000</td>\n",
       "      <td>2.757</td>\n",
       "      <td>1.402</td>\n",
       "      <td>0.000</td>\n",
       "      <td>2.000</td>\n",
       "      <td>3.000</td>\n",
       "      <td>4.000</td>\n",
       "      <td>5.000</td>\n",
       "    </tr>\n",
       "    <tr>\n",
       "      <th>Gate location</th>\n",
       "      <td>129880.000</td>\n",
       "      <td>2.977</td>\n",
       "      <td>1.279</td>\n",
       "      <td>0.000</td>\n",
       "      <td>2.000</td>\n",
       "      <td>3.000</td>\n",
       "      <td>4.000</td>\n",
       "      <td>5.000</td>\n",
       "    </tr>\n",
       "    <tr>\n",
       "      <th>Food and drink</th>\n",
       "      <td>129880.000</td>\n",
       "      <td>3.205</td>\n",
       "      <td>1.330</td>\n",
       "      <td>0.000</td>\n",
       "      <td>2.000</td>\n",
       "      <td>3.000</td>\n",
       "      <td>4.000</td>\n",
       "      <td>5.000</td>\n",
       "    </tr>\n",
       "    <tr>\n",
       "      <th>Online boarding</th>\n",
       "      <td>129880.000</td>\n",
       "      <td>3.253</td>\n",
       "      <td>1.351</td>\n",
       "      <td>0.000</td>\n",
       "      <td>2.000</td>\n",
       "      <td>3.000</td>\n",
       "      <td>4.000</td>\n",
       "      <td>5.000</td>\n",
       "    </tr>\n",
       "    <tr>\n",
       "      <th>Seat comfort</th>\n",
       "      <td>129880.000</td>\n",
       "      <td>3.441</td>\n",
       "      <td>1.319</td>\n",
       "      <td>0.000</td>\n",
       "      <td>2.000</td>\n",
       "      <td>4.000</td>\n",
       "      <td>5.000</td>\n",
       "      <td>5.000</td>\n",
       "    </tr>\n",
       "    <tr>\n",
       "      <th>Inflight entertainment</th>\n",
       "      <td>129880.000</td>\n",
       "      <td>3.358</td>\n",
       "      <td>1.334</td>\n",
       "      <td>0.000</td>\n",
       "      <td>2.000</td>\n",
       "      <td>4.000</td>\n",
       "      <td>4.000</td>\n",
       "      <td>5.000</td>\n",
       "    </tr>\n",
       "    <tr>\n",
       "      <th>On-board service</th>\n",
       "      <td>129880.000</td>\n",
       "      <td>3.383</td>\n",
       "      <td>1.287</td>\n",
       "      <td>0.000</td>\n",
       "      <td>2.000</td>\n",
       "      <td>4.000</td>\n",
       "      <td>4.000</td>\n",
       "      <td>5.000</td>\n",
       "    </tr>\n",
       "    <tr>\n",
       "      <th>Leg room service</th>\n",
       "      <td>129880.000</td>\n",
       "      <td>3.351</td>\n",
       "      <td>1.316</td>\n",
       "      <td>0.000</td>\n",
       "      <td>2.000</td>\n",
       "      <td>4.000</td>\n",
       "      <td>4.000</td>\n",
       "      <td>5.000</td>\n",
       "    </tr>\n",
       "    <tr>\n",
       "      <th>Baggage handling</th>\n",
       "      <td>129880.000</td>\n",
       "      <td>3.632</td>\n",
       "      <td>1.180</td>\n",
       "      <td>1.000</td>\n",
       "      <td>3.000</td>\n",
       "      <td>4.000</td>\n",
       "      <td>5.000</td>\n",
       "      <td>5.000</td>\n",
       "    </tr>\n",
       "    <tr>\n",
       "      <th>Checkin service</th>\n",
       "      <td>129880.000</td>\n",
       "      <td>3.306</td>\n",
       "      <td>1.266</td>\n",
       "      <td>0.000</td>\n",
       "      <td>3.000</td>\n",
       "      <td>3.000</td>\n",
       "      <td>4.000</td>\n",
       "      <td>5.000</td>\n",
       "    </tr>\n",
       "    <tr>\n",
       "      <th>Inflight service</th>\n",
       "      <td>129880.000</td>\n",
       "      <td>3.642</td>\n",
       "      <td>1.177</td>\n",
       "      <td>0.000</td>\n",
       "      <td>3.000</td>\n",
       "      <td>4.000</td>\n",
       "      <td>5.000</td>\n",
       "      <td>5.000</td>\n",
       "    </tr>\n",
       "    <tr>\n",
       "      <th>Cleanliness</th>\n",
       "      <td>129880.000</td>\n",
       "      <td>3.286</td>\n",
       "      <td>1.314</td>\n",
       "      <td>0.000</td>\n",
       "      <td>2.000</td>\n",
       "      <td>3.000</td>\n",
       "      <td>4.000</td>\n",
       "      <td>5.000</td>\n",
       "    </tr>\n",
       "    <tr>\n",
       "      <th>Departure Delay in Minutes</th>\n",
       "      <td>129880.000</td>\n",
       "      <td>14.714</td>\n",
       "      <td>38.071</td>\n",
       "      <td>0.000</td>\n",
       "      <td>0.000</td>\n",
       "      <td>0.000</td>\n",
       "      <td>12.000</td>\n",
       "      <td>1592.000</td>\n",
       "    </tr>\n",
       "    <tr>\n",
       "      <th>Arrival Delay in Minutes</th>\n",
       "      <td>129880.000</td>\n",
       "      <td>15.045</td>\n",
       "      <td>38.416</td>\n",
       "      <td>0.000</td>\n",
       "      <td>0.000</td>\n",
       "      <td>0.000</td>\n",
       "      <td>13.000</td>\n",
       "      <td>1584.000</td>\n",
       "    </tr>\n",
       "    <tr>\n",
       "      <th>satisfaction</th>\n",
       "      <td>129880.000</td>\n",
       "      <td>0.434</td>\n",
       "      <td>0.496</td>\n",
       "      <td>0.000</td>\n",
       "      <td>0.000</td>\n",
       "      <td>0.000</td>\n",
       "      <td>1.000</td>\n",
       "      <td>1.000</td>\n",
       "    </tr>\n",
       "  </tbody>\n",
       "</table>\n",
       "</div>"
      ],
      "text/plain": [
       "                                       count     mean     std    min     25%     50%      75%      max\n",
       "Age                               129880.000   39.428  15.119  7.000  27.000  40.000   51.000   85.000\n",
       "Flight Distance                   129880.000 1190.316 997.452 31.000 414.000 844.000 1744.000 4983.000\n",
       "Inflight wifi service             129880.000    2.819   1.240  1.000   2.000   3.000    4.000    5.000\n",
       "Departure/Arrival time convenient 129880.000    3.058   1.527  0.000   2.000   3.000    4.000    5.000\n",
       "Ease of Online booking            129880.000    2.757   1.402  0.000   2.000   3.000    4.000    5.000\n",
       "Gate location                     129880.000    2.977   1.279  0.000   2.000   3.000    4.000    5.000\n",
       "Food and drink                    129880.000    3.205   1.330  0.000   2.000   3.000    4.000    5.000\n",
       "Online boarding                   129880.000    3.253   1.351  0.000   2.000   3.000    4.000    5.000\n",
       "Seat comfort                      129880.000    3.441   1.319  0.000   2.000   4.000    5.000    5.000\n",
       "Inflight entertainment            129880.000    3.358   1.334  0.000   2.000   4.000    4.000    5.000\n",
       "On-board service                  129880.000    3.383   1.287  0.000   2.000   4.000    4.000    5.000\n",
       "Leg room service                  129880.000    3.351   1.316  0.000   2.000   4.000    4.000    5.000\n",
       "Baggage handling                  129880.000    3.632   1.180  1.000   3.000   4.000    5.000    5.000\n",
       "Checkin service                   129880.000    3.306   1.266  0.000   3.000   3.000    4.000    5.000\n",
       "Inflight service                  129880.000    3.642   1.177  0.000   3.000   4.000    5.000    5.000\n",
       "Cleanliness                       129880.000    3.286   1.314  0.000   2.000   3.000    4.000    5.000\n",
       "Departure Delay in Minutes        129880.000   14.714  38.071  0.000   0.000   0.000   12.000 1592.000\n",
       "Arrival Delay in Minutes          129880.000   15.045  38.416  0.000   0.000   0.000   13.000 1584.000\n",
       "satisfaction                      129880.000    0.434   0.496  0.000   0.000   0.000    1.000    1.000"
      ]
     },
     "execution_count": 38,
     "metadata": {},
     "output_type": "execute_result"
    }
   ],
   "source": [
    "df.describe().T"
   ]
  },
  {
   "cell_type": "markdown",
   "id": "4ed68750",
   "metadata": {
    "papermill": {
     "duration": 0.037019,
     "end_time": "2022-06-21T20:44:07.668374",
     "exception": false,
     "start_time": "2022-06-21T20:44:07.631355",
     "status": "completed"
    },
    "tags": []
   },
   "source": [
    "aykırı değerlerin düzeltilmesi:"
   ]
  },
  {
   "cell_type": "code",
   "execution_count": 39,
   "id": "81e56ddb",
   "metadata": {
    "execution": {
     "iopub.execute_input": "2022-06-21T20:44:07.746713Z",
     "iopub.status.busy": "2022-06-21T20:44:07.745933Z",
     "iopub.status.idle": "2022-06-21T20:44:07.920315Z",
     "shell.execute_reply": "2022-06-21T20:44:07.919124Z"
    },
    "papermill": {
     "duration": 0.217063,
     "end_time": "2022-06-21T20:44:07.922983",
     "exception": false,
     "start_time": "2022-06-21T20:44:07.705920",
     "status": "completed"
    },
    "tags": []
   },
   "outputs": [
    {
     "name": "stdout",
     "output_type": "stream",
     "text": [
      "Age False\n",
      "Flight Distance True\n",
      "Departure Delay in Minutes True\n",
      "Arrival Delay in Minutes True\n"
     ]
    }
   ],
   "source": [
    "for col in num_cols:\n",
    "    print(col, check_outlier(df, col))\n",
    "    if check_outlier(df, col):\n",
    "        replace_with_thresholds(df, col)"
   ]
  },
  {
   "cell_type": "code",
   "execution_count": 40,
   "id": "e618124e",
   "metadata": {
    "execution": {
     "iopub.execute_input": "2022-06-21T20:44:08.007743Z",
     "iopub.status.busy": "2022-06-21T20:44:08.007248Z",
     "iopub.status.idle": "2022-06-21T20:44:08.801309Z",
     "shell.execute_reply": "2022-06-21T20:44:08.800155Z"
    },
    "papermill": {
     "duration": 0.836441,
     "end_time": "2022-06-21T20:44:08.803883",
     "exception": false,
     "start_time": "2022-06-21T20:44:07.967442",
     "status": "completed"
    },
    "tags": []
   },
   "outputs": [
    {
     "data": {
      "text/plain": [
       "False"
      ]
     },
     "execution_count": 40,
     "metadata": {},
     "output_type": "execute_result"
    }
   ],
   "source": [
    "check_outlier(df,num_cols)"
   ]
  },
  {
   "cell_type": "markdown",
   "id": "0b6fd4ca",
   "metadata": {
    "papermill": {
     "duration": 0.037932,
     "end_time": "2022-06-21T20:44:08.879287",
     "exception": false,
     "start_time": "2022-06-21T20:44:08.841355",
     "status": "completed"
    },
    "tags": []
   },
   "source": [
    "Yeni değişkenler oluşturma:"
   ]
  },
  {
   "cell_type": "code",
   "execution_count": 41,
   "id": "8651c64b",
   "metadata": {
    "execution": {
     "iopub.execute_input": "2022-06-21T20:44:08.957853Z",
     "iopub.status.busy": "2022-06-21T20:44:08.957458Z",
     "iopub.status.idle": "2022-06-21T20:44:08.963267Z",
     "shell.execute_reply": "2022-06-21T20:44:08.962146Z"
    },
    "papermill": {
     "duration": 0.048325,
     "end_time": "2022-06-21T20:44:08.965318",
     "exception": false,
     "start_time": "2022-06-21T20:44:08.916993",
     "status": "completed"
    },
    "tags": []
   },
   "outputs": [],
   "source": [
    "df.columns = [col.upper() for col in df.columns]"
   ]
  },
  {
   "cell_type": "code",
   "execution_count": 42,
   "id": "76d0263f",
   "metadata": {
    "execution": {
     "iopub.execute_input": "2022-06-21T20:44:09.044977Z",
     "iopub.status.busy": "2022-06-21T20:44:09.044184Z",
     "iopub.status.idle": "2022-06-21T20:44:09.049653Z",
     "shell.execute_reply": "2022-06-21T20:44:09.048998Z"
    },
    "papermill": {
     "duration": 0.047819,
     "end_time": "2022-06-21T20:44:09.051669",
     "exception": false,
     "start_time": "2022-06-21T20:44:09.003850",
     "status": "completed"
    },
    "tags": []
   },
   "outputs": [],
   "source": [
    "df.columns = [i.replace(' ', '_') for i in df.columns]"
   ]
  },
  {
   "cell_type": "code",
   "execution_count": 43,
   "id": "86e055ed",
   "metadata": {
    "execution": {
     "iopub.execute_input": "2022-06-21T20:44:09.130299Z",
     "iopub.status.busy": "2022-06-21T20:44:09.129490Z",
     "iopub.status.idle": "2022-06-21T20:44:09.136427Z",
     "shell.execute_reply": "2022-06-21T20:44:09.135626Z"
    },
    "papermill": {
     "duration": 0.048246,
     "end_time": "2022-06-21T20:44:09.138407",
     "exception": false,
     "start_time": "2022-06-21T20:44:09.090161",
     "status": "completed"
    },
    "tags": []
   },
   "outputs": [
    {
     "data": {
      "text/plain": [
       "Index(['GENDER', 'CUSTOMER_TYPE', 'AGE', 'TYPE_OF_TRAVEL', 'CLASS', 'FLIGHT_DISTANCE', 'INFLIGHT_WIFI_SERVICE', 'DEPARTURE/ARRIVAL_TIME_CONVENIENT', 'EASE_OF_ONLINE_BOOKING', 'GATE_LOCATION', 'FOOD_AND_DRINK', 'ONLINE_BOARDING', 'SEAT_COMFORT', 'INFLIGHT_ENTERTAINMENT', 'ON-BOARD_SERVICE', 'LEG_ROOM_SERVICE', 'BAGGAGE_HANDLING', 'CHECKIN_SERVICE', 'INFLIGHT_SERVICE', 'CLEANLINESS', 'DEPARTURE_DELAY_IN_MINUTES', 'ARRIVAL_DELAY_IN_MINUTES', 'SATISFACTION'], dtype='object')"
      ]
     },
     "execution_count": 43,
     "metadata": {},
     "output_type": "execute_result"
    }
   ],
   "source": [
    "df.columns"
   ]
  },
  {
   "cell_type": "markdown",
   "id": "a72d04bd",
   "metadata": {
    "papermill": {
     "duration": 0.037116,
     "end_time": "2022-06-21T20:44:09.213566",
     "exception": false,
     "start_time": "2022-06-21T20:44:09.176450",
     "status": "completed"
    },
    "tags": []
   },
   "source": [
    "Age: genç, orta yaşlı ve yaşlı şeklinde isimlendirme:"
   ]
  },
  {
   "cell_type": "code",
   "execution_count": 44,
   "id": "849b2da9",
   "metadata": {
    "execution": {
     "iopub.execute_input": "2022-06-21T20:44:09.291847Z",
     "iopub.status.busy": "2022-06-21T20:44:09.290777Z",
     "iopub.status.idle": "2022-06-21T20:44:09.324775Z",
     "shell.execute_reply": "2022-06-21T20:44:09.323444Z"
    },
    "papermill": {
     "duration": 0.075993,
     "end_time": "2022-06-21T20:44:09.327272",
     "exception": false,
     "start_time": "2022-06-21T20:44:09.251279",
     "status": "completed"
    },
    "tags": []
   },
   "outputs": [],
   "source": [
    "df.loc[(df['AGE'] < 30), \"NEW_AGE_CAT\"] = 'young'\n",
    "df.loc[(df['AGE'] >= 30) & (df['AGE'] <= 55), \"NEW_AGE_CAT\"] = 'middleage'\n",
    "df.loc[(df['AGE'] > 55), \"NEW_AGE_CAT\"] = 'old'"
   ]
  },
  {
   "cell_type": "markdown",
   "id": "4982c46e",
   "metadata": {
    "papermill": {
     "duration": 0.038044,
     "end_time": "2022-06-21T20:44:09.403199",
     "exception": false,
     "start_time": "2022-06-21T20:44:09.365155",
     "status": "completed"
    },
    "tags": []
   },
   "source": [
    "uçuş mesafesi aralığı:"
   ]
  },
  {
   "cell_type": "code",
   "execution_count": 45,
   "id": "38445d69",
   "metadata": {
    "execution": {
     "iopub.execute_input": "2022-06-21T20:44:09.481309Z",
     "iopub.status.busy": "2022-06-21T20:44:09.480648Z",
     "iopub.status.idle": "2022-06-21T20:44:09.515520Z",
     "shell.execute_reply": "2022-06-21T20:44:09.514274Z"
    },
    "papermill": {
     "duration": 0.077226,
     "end_time": "2022-06-21T20:44:09.518368",
     "exception": false,
     "start_time": "2022-06-21T20:44:09.441142",
     "status": "completed"
    },
    "tags": []
   },
   "outputs": [],
   "source": [
    "df.loc[(df['FLIGHT_DISTANCE'] < 1000), \"NEW_DISTANCE\"] = 'short'\n",
    "df.loc[(df['FLIGHT_DISTANCE'] >= 1000) & (df['FLIGHT_DISTANCE'] <= 3000), \"NEW_DISTANCE\"] = 'middle'\n",
    "df.loc[(df['FLIGHT_DISTANCE'] > 3000), \"NEW_DISTANCE\"] = 'long'"
   ]
  },
  {
   "cell_type": "code",
   "execution_count": 46,
   "id": "791f9a87",
   "metadata": {
    "execution": {
     "iopub.execute_input": "2022-06-21T20:44:09.601020Z",
     "iopub.status.busy": "2022-06-21T20:44:09.600595Z",
     "iopub.status.idle": "2022-06-21T20:44:09.622429Z",
     "shell.execute_reply": "2022-06-21T20:44:09.621475Z"
    },
    "papermill": {
     "duration": 0.067253,
     "end_time": "2022-06-21T20:44:09.624704",
     "exception": false,
     "start_time": "2022-06-21T20:44:09.557451",
     "status": "completed"
    },
    "tags": []
   },
   "outputs": [
    {
     "data": {
      "text/html": [
       "<div>\n",
       "<style scoped>\n",
       "    .dataframe tbody tr th:only-of-type {\n",
       "        vertical-align: middle;\n",
       "    }\n",
       "\n",
       "    .dataframe tbody tr th {\n",
       "        vertical-align: top;\n",
       "    }\n",
       "\n",
       "    .dataframe thead th {\n",
       "        text-align: right;\n",
       "    }\n",
       "</style>\n",
       "<table border=\"1\" class=\"dataframe\">\n",
       "  <thead>\n",
       "    <tr style=\"text-align: right;\">\n",
       "      <th></th>\n",
       "      <th>GENDER</th>\n",
       "      <th>CUSTOMER_TYPE</th>\n",
       "      <th>AGE</th>\n",
       "      <th>TYPE_OF_TRAVEL</th>\n",
       "      <th>CLASS</th>\n",
       "      <th>FLIGHT_DISTANCE</th>\n",
       "      <th>INFLIGHT_WIFI_SERVICE</th>\n",
       "      <th>DEPARTURE/ARRIVAL_TIME_CONVENIENT</th>\n",
       "      <th>EASE_OF_ONLINE_BOOKING</th>\n",
       "      <th>GATE_LOCATION</th>\n",
       "      <th>FOOD_AND_DRINK</th>\n",
       "      <th>ONLINE_BOARDING</th>\n",
       "      <th>SEAT_COMFORT</th>\n",
       "      <th>INFLIGHT_ENTERTAINMENT</th>\n",
       "      <th>ON-BOARD_SERVICE</th>\n",
       "      <th>LEG_ROOM_SERVICE</th>\n",
       "      <th>BAGGAGE_HANDLING</th>\n",
       "      <th>CHECKIN_SERVICE</th>\n",
       "      <th>INFLIGHT_SERVICE</th>\n",
       "      <th>CLEANLINESS</th>\n",
       "      <th>DEPARTURE_DELAY_IN_MINUTES</th>\n",
       "      <th>ARRIVAL_DELAY_IN_MINUTES</th>\n",
       "      <th>SATISFACTION</th>\n",
       "      <th>NEW_AGE_CAT</th>\n",
       "      <th>NEW_DISTANCE</th>\n",
       "    </tr>\n",
       "  </thead>\n",
       "  <tbody>\n",
       "    <tr>\n",
       "      <th>0</th>\n",
       "      <td>Male</td>\n",
       "      <td>Loyal Customer</td>\n",
       "      <td>13</td>\n",
       "      <td>Personal Travel</td>\n",
       "      <td>Eco Plus</td>\n",
       "      <td>460</td>\n",
       "      <td>3.000</td>\n",
       "      <td>4</td>\n",
       "      <td>3</td>\n",
       "      <td>1</td>\n",
       "      <td>5</td>\n",
       "      <td>3</td>\n",
       "      <td>5</td>\n",
       "      <td>5</td>\n",
       "      <td>4</td>\n",
       "      <td>3</td>\n",
       "      <td>4</td>\n",
       "      <td>4</td>\n",
       "      <td>5</td>\n",
       "      <td>5</td>\n",
       "      <td>25</td>\n",
       "      <td>18.000</td>\n",
       "      <td>0</td>\n",
       "      <td>young</td>\n",
       "      <td>short</td>\n",
       "    </tr>\n",
       "    <tr>\n",
       "      <th>1</th>\n",
       "      <td>Male</td>\n",
       "      <td>disloyal Customer</td>\n",
       "      <td>25</td>\n",
       "      <td>Business travel</td>\n",
       "      <td>Business</td>\n",
       "      <td>235</td>\n",
       "      <td>3.000</td>\n",
       "      <td>2</td>\n",
       "      <td>3</td>\n",
       "      <td>3</td>\n",
       "      <td>1</td>\n",
       "      <td>3</td>\n",
       "      <td>1</td>\n",
       "      <td>1</td>\n",
       "      <td>1</td>\n",
       "      <td>5</td>\n",
       "      <td>3</td>\n",
       "      <td>1</td>\n",
       "      <td>4</td>\n",
       "      <td>1</td>\n",
       "      <td>1</td>\n",
       "      <td>6.000</td>\n",
       "      <td>0</td>\n",
       "      <td>young</td>\n",
       "      <td>short</td>\n",
       "    </tr>\n",
       "    <tr>\n",
       "      <th>2</th>\n",
       "      <td>Female</td>\n",
       "      <td>Loyal Customer</td>\n",
       "      <td>26</td>\n",
       "      <td>Business travel</td>\n",
       "      <td>Business</td>\n",
       "      <td>1142</td>\n",
       "      <td>2.000</td>\n",
       "      <td>2</td>\n",
       "      <td>2</td>\n",
       "      <td>2</td>\n",
       "      <td>5</td>\n",
       "      <td>5</td>\n",
       "      <td>5</td>\n",
       "      <td>5</td>\n",
       "      <td>4</td>\n",
       "      <td>3</td>\n",
       "      <td>4</td>\n",
       "      <td>4</td>\n",
       "      <td>4</td>\n",
       "      <td>5</td>\n",
       "      <td>0</td>\n",
       "      <td>0.000</td>\n",
       "      <td>1</td>\n",
       "      <td>young</td>\n",
       "      <td>middle</td>\n",
       "    </tr>\n",
       "    <tr>\n",
       "      <th>3</th>\n",
       "      <td>Female</td>\n",
       "      <td>Loyal Customer</td>\n",
       "      <td>25</td>\n",
       "      <td>Business travel</td>\n",
       "      <td>Business</td>\n",
       "      <td>562</td>\n",
       "      <td>2.000</td>\n",
       "      <td>5</td>\n",
       "      <td>5</td>\n",
       "      <td>5</td>\n",
       "      <td>2</td>\n",
       "      <td>2</td>\n",
       "      <td>2</td>\n",
       "      <td>2</td>\n",
       "      <td>2</td>\n",
       "      <td>5</td>\n",
       "      <td>3</td>\n",
       "      <td>1</td>\n",
       "      <td>4</td>\n",
       "      <td>2</td>\n",
       "      <td>11</td>\n",
       "      <td>9.000</td>\n",
       "      <td>0</td>\n",
       "      <td>young</td>\n",
       "      <td>short</td>\n",
       "    </tr>\n",
       "    <tr>\n",
       "      <th>4</th>\n",
       "      <td>Male</td>\n",
       "      <td>Loyal Customer</td>\n",
       "      <td>61</td>\n",
       "      <td>Business travel</td>\n",
       "      <td>Business</td>\n",
       "      <td>214</td>\n",
       "      <td>3.000</td>\n",
       "      <td>3</td>\n",
       "      <td>3</td>\n",
       "      <td>3</td>\n",
       "      <td>4</td>\n",
       "      <td>5</td>\n",
       "      <td>5</td>\n",
       "      <td>3</td>\n",
       "      <td>3</td>\n",
       "      <td>4</td>\n",
       "      <td>4</td>\n",
       "      <td>3</td>\n",
       "      <td>3</td>\n",
       "      <td>3</td>\n",
       "      <td>0</td>\n",
       "      <td>0.000</td>\n",
       "      <td>1</td>\n",
       "      <td>old</td>\n",
       "      <td>short</td>\n",
       "    </tr>\n",
       "  </tbody>\n",
       "</table>\n",
       "</div>"
      ],
      "text/plain": [
       "   GENDER      CUSTOMER_TYPE  AGE   TYPE_OF_TRAVEL     CLASS  FLIGHT_DISTANCE  INFLIGHT_WIFI_SERVICE  DEPARTURE/ARRIVAL_TIME_CONVENIENT  EASE_OF_ONLINE_BOOKING  GATE_LOCATION  FOOD_AND_DRINK  ONLINE_BOARDING  SEAT_COMFORT  INFLIGHT_ENTERTAINMENT  ON-BOARD_SERVICE  LEG_ROOM_SERVICE  BAGGAGE_HANDLING  CHECKIN_SERVICE  INFLIGHT_SERVICE  CLEANLINESS  DEPARTURE_DELAY_IN_MINUTES  ARRIVAL_DELAY_IN_MINUTES  SATISFACTION NEW_AGE_CAT NEW_DISTANCE\n",
       "0    Male     Loyal Customer   13  Personal Travel  Eco Plus              460                  3.000                                  4                       3              1               5                3             5                       5                 4                 3                 4                4                 5            5                          25                    18.000             0       young        short\n",
       "1    Male  disloyal Customer   25  Business travel  Business              235                  3.000                                  2                       3              3               1                3             1                       1                 1                 5                 3                1                 4            1                           1                     6.000             0       young        short\n",
       "2  Female     Loyal Customer   26  Business travel  Business             1142                  2.000                                  2                       2              2               5                5             5                       5                 4                 3                 4                4                 4            5                           0                     0.000             1       young       middle\n",
       "3  Female     Loyal Customer   25  Business travel  Business              562                  2.000                                  5                       5              5               2                2             2                       2                 2                 5                 3                1                 4            2                          11                     9.000             0       young        short\n",
       "4    Male     Loyal Customer   61  Business travel  Business              214                  3.000                                  3                       3              3               4                5             5                       3                 3                 4                 4                3                 3            3                           0                     0.000             1         old        short"
      ]
     },
     "execution_count": 46,
     "metadata": {},
     "output_type": "execute_result"
    }
   ],
   "source": [
    "df.head()"
   ]
  },
  {
   "cell_type": "code",
   "execution_count": 47,
   "id": "3190ae24",
   "metadata": {
    "execution": {
     "iopub.execute_input": "2022-06-21T20:44:09.704268Z",
     "iopub.status.busy": "2022-06-21T20:44:09.703330Z",
     "iopub.status.idle": "2022-06-21T20:44:09.725692Z",
     "shell.execute_reply": "2022-06-21T20:44:09.724510Z"
    },
    "papermill": {
     "duration": 0.064534,
     "end_time": "2022-06-21T20:44:09.728001",
     "exception": false,
     "start_time": "2022-06-21T20:44:09.663467",
     "status": "completed"
    },
    "tags": []
   },
   "outputs": [
    {
     "data": {
      "text/html": [
       "<div>\n",
       "<style scoped>\n",
       "    .dataframe tbody tr th:only-of-type {\n",
       "        vertical-align: middle;\n",
       "    }\n",
       "\n",
       "    .dataframe tbody tr th {\n",
       "        vertical-align: top;\n",
       "    }\n",
       "\n",
       "    .dataframe thead th {\n",
       "        text-align: right;\n",
       "    }\n",
       "</style>\n",
       "<table border=\"1\" class=\"dataframe\">\n",
       "  <thead>\n",
       "    <tr style=\"text-align: right;\">\n",
       "      <th></th>\n",
       "      <th>GENDER</th>\n",
       "      <th>CUSTOMER_TYPE</th>\n",
       "      <th>AGE</th>\n",
       "      <th>TYPE_OF_TRAVEL</th>\n",
       "      <th>CLASS</th>\n",
       "      <th>FLIGHT_DISTANCE</th>\n",
       "      <th>INFLIGHT_WIFI_SERVICE</th>\n",
       "      <th>DEPARTURE/ARRIVAL_TIME_CONVENIENT</th>\n",
       "      <th>EASE_OF_ONLINE_BOOKING</th>\n",
       "      <th>GATE_LOCATION</th>\n",
       "      <th>FOOD_AND_DRINK</th>\n",
       "      <th>ONLINE_BOARDING</th>\n",
       "      <th>SEAT_COMFORT</th>\n",
       "      <th>INFLIGHT_ENTERTAINMENT</th>\n",
       "      <th>ON-BOARD_SERVICE</th>\n",
       "      <th>LEG_ROOM_SERVICE</th>\n",
       "      <th>BAGGAGE_HANDLING</th>\n",
       "      <th>CHECKIN_SERVICE</th>\n",
       "      <th>INFLIGHT_SERVICE</th>\n",
       "      <th>CLEANLINESS</th>\n",
       "      <th>DEPARTURE_DELAY_IN_MINUTES</th>\n",
       "      <th>ARRIVAL_DELAY_IN_MINUTES</th>\n",
       "      <th>SATISFACTION</th>\n",
       "      <th>NEW_AGE_CAT</th>\n",
       "      <th>NEW_DISTANCE</th>\n",
       "    </tr>\n",
       "  </thead>\n",
       "  <tbody>\n",
       "    <tr>\n",
       "      <th>25971</th>\n",
       "      <td>Male</td>\n",
       "      <td>disloyal Customer</td>\n",
       "      <td>34</td>\n",
       "      <td>Business travel</td>\n",
       "      <td>Business</td>\n",
       "      <td>526</td>\n",
       "      <td>3.000</td>\n",
       "      <td>3</td>\n",
       "      <td>3</td>\n",
       "      <td>1</td>\n",
       "      <td>4</td>\n",
       "      <td>3</td>\n",
       "      <td>4</td>\n",
       "      <td>4</td>\n",
       "      <td>3</td>\n",
       "      <td>2</td>\n",
       "      <td>4</td>\n",
       "      <td>4</td>\n",
       "      <td>5</td>\n",
       "      <td>4</td>\n",
       "      <td>0</td>\n",
       "      <td>0.000</td>\n",
       "      <td>0</td>\n",
       "      <td>middleage</td>\n",
       "      <td>short</td>\n",
       "    </tr>\n",
       "    <tr>\n",
       "      <th>25972</th>\n",
       "      <td>Male</td>\n",
       "      <td>Loyal Customer</td>\n",
       "      <td>23</td>\n",
       "      <td>Business travel</td>\n",
       "      <td>Business</td>\n",
       "      <td>646</td>\n",
       "      <td>4.000</td>\n",
       "      <td>4</td>\n",
       "      <td>4</td>\n",
       "      <td>4</td>\n",
       "      <td>4</td>\n",
       "      <td>4</td>\n",
       "      <td>4</td>\n",
       "      <td>4</td>\n",
       "      <td>4</td>\n",
       "      <td>5</td>\n",
       "      <td>5</td>\n",
       "      <td>5</td>\n",
       "      <td>5</td>\n",
       "      <td>4</td>\n",
       "      <td>0</td>\n",
       "      <td>0.000</td>\n",
       "      <td>1</td>\n",
       "      <td>young</td>\n",
       "      <td>short</td>\n",
       "    </tr>\n",
       "    <tr>\n",
       "      <th>25973</th>\n",
       "      <td>Female</td>\n",
       "      <td>Loyal Customer</td>\n",
       "      <td>17</td>\n",
       "      <td>Personal Travel</td>\n",
       "      <td>Eco</td>\n",
       "      <td>828</td>\n",
       "      <td>2.000</td>\n",
       "      <td>5</td>\n",
       "      <td>1</td>\n",
       "      <td>5</td>\n",
       "      <td>2</td>\n",
       "      <td>1</td>\n",
       "      <td>2</td>\n",
       "      <td>2</td>\n",
       "      <td>4</td>\n",
       "      <td>3</td>\n",
       "      <td>4</td>\n",
       "      <td>5</td>\n",
       "      <td>4</td>\n",
       "      <td>2</td>\n",
       "      <td>0</td>\n",
       "      <td>0.000</td>\n",
       "      <td>0</td>\n",
       "      <td>young</td>\n",
       "      <td>short</td>\n",
       "    </tr>\n",
       "    <tr>\n",
       "      <th>25974</th>\n",
       "      <td>Male</td>\n",
       "      <td>Loyal Customer</td>\n",
       "      <td>14</td>\n",
       "      <td>Business travel</td>\n",
       "      <td>Business</td>\n",
       "      <td>1127</td>\n",
       "      <td>3.000</td>\n",
       "      <td>3</td>\n",
       "      <td>3</td>\n",
       "      <td>3</td>\n",
       "      <td>4</td>\n",
       "      <td>4</td>\n",
       "      <td>4</td>\n",
       "      <td>4</td>\n",
       "      <td>3</td>\n",
       "      <td>2</td>\n",
       "      <td>5</td>\n",
       "      <td>4</td>\n",
       "      <td>5</td>\n",
       "      <td>4</td>\n",
       "      <td>0</td>\n",
       "      <td>0.000</td>\n",
       "      <td>1</td>\n",
       "      <td>young</td>\n",
       "      <td>middle</td>\n",
       "    </tr>\n",
       "    <tr>\n",
       "      <th>25975</th>\n",
       "      <td>Female</td>\n",
       "      <td>Loyal Customer</td>\n",
       "      <td>42</td>\n",
       "      <td>Personal Travel</td>\n",
       "      <td>Eco</td>\n",
       "      <td>264</td>\n",
       "      <td>2.000</td>\n",
       "      <td>5</td>\n",
       "      <td>2</td>\n",
       "      <td>5</td>\n",
       "      <td>4</td>\n",
       "      <td>2</td>\n",
       "      <td>2</td>\n",
       "      <td>1</td>\n",
       "      <td>1</td>\n",
       "      <td>2</td>\n",
       "      <td>1</td>\n",
       "      <td>1</td>\n",
       "      <td>1</td>\n",
       "      <td>1</td>\n",
       "      <td>0</td>\n",
       "      <td>0.000</td>\n",
       "      <td>0</td>\n",
       "      <td>middleage</td>\n",
       "      <td>short</td>\n",
       "    </tr>\n",
       "  </tbody>\n",
       "</table>\n",
       "</div>"
      ],
      "text/plain": [
       "       GENDER      CUSTOMER_TYPE  AGE   TYPE_OF_TRAVEL     CLASS  FLIGHT_DISTANCE  INFLIGHT_WIFI_SERVICE  DEPARTURE/ARRIVAL_TIME_CONVENIENT  EASE_OF_ONLINE_BOOKING  GATE_LOCATION  FOOD_AND_DRINK  ONLINE_BOARDING  SEAT_COMFORT  INFLIGHT_ENTERTAINMENT  ON-BOARD_SERVICE  LEG_ROOM_SERVICE  BAGGAGE_HANDLING  CHECKIN_SERVICE  INFLIGHT_SERVICE  CLEANLINESS  DEPARTURE_DELAY_IN_MINUTES  ARRIVAL_DELAY_IN_MINUTES  SATISFACTION NEW_AGE_CAT NEW_DISTANCE\n",
       "25971    Male  disloyal Customer   34  Business travel  Business              526                  3.000                                  3                       3              1               4                3             4                       4                 3                 2                 4                4                 5            4                           0                     0.000             0   middleage        short\n",
       "25972    Male     Loyal Customer   23  Business travel  Business              646                  4.000                                  4                       4              4               4                4             4                       4                 4                 5                 5                5                 5            4                           0                     0.000             1       young        short\n",
       "25973  Female     Loyal Customer   17  Personal Travel       Eco              828                  2.000                                  5                       1              5               2                1             2                       2                 4                 3                 4                5                 4            2                           0                     0.000             0       young        short\n",
       "25974    Male     Loyal Customer   14  Business travel  Business             1127                  3.000                                  3                       3              3               4                4             4                       4                 3                 2                 5                4                 5            4                           0                     0.000             1       young       middle\n",
       "25975  Female     Loyal Customer   42  Personal Travel       Eco              264                  2.000                                  5                       2              5               4                2             2                       1                 1                 2                 1                1                 1            1                           0                     0.000             0   middleage        short"
      ]
     },
     "execution_count": 47,
     "metadata": {},
     "output_type": "execute_result"
    }
   ],
   "source": [
    "df.tail()"
   ]
  },
  {
   "cell_type": "markdown",
   "id": "68d66cfb",
   "metadata": {
    "papermill": {
     "duration": 0.038765,
     "end_time": "2022-06-21T20:44:09.805945",
     "exception": false,
     "start_time": "2022-06-21T20:44:09.767180",
     "status": "completed"
    },
    "tags": []
   },
   "source": [
    "encoding işlemleri:"
   ]
  },
  {
   "cell_type": "code",
   "execution_count": 48,
   "id": "2290f9f0",
   "metadata": {
    "execution": {
     "iopub.execute_input": "2022-06-21T20:44:09.886528Z",
     "iopub.status.busy": "2022-06-21T20:44:09.886140Z",
     "iopub.status.idle": "2022-06-21T20:44:10.082266Z",
     "shell.execute_reply": "2022-06-21T20:44:10.081213Z"
    },
    "papermill": {
     "duration": 0.239821,
     "end_time": "2022-06-21T20:44:10.084778",
     "exception": false,
     "start_time": "2022-06-21T20:44:09.844957",
     "status": "completed"
    },
    "tags": []
   },
   "outputs": [],
   "source": [
    "# label encoding\n",
    "binary_cols = [col for col in df.columns if df[col].dtypes == \"O\" and df[col].nunique() == 2]\n",
    "binary_cols\n",
    "for col in binary_cols:\n",
    "    df = label_encoder(df, col)"
   ]
  },
  {
   "cell_type": "code",
   "execution_count": 49,
   "id": "90c28b3c",
   "metadata": {
    "execution": {
     "iopub.execute_input": "2022-06-21T20:44:10.163736Z",
     "iopub.status.busy": "2022-06-21T20:44:10.163296Z",
     "iopub.status.idle": "2022-06-21T20:44:10.274225Z",
     "shell.execute_reply": "2022-06-21T20:44:10.272969Z"
    },
    "papermill": {
     "duration": 0.153588,
     "end_time": "2022-06-21T20:44:10.276812",
     "exception": false,
     "start_time": "2022-06-21T20:44:10.123224",
     "status": "completed"
    },
    "tags": []
   },
   "outputs": [],
   "source": [
    "# YENİ DEĞİŞKENLER İÇİN: kategorik, numerik, numerik görünümlü kategorik ve kategorik ama kardinal değişkenleri düzenleme\n",
    "cat_cols, num_cols, cat_but_car = grab_col_names(df, cat_th=7, car_th=20)"
   ]
  },
  {
   "cell_type": "code",
   "execution_count": 50,
   "id": "2129c499",
   "metadata": {
    "execution": {
     "iopub.execute_input": "2022-06-21T20:44:10.355224Z",
     "iopub.status.busy": "2022-06-21T20:44:10.354721Z",
     "iopub.status.idle": "2022-06-21T20:44:10.360294Z",
     "shell.execute_reply": "2022-06-21T20:44:10.359137Z"
    },
    "papermill": {
     "duration": 0.047335,
     "end_time": "2022-06-21T20:44:10.362409",
     "exception": false,
     "start_time": "2022-06-21T20:44:10.315074",
     "status": "completed"
    },
    "tags": []
   },
   "outputs": [],
   "source": [
    "cat_cols = [col for col in cat_cols if col not in binary_cols and col not in [\"SATISFACTION\"]]"
   ]
  },
  {
   "cell_type": "code",
   "execution_count": 51,
   "id": "52406d3e",
   "metadata": {
    "execution": {
     "iopub.execute_input": "2022-06-21T20:44:10.440897Z",
     "iopub.status.busy": "2022-06-21T20:44:10.440478Z",
     "iopub.status.idle": "2022-06-21T20:44:10.641809Z",
     "shell.execute_reply": "2022-06-21T20:44:10.640799Z"
    },
    "papermill": {
     "duration": 0.24416,
     "end_time": "2022-06-21T20:44:10.644750",
     "exception": false,
     "start_time": "2022-06-21T20:44:10.400590",
     "status": "completed"
    },
    "tags": []
   },
   "outputs": [],
   "source": [
    "# one-hot encoding\n",
    "df = one_hot_encoder(df, cat_cols, drop_first=True)"
   ]
  },
  {
   "cell_type": "code",
   "execution_count": 52,
   "id": "89992393",
   "metadata": {
    "execution": {
     "iopub.execute_input": "2022-06-21T20:44:10.726263Z",
     "iopub.status.busy": "2022-06-21T20:44:10.725114Z",
     "iopub.status.idle": "2022-06-21T20:44:10.889824Z",
     "shell.execute_reply": "2022-06-21T20:44:10.888617Z"
    },
    "papermill": {
     "duration": 0.208331,
     "end_time": "2022-06-21T20:44:10.892536",
     "exception": false,
     "start_time": "2022-06-21T20:44:10.684205",
     "status": "completed"
    },
    "tags": []
   },
   "outputs": [],
   "source": [
    "# one-hot içeren güncel değişkenleri; kategorik, numerik, numerik görünümlü kategorik ve kategorik ama kardinal olarak düzenleme:\n",
    "cat_cols, num_cols, cat_but_car = grab_col_names(df, cat_th=7, car_th=20)"
   ]
  },
  {
   "cell_type": "code",
   "execution_count": 53,
   "id": "b2e3951b",
   "metadata": {
    "execution": {
     "iopub.execute_input": "2022-06-21T20:44:10.975642Z",
     "iopub.status.busy": "2022-06-21T20:44:10.974635Z",
     "iopub.status.idle": "2022-06-21T20:44:10.980341Z",
     "shell.execute_reply": "2022-06-21T20:44:10.979516Z"
    },
    "papermill": {
     "duration": 0.049506,
     "end_time": "2022-06-21T20:44:10.982480",
     "exception": false,
     "start_time": "2022-06-21T20:44:10.932974",
     "status": "completed"
    },
    "tags": []
   },
   "outputs": [],
   "source": [
    "cat_cols = [col for col in cat_cols if \"SATISFACTION\" not in col]"
   ]
  },
  {
   "cell_type": "code",
   "execution_count": 54,
   "id": "f91f2c82",
   "metadata": {
    "execution": {
     "iopub.execute_input": "2022-06-21T20:44:11.064968Z",
     "iopub.status.busy": "2022-06-21T20:44:11.064339Z",
     "iopub.status.idle": "2022-06-21T20:44:11.103089Z",
     "shell.execute_reply": "2022-06-21T20:44:11.102159Z"
    },
    "papermill": {
     "duration": 0.082365,
     "end_time": "2022-06-21T20:44:11.105165",
     "exception": false,
     "start_time": "2022-06-21T20:44:11.022800",
     "status": "completed"
    },
    "tags": []
   },
   "outputs": [
    {
     "data": {
      "text/html": [
       "<div>\n",
       "<style scoped>\n",
       "    .dataframe tbody tr th:only-of-type {\n",
       "        vertical-align: middle;\n",
       "    }\n",
       "\n",
       "    .dataframe tbody tr th {\n",
       "        vertical-align: top;\n",
       "    }\n",
       "\n",
       "    .dataframe thead th {\n",
       "        text-align: right;\n",
       "    }\n",
       "</style>\n",
       "<table border=\"1\" class=\"dataframe\">\n",
       "  <thead>\n",
       "    <tr style=\"text-align: right;\">\n",
       "      <th></th>\n",
       "      <th>GENDER</th>\n",
       "      <th>CUSTOMER_TYPE</th>\n",
       "      <th>AGE</th>\n",
       "      <th>TYPE_OF_TRAVEL</th>\n",
       "      <th>FLIGHT_DISTANCE</th>\n",
       "      <th>DEPARTURE_DELAY_IN_MINUTES</th>\n",
       "      <th>ARRIVAL_DELAY_IN_MINUTES</th>\n",
       "      <th>SATISFACTION</th>\n",
       "      <th>CLASS_Eco</th>\n",
       "      <th>CLASS_Eco Plus</th>\n",
       "      <th>NEW_AGE_CAT_old</th>\n",
       "      <th>NEW_AGE_CAT_young</th>\n",
       "      <th>NEW_DISTANCE_middle</th>\n",
       "      <th>NEW_DISTANCE_short</th>\n",
       "      <th>INFLIGHT_WIFI_SERVICE_2.0</th>\n",
       "      <th>INFLIGHT_WIFI_SERVICE_3.0</th>\n",
       "      <th>INFLIGHT_WIFI_SERVICE_4.0</th>\n",
       "      <th>INFLIGHT_WIFI_SERVICE_5.0</th>\n",
       "      <th>DEPARTURE/ARRIVAL_TIME_CONVENIENT_1</th>\n",
       "      <th>DEPARTURE/ARRIVAL_TIME_CONVENIENT_2</th>\n",
       "      <th>DEPARTURE/ARRIVAL_TIME_CONVENIENT_3</th>\n",
       "      <th>DEPARTURE/ARRIVAL_TIME_CONVENIENT_4</th>\n",
       "      <th>DEPARTURE/ARRIVAL_TIME_CONVENIENT_5</th>\n",
       "      <th>EASE_OF_ONLINE_BOOKING_1</th>\n",
       "      <th>EASE_OF_ONLINE_BOOKING_2</th>\n",
       "      <th>EASE_OF_ONLINE_BOOKING_3</th>\n",
       "      <th>EASE_OF_ONLINE_BOOKING_4</th>\n",
       "      <th>EASE_OF_ONLINE_BOOKING_5</th>\n",
       "      <th>GATE_LOCATION_1</th>\n",
       "      <th>GATE_LOCATION_2</th>\n",
       "      <th>GATE_LOCATION_3</th>\n",
       "      <th>GATE_LOCATION_4</th>\n",
       "      <th>GATE_LOCATION_5</th>\n",
       "      <th>FOOD_AND_DRINK_1</th>\n",
       "      <th>FOOD_AND_DRINK_2</th>\n",
       "      <th>FOOD_AND_DRINK_3</th>\n",
       "      <th>FOOD_AND_DRINK_4</th>\n",
       "      <th>FOOD_AND_DRINK_5</th>\n",
       "      <th>ONLINE_BOARDING_1</th>\n",
       "      <th>ONLINE_BOARDING_2</th>\n",
       "      <th>ONLINE_BOARDING_3</th>\n",
       "      <th>ONLINE_BOARDING_4</th>\n",
       "      <th>ONLINE_BOARDING_5</th>\n",
       "      <th>SEAT_COMFORT_1</th>\n",
       "      <th>SEAT_COMFORT_2</th>\n",
       "      <th>SEAT_COMFORT_3</th>\n",
       "      <th>SEAT_COMFORT_4</th>\n",
       "      <th>SEAT_COMFORT_5</th>\n",
       "      <th>INFLIGHT_ENTERTAINMENT_1</th>\n",
       "      <th>INFLIGHT_ENTERTAINMENT_2</th>\n",
       "      <th>INFLIGHT_ENTERTAINMENT_3</th>\n",
       "      <th>INFLIGHT_ENTERTAINMENT_4</th>\n",
       "      <th>INFLIGHT_ENTERTAINMENT_5</th>\n",
       "      <th>ON-BOARD_SERVICE_1</th>\n",
       "      <th>ON-BOARD_SERVICE_2</th>\n",
       "      <th>ON-BOARD_SERVICE_3</th>\n",
       "      <th>ON-BOARD_SERVICE_4</th>\n",
       "      <th>ON-BOARD_SERVICE_5</th>\n",
       "      <th>LEG_ROOM_SERVICE_1</th>\n",
       "      <th>LEG_ROOM_SERVICE_2</th>\n",
       "      <th>LEG_ROOM_SERVICE_3</th>\n",
       "      <th>LEG_ROOM_SERVICE_4</th>\n",
       "      <th>LEG_ROOM_SERVICE_5</th>\n",
       "      <th>BAGGAGE_HANDLING_2</th>\n",
       "      <th>BAGGAGE_HANDLING_3</th>\n",
       "      <th>BAGGAGE_HANDLING_4</th>\n",
       "      <th>BAGGAGE_HANDLING_5</th>\n",
       "      <th>CHECKIN_SERVICE_1</th>\n",
       "      <th>CHECKIN_SERVICE_2</th>\n",
       "      <th>CHECKIN_SERVICE_3</th>\n",
       "      <th>CHECKIN_SERVICE_4</th>\n",
       "      <th>CHECKIN_SERVICE_5</th>\n",
       "      <th>INFLIGHT_SERVICE_1</th>\n",
       "      <th>INFLIGHT_SERVICE_2</th>\n",
       "      <th>INFLIGHT_SERVICE_3</th>\n",
       "      <th>INFLIGHT_SERVICE_4</th>\n",
       "      <th>INFLIGHT_SERVICE_5</th>\n",
       "      <th>CLEANLINESS_1</th>\n",
       "      <th>CLEANLINESS_2</th>\n",
       "      <th>CLEANLINESS_3</th>\n",
       "      <th>CLEANLINESS_4</th>\n",
       "      <th>CLEANLINESS_5</th>\n",
       "    </tr>\n",
       "  </thead>\n",
       "  <tbody>\n",
       "    <tr>\n",
       "      <th>0</th>\n",
       "      <td>1</td>\n",
       "      <td>0</td>\n",
       "      <td>13</td>\n",
       "      <td>1</td>\n",
       "      <td>460</td>\n",
       "      <td>25</td>\n",
       "      <td>18.000</td>\n",
       "      <td>0</td>\n",
       "      <td>0</td>\n",
       "      <td>1</td>\n",
       "      <td>0</td>\n",
       "      <td>1</td>\n",
       "      <td>0</td>\n",
       "      <td>1</td>\n",
       "      <td>0</td>\n",
       "      <td>1</td>\n",
       "      <td>0</td>\n",
       "      <td>0</td>\n",
       "      <td>0</td>\n",
       "      <td>0</td>\n",
       "      <td>0</td>\n",
       "      <td>1</td>\n",
       "      <td>0</td>\n",
       "      <td>0</td>\n",
       "      <td>0</td>\n",
       "      <td>1</td>\n",
       "      <td>0</td>\n",
       "      <td>0</td>\n",
       "      <td>1</td>\n",
       "      <td>0</td>\n",
       "      <td>0</td>\n",
       "      <td>0</td>\n",
       "      <td>0</td>\n",
       "      <td>0</td>\n",
       "      <td>0</td>\n",
       "      <td>0</td>\n",
       "      <td>0</td>\n",
       "      <td>1</td>\n",
       "      <td>0</td>\n",
       "      <td>0</td>\n",
       "      <td>1</td>\n",
       "      <td>0</td>\n",
       "      <td>0</td>\n",
       "      <td>0</td>\n",
       "      <td>0</td>\n",
       "      <td>0</td>\n",
       "      <td>0</td>\n",
       "      <td>1</td>\n",
       "      <td>0</td>\n",
       "      <td>0</td>\n",
       "      <td>0</td>\n",
       "      <td>0</td>\n",
       "      <td>1</td>\n",
       "      <td>0</td>\n",
       "      <td>0</td>\n",
       "      <td>0</td>\n",
       "      <td>1</td>\n",
       "      <td>0</td>\n",
       "      <td>0</td>\n",
       "      <td>0</td>\n",
       "      <td>1</td>\n",
       "      <td>0</td>\n",
       "      <td>0</td>\n",
       "      <td>0</td>\n",
       "      <td>0</td>\n",
       "      <td>1</td>\n",
       "      <td>0</td>\n",
       "      <td>0</td>\n",
       "      <td>0</td>\n",
       "      <td>0</td>\n",
       "      <td>1</td>\n",
       "      <td>0</td>\n",
       "      <td>0</td>\n",
       "      <td>0</td>\n",
       "      <td>0</td>\n",
       "      <td>0</td>\n",
       "      <td>1</td>\n",
       "      <td>0</td>\n",
       "      <td>0</td>\n",
       "      <td>0</td>\n",
       "      <td>0</td>\n",
       "      <td>1</td>\n",
       "    </tr>\n",
       "    <tr>\n",
       "      <th>1</th>\n",
       "      <td>1</td>\n",
       "      <td>1</td>\n",
       "      <td>25</td>\n",
       "      <td>0</td>\n",
       "      <td>235</td>\n",
       "      <td>1</td>\n",
       "      <td>6.000</td>\n",
       "      <td>0</td>\n",
       "      <td>0</td>\n",
       "      <td>0</td>\n",
       "      <td>0</td>\n",
       "      <td>1</td>\n",
       "      <td>0</td>\n",
       "      <td>1</td>\n",
       "      <td>0</td>\n",
       "      <td>1</td>\n",
       "      <td>0</td>\n",
       "      <td>0</td>\n",
       "      <td>0</td>\n",
       "      <td>1</td>\n",
       "      <td>0</td>\n",
       "      <td>0</td>\n",
       "      <td>0</td>\n",
       "      <td>0</td>\n",
       "      <td>0</td>\n",
       "      <td>1</td>\n",
       "      <td>0</td>\n",
       "      <td>0</td>\n",
       "      <td>0</td>\n",
       "      <td>0</td>\n",
       "      <td>1</td>\n",
       "      <td>0</td>\n",
       "      <td>0</td>\n",
       "      <td>1</td>\n",
       "      <td>0</td>\n",
       "      <td>0</td>\n",
       "      <td>0</td>\n",
       "      <td>0</td>\n",
       "      <td>0</td>\n",
       "      <td>0</td>\n",
       "      <td>1</td>\n",
       "      <td>0</td>\n",
       "      <td>0</td>\n",
       "      <td>1</td>\n",
       "      <td>0</td>\n",
       "      <td>0</td>\n",
       "      <td>0</td>\n",
       "      <td>0</td>\n",
       "      <td>1</td>\n",
       "      <td>0</td>\n",
       "      <td>0</td>\n",
       "      <td>0</td>\n",
       "      <td>0</td>\n",
       "      <td>1</td>\n",
       "      <td>0</td>\n",
       "      <td>0</td>\n",
       "      <td>0</td>\n",
       "      <td>0</td>\n",
       "      <td>0</td>\n",
       "      <td>0</td>\n",
       "      <td>0</td>\n",
       "      <td>0</td>\n",
       "      <td>1</td>\n",
       "      <td>0</td>\n",
       "      <td>1</td>\n",
       "      <td>0</td>\n",
       "      <td>0</td>\n",
       "      <td>1</td>\n",
       "      <td>0</td>\n",
       "      <td>0</td>\n",
       "      <td>0</td>\n",
       "      <td>0</td>\n",
       "      <td>0</td>\n",
       "      <td>0</td>\n",
       "      <td>0</td>\n",
       "      <td>1</td>\n",
       "      <td>0</td>\n",
       "      <td>1</td>\n",
       "      <td>0</td>\n",
       "      <td>0</td>\n",
       "      <td>0</td>\n",
       "      <td>0</td>\n",
       "    </tr>\n",
       "    <tr>\n",
       "      <th>2</th>\n",
       "      <td>0</td>\n",
       "      <td>0</td>\n",
       "      <td>26</td>\n",
       "      <td>0</td>\n",
       "      <td>1142</td>\n",
       "      <td>0</td>\n",
       "      <td>0.000</td>\n",
       "      <td>1</td>\n",
       "      <td>0</td>\n",
       "      <td>0</td>\n",
       "      <td>0</td>\n",
       "      <td>1</td>\n",
       "      <td>1</td>\n",
       "      <td>0</td>\n",
       "      <td>1</td>\n",
       "      <td>0</td>\n",
       "      <td>0</td>\n",
       "      <td>0</td>\n",
       "      <td>0</td>\n",
       "      <td>1</td>\n",
       "      <td>0</td>\n",
       "      <td>0</td>\n",
       "      <td>0</td>\n",
       "      <td>0</td>\n",
       "      <td>1</td>\n",
       "      <td>0</td>\n",
       "      <td>0</td>\n",
       "      <td>0</td>\n",
       "      <td>0</td>\n",
       "      <td>1</td>\n",
       "      <td>0</td>\n",
       "      <td>0</td>\n",
       "      <td>0</td>\n",
       "      <td>0</td>\n",
       "      <td>0</td>\n",
       "      <td>0</td>\n",
       "      <td>0</td>\n",
       "      <td>1</td>\n",
       "      <td>0</td>\n",
       "      <td>0</td>\n",
       "      <td>0</td>\n",
       "      <td>0</td>\n",
       "      <td>1</td>\n",
       "      <td>0</td>\n",
       "      <td>0</td>\n",
       "      <td>0</td>\n",
       "      <td>0</td>\n",
       "      <td>1</td>\n",
       "      <td>0</td>\n",
       "      <td>0</td>\n",
       "      <td>0</td>\n",
       "      <td>0</td>\n",
       "      <td>1</td>\n",
       "      <td>0</td>\n",
       "      <td>0</td>\n",
       "      <td>0</td>\n",
       "      <td>1</td>\n",
       "      <td>0</td>\n",
       "      <td>0</td>\n",
       "      <td>0</td>\n",
       "      <td>1</td>\n",
       "      <td>0</td>\n",
       "      <td>0</td>\n",
       "      <td>0</td>\n",
       "      <td>0</td>\n",
       "      <td>1</td>\n",
       "      <td>0</td>\n",
       "      <td>0</td>\n",
       "      <td>0</td>\n",
       "      <td>0</td>\n",
       "      <td>1</td>\n",
       "      <td>0</td>\n",
       "      <td>0</td>\n",
       "      <td>0</td>\n",
       "      <td>0</td>\n",
       "      <td>1</td>\n",
       "      <td>0</td>\n",
       "      <td>0</td>\n",
       "      <td>0</td>\n",
       "      <td>0</td>\n",
       "      <td>0</td>\n",
       "      <td>1</td>\n",
       "    </tr>\n",
       "    <tr>\n",
       "      <th>3</th>\n",
       "      <td>0</td>\n",
       "      <td>0</td>\n",
       "      <td>25</td>\n",
       "      <td>0</td>\n",
       "      <td>562</td>\n",
       "      <td>11</td>\n",
       "      <td>9.000</td>\n",
       "      <td>0</td>\n",
       "      <td>0</td>\n",
       "      <td>0</td>\n",
       "      <td>0</td>\n",
       "      <td>1</td>\n",
       "      <td>0</td>\n",
       "      <td>1</td>\n",
       "      <td>1</td>\n",
       "      <td>0</td>\n",
       "      <td>0</td>\n",
       "      <td>0</td>\n",
       "      <td>0</td>\n",
       "      <td>0</td>\n",
       "      <td>0</td>\n",
       "      <td>0</td>\n",
       "      <td>1</td>\n",
       "      <td>0</td>\n",
       "      <td>0</td>\n",
       "      <td>0</td>\n",
       "      <td>0</td>\n",
       "      <td>1</td>\n",
       "      <td>0</td>\n",
       "      <td>0</td>\n",
       "      <td>0</td>\n",
       "      <td>0</td>\n",
       "      <td>1</td>\n",
       "      <td>0</td>\n",
       "      <td>1</td>\n",
       "      <td>0</td>\n",
       "      <td>0</td>\n",
       "      <td>0</td>\n",
       "      <td>0</td>\n",
       "      <td>1</td>\n",
       "      <td>0</td>\n",
       "      <td>0</td>\n",
       "      <td>0</td>\n",
       "      <td>0</td>\n",
       "      <td>1</td>\n",
       "      <td>0</td>\n",
       "      <td>0</td>\n",
       "      <td>0</td>\n",
       "      <td>0</td>\n",
       "      <td>1</td>\n",
       "      <td>0</td>\n",
       "      <td>0</td>\n",
       "      <td>0</td>\n",
       "      <td>0</td>\n",
       "      <td>1</td>\n",
       "      <td>0</td>\n",
       "      <td>0</td>\n",
       "      <td>0</td>\n",
       "      <td>0</td>\n",
       "      <td>0</td>\n",
       "      <td>0</td>\n",
       "      <td>0</td>\n",
       "      <td>1</td>\n",
       "      <td>0</td>\n",
       "      <td>1</td>\n",
       "      <td>0</td>\n",
       "      <td>0</td>\n",
       "      <td>1</td>\n",
       "      <td>0</td>\n",
       "      <td>0</td>\n",
       "      <td>0</td>\n",
       "      <td>0</td>\n",
       "      <td>0</td>\n",
       "      <td>0</td>\n",
       "      <td>0</td>\n",
       "      <td>1</td>\n",
       "      <td>0</td>\n",
       "      <td>0</td>\n",
       "      <td>1</td>\n",
       "      <td>0</td>\n",
       "      <td>0</td>\n",
       "      <td>0</td>\n",
       "    </tr>\n",
       "    <tr>\n",
       "      <th>4</th>\n",
       "      <td>1</td>\n",
       "      <td>0</td>\n",
       "      <td>61</td>\n",
       "      <td>0</td>\n",
       "      <td>214</td>\n",
       "      <td>0</td>\n",
       "      <td>0.000</td>\n",
       "      <td>1</td>\n",
       "      <td>0</td>\n",
       "      <td>0</td>\n",
       "      <td>1</td>\n",
       "      <td>0</td>\n",
       "      <td>0</td>\n",
       "      <td>1</td>\n",
       "      <td>0</td>\n",
       "      <td>1</td>\n",
       "      <td>0</td>\n",
       "      <td>0</td>\n",
       "      <td>0</td>\n",
       "      <td>0</td>\n",
       "      <td>1</td>\n",
       "      <td>0</td>\n",
       "      <td>0</td>\n",
       "      <td>0</td>\n",
       "      <td>0</td>\n",
       "      <td>1</td>\n",
       "      <td>0</td>\n",
       "      <td>0</td>\n",
       "      <td>0</td>\n",
       "      <td>0</td>\n",
       "      <td>1</td>\n",
       "      <td>0</td>\n",
       "      <td>0</td>\n",
       "      <td>0</td>\n",
       "      <td>0</td>\n",
       "      <td>0</td>\n",
       "      <td>1</td>\n",
       "      <td>0</td>\n",
       "      <td>0</td>\n",
       "      <td>0</td>\n",
       "      <td>0</td>\n",
       "      <td>0</td>\n",
       "      <td>1</td>\n",
       "      <td>0</td>\n",
       "      <td>0</td>\n",
       "      <td>0</td>\n",
       "      <td>0</td>\n",
       "      <td>1</td>\n",
       "      <td>0</td>\n",
       "      <td>0</td>\n",
       "      <td>1</td>\n",
       "      <td>0</td>\n",
       "      <td>0</td>\n",
       "      <td>0</td>\n",
       "      <td>0</td>\n",
       "      <td>1</td>\n",
       "      <td>0</td>\n",
       "      <td>0</td>\n",
       "      <td>0</td>\n",
       "      <td>0</td>\n",
       "      <td>0</td>\n",
       "      <td>1</td>\n",
       "      <td>0</td>\n",
       "      <td>0</td>\n",
       "      <td>0</td>\n",
       "      <td>1</td>\n",
       "      <td>0</td>\n",
       "      <td>0</td>\n",
       "      <td>0</td>\n",
       "      <td>1</td>\n",
       "      <td>0</td>\n",
       "      <td>0</td>\n",
       "      <td>0</td>\n",
       "      <td>0</td>\n",
       "      <td>1</td>\n",
       "      <td>0</td>\n",
       "      <td>0</td>\n",
       "      <td>0</td>\n",
       "      <td>0</td>\n",
       "      <td>1</td>\n",
       "      <td>0</td>\n",
       "      <td>0</td>\n",
       "    </tr>\n",
       "  </tbody>\n",
       "</table>\n",
       "</div>"
      ],
      "text/plain": [
       "   GENDER  CUSTOMER_TYPE  AGE  TYPE_OF_TRAVEL  FLIGHT_DISTANCE  DEPARTURE_DELAY_IN_MINUTES  ARRIVAL_DELAY_IN_MINUTES  SATISFACTION  CLASS_Eco  CLASS_Eco Plus  NEW_AGE_CAT_old  NEW_AGE_CAT_young  NEW_DISTANCE_middle  NEW_DISTANCE_short  INFLIGHT_WIFI_SERVICE_2.0  INFLIGHT_WIFI_SERVICE_3.0  INFLIGHT_WIFI_SERVICE_4.0  INFLIGHT_WIFI_SERVICE_5.0  DEPARTURE/ARRIVAL_TIME_CONVENIENT_1  DEPARTURE/ARRIVAL_TIME_CONVENIENT_2  DEPARTURE/ARRIVAL_TIME_CONVENIENT_3  DEPARTURE/ARRIVAL_TIME_CONVENIENT_4  \\\n",
       "0       1              0   13               1              460                          25                    18.000             0          0               1                0                  1                    0                   1                          0                          1                          0                          0                                    0                                    0                                    0                                    1   \n",
       "1       1              1   25               0              235                           1                     6.000             0          0               0                0                  1                    0                   1                          0                          1                          0                          0                                    0                                    1                                    0                                    0   \n",
       "2       0              0   26               0             1142                           0                     0.000             1          0               0                0                  1                    1                   0                          1                          0                          0                          0                                    0                                    1                                    0                                    0   \n",
       "3       0              0   25               0              562                          11                     9.000             0          0               0                0                  1                    0                   1                          1                          0                          0                          0                                    0                                    0                                    0                                    0   \n",
       "4       1              0   61               0              214                           0                     0.000             1          0               0                1                  0                    0                   1                          0                          1                          0                          0                                    0                                    0                                    1                                    0   \n",
       "\n",
       "   DEPARTURE/ARRIVAL_TIME_CONVENIENT_5  EASE_OF_ONLINE_BOOKING_1  EASE_OF_ONLINE_BOOKING_2  EASE_OF_ONLINE_BOOKING_3  EASE_OF_ONLINE_BOOKING_4  EASE_OF_ONLINE_BOOKING_5  GATE_LOCATION_1  GATE_LOCATION_2  GATE_LOCATION_3  GATE_LOCATION_4  GATE_LOCATION_5  FOOD_AND_DRINK_1  FOOD_AND_DRINK_2  FOOD_AND_DRINK_3  FOOD_AND_DRINK_4  FOOD_AND_DRINK_5  ONLINE_BOARDING_1  ONLINE_BOARDING_2  ONLINE_BOARDING_3  ONLINE_BOARDING_4  ONLINE_BOARDING_5  SEAT_COMFORT_1  SEAT_COMFORT_2  SEAT_COMFORT_3  \\\n",
       "0                                    0                         0                         0                         1                         0                         0                1                0                0                0                0                 0                 0                 0                 0                 1                  0                  0                  1                  0                  0               0               0               0   \n",
       "1                                    0                         0                         0                         1                         0                         0                0                0                1                0                0                 1                 0                 0                 0                 0                  0                  0                  1                  0                  0               1               0               0   \n",
       "2                                    0                         0                         1                         0                         0                         0                0                1                0                0                0                 0                 0                 0                 0                 1                  0                  0                  0                  0                  1               0               0               0   \n",
       "3                                    1                         0                         0                         0                         0                         1                0                0                0                0                1                 0                 1                 0                 0                 0                  0                  1                  0                  0                  0               0               1               0   \n",
       "4                                    0                         0                         0                         1                         0                         0                0                0                1                0                0                 0                 0                 0                 1                 0                  0                  0                  0                  0                  1               0               0               0   \n",
       "\n",
       "   SEAT_COMFORT_4  SEAT_COMFORT_5  INFLIGHT_ENTERTAINMENT_1  INFLIGHT_ENTERTAINMENT_2  INFLIGHT_ENTERTAINMENT_3  INFLIGHT_ENTERTAINMENT_4  INFLIGHT_ENTERTAINMENT_5  ON-BOARD_SERVICE_1  ON-BOARD_SERVICE_2  ON-BOARD_SERVICE_3  ON-BOARD_SERVICE_4  ON-BOARD_SERVICE_5  LEG_ROOM_SERVICE_1  LEG_ROOM_SERVICE_2  LEG_ROOM_SERVICE_3  LEG_ROOM_SERVICE_4  LEG_ROOM_SERVICE_5  BAGGAGE_HANDLING_2  BAGGAGE_HANDLING_3  BAGGAGE_HANDLING_4  BAGGAGE_HANDLING_5  CHECKIN_SERVICE_1  CHECKIN_SERVICE_2  \\\n",
       "0               0               1                         0                         0                         0                         0                         1                   0                   0                   0                   1                   0                   0                   0                   1                   0                   0                   0                   0                   1                   0                  0                  0   \n",
       "1               0               0                         1                         0                         0                         0                         0                   1                   0                   0                   0                   0                   0                   0                   0                   0                   1                   0                   1                   0                   0                  1                  0   \n",
       "2               0               1                         0                         0                         0                         0                         1                   0                   0                   0                   1                   0                   0                   0                   1                   0                   0                   0                   0                   1                   0                  0                  0   \n",
       "3               0               0                         0                         1                         0                         0                         0                   0                   1                   0                   0                   0                   0                   0                   0                   0                   1                   0                   1                   0                   0                  1                  0   \n",
       "4               0               1                         0                         0                         1                         0                         0                   0                   0                   1                   0                   0                   0                   0                   0                   1                   0                   0                   0                   1                   0                  0                  0   \n",
       "\n",
       "   CHECKIN_SERVICE_3  CHECKIN_SERVICE_4  CHECKIN_SERVICE_5  INFLIGHT_SERVICE_1  INFLIGHT_SERVICE_2  INFLIGHT_SERVICE_3  INFLIGHT_SERVICE_4  INFLIGHT_SERVICE_5  CLEANLINESS_1  CLEANLINESS_2  CLEANLINESS_3  CLEANLINESS_4  CLEANLINESS_5  \n",
       "0                  0                  1                  0                   0                   0                   0                   0                   1              0              0              0              0              1  \n",
       "1                  0                  0                  0                   0                   0                   0                   1                   0              1              0              0              0              0  \n",
       "2                  0                  1                  0                   0                   0                   0                   1                   0              0              0              0              0              1  \n",
       "3                  0                  0                  0                   0                   0                   0                   1                   0              0              1              0              0              0  \n",
       "4                  1                  0                  0                   0                   0                   1                   0                   0              0              0              1              0              0  "
      ]
     },
     "execution_count": 54,
     "metadata": {},
     "output_type": "execute_result"
    }
   ],
   "source": [
    "df.head()"
   ]
  },
  {
   "cell_type": "code",
   "execution_count": 55,
   "id": "1ea9285d",
   "metadata": {
    "execution": {
     "iopub.execute_input": "2022-06-21T20:44:11.186236Z",
     "iopub.status.busy": "2022-06-21T20:44:11.185820Z",
     "iopub.status.idle": "2022-06-21T20:44:11.233471Z",
     "shell.execute_reply": "2022-06-21T20:44:11.232079Z"
    },
    "papermill": {
     "duration": 0.091408,
     "end_time": "2022-06-21T20:44:11.236185",
     "exception": false,
     "start_time": "2022-06-21T20:44:11.144777",
     "status": "completed"
    },
    "tags": []
   },
   "outputs": [
    {
     "name": "stdout",
     "output_type": "stream",
     "text": [
      "AGE False\n",
      "FLIGHT_DISTANCE False\n",
      "DEPARTURE_DELAY_IN_MINUTES False\n",
      "ARRIVAL_DELAY_IN_MINUTES False\n"
     ]
    }
   ],
   "source": [
    "# verinin son halinde aykırı değer var mı gözlemliyorum:\n",
    "for col in num_cols:\n",
    "    print(col, check_outlier(df, col, 0.05, 0.95))"
   ]
  },
  {
   "cell_type": "code",
   "execution_count": 56,
   "id": "42586de6",
   "metadata": {
    "execution": {
     "iopub.execute_input": "2022-06-21T20:44:11.317866Z",
     "iopub.status.busy": "2022-06-21T20:44:11.317402Z",
     "iopub.status.idle": "2022-06-21T20:44:11.342259Z",
     "shell.execute_reply": "2022-06-21T20:44:11.341295Z"
    },
    "papermill": {
     "duration": 0.068378,
     "end_time": "2022-06-21T20:44:11.344703",
     "exception": false,
     "start_time": "2022-06-21T20:44:11.276325",
     "status": "completed"
    },
    "tags": []
   },
   "outputs": [],
   "source": [
    "# Numerik değişkenler için standartlaştırma:\n",
    "\n",
    "scaler = StandardScaler()\n",
    "df[num_cols] = scaler.fit_transform(df[num_cols])"
   ]
  },
  {
   "cell_type": "markdown",
   "id": "bd1880a3",
   "metadata": {
    "papermill": {
     "duration": 0.039772,
     "end_time": "2022-06-21T20:44:11.424091",
     "exception": false,
     "start_time": "2022-06-21T20:44:11.384319",
     "status": "completed"
    },
    "tags": []
   },
   "source": [
    "# MODELLEME"
   ]
  },
  {
   "cell_type": "code",
   "execution_count": 57,
   "id": "edc1f39c",
   "metadata": {
    "execution": {
     "iopub.execute_input": "2022-06-21T20:44:11.505686Z",
     "iopub.status.busy": "2022-06-21T20:44:11.504839Z",
     "iopub.status.idle": "2022-06-21T20:44:11.609695Z",
     "shell.execute_reply": "2022-06-21T20:44:11.608692Z"
    },
    "papermill": {
     "duration": 0.148569,
     "end_time": "2022-06-21T20:44:11.612260",
     "exception": false,
     "start_time": "2022-06-21T20:44:11.463691",
     "status": "completed"
    },
    "tags": []
   },
   "outputs": [],
   "source": [
    "# Adım 5: Model oluşturunuz.\n",
    "\n",
    "y = df[\"SATISFACTION\"]\n",
    "X = df.drop([\"SATISFACTION\"], axis=1)\n",
    "X_train, X_test, y_train, y_test = train_test_split(X, y, test_size=0.20, random_state=17)"
   ]
  },
  {
   "cell_type": "markdown",
   "id": "bd35c6d0",
   "metadata": {
    "papermill": {
     "duration": 0.040212,
     "end_time": "2022-06-21T20:44:11.693334",
     "exception": false,
     "start_time": "2022-06-21T20:44:11.653122",
     "status": "completed"
    },
    "tags": []
   },
   "source": [
    "Accuracy: doğru sınıflandırma oranı\n",
    "\n",
    "Presicion: pozitif(1) sınıfının tahminlerinin başarı oranı\n",
    "\n",
    "Recall: pozitif(1) sınıfının doğru tahmin edilme oranı\n",
    "\n",
    "\n"
   ]
  },
  {
   "cell_type": "markdown",
   "id": "fa9e8805",
   "metadata": {
    "papermill": {
     "duration": 0.03955,
     "end_time": "2022-06-21T20:44:11.773135",
     "exception": false,
     "start_time": "2022-06-21T20:44:11.733585",
     "status": "completed"
    },
    "tags": []
   },
   "source": [
    "Base Models"
   ]
  },
  {
   "cell_type": "code",
   "execution_count": 58,
   "id": "e433910e",
   "metadata": {
    "execution": {
     "iopub.execute_input": "2022-06-21T20:44:11.854430Z",
     "iopub.status.busy": "2022-06-21T20:44:11.853987Z",
     "iopub.status.idle": "2022-06-21T21:17:57.523574Z",
     "shell.execute_reply": "2022-06-21T21:17:57.522725Z"
    },
    "papermill": {
     "duration": 2025.713119,
     "end_time": "2022-06-21T21:17:57.525916",
     "exception": false,
     "start_time": "2022-06-21T20:44:11.812797",
     "status": "completed"
    },
    "tags": []
   },
   "outputs": [
    {
     "name": "stdout",
     "output_type": "stream",
     "text": [
      "Base Models....\n",
      "accuracy: 0.9227 (LR) \n",
      "accuracy: 0.9217 (KNN) \n",
      "accuracy: 0.9549 (SVC) \n",
      "accuracy: 0.9391 (CART) \n",
      "accuracy: 0.9546 (RF) \n",
      "accuracy: 0.9082 (Adaboost) \n",
      "accuracy: 0.9346 (GBM) \n",
      "accuracy: 0.9608 (XGBoost) \n",
      "accuracy: 0.9604 (LightGBM) \n"
     ]
    }
   ],
   "source": [
    "######################################################\n",
    "# 3. Base Models\n",
    "######################################################\n",
    "\n",
    "# Base_model fonksiyonunu kullanıp base modeli kurma:\n",
    "base_models(X, y, scoring=\"accuracy\")\n"
   ]
  },
  {
   "cell_type": "code",
   "execution_count": 59,
   "id": "4ca0a70f",
   "metadata": {
    "execution": {
     "iopub.execute_input": "2022-06-21T21:17:57.614822Z",
     "iopub.status.busy": "2022-06-21T21:17:57.614369Z",
     "iopub.status.idle": "2022-06-21T21:17:57.622901Z",
     "shell.execute_reply": "2022-06-21T21:17:57.622175Z"
    },
    "papermill": {
     "duration": 0.054613,
     "end_time": "2022-06-21T21:17:57.625157",
     "exception": false,
     "start_time": "2022-06-21T21:17:57.570544",
     "status": "completed"
    },
    "tags": []
   },
   "outputs": [],
   "source": [
    "######################################################\n",
    "# 4. Automated Hyperparameter Optimization\n",
    "######################################################\n",
    "\n",
    "knn_params = {\"n_neighbors\": range(2, 50)}\n",
    "\n",
    "cart_params = {'max_depth': range(1, 20),\n",
    "               \"min_samples_split\": range(2, 30)}\n",
    "\n",
    "rf_params = {\"max_depth\": [8, 15, None],\n",
    "             \"max_features\": [5, 7, \"auto\"],\n",
    "             \"min_samples_split\": [15, 20],\n",
    "             \"n_estimators\": [200, 300]}\n",
    "\n",
    "xgboost_params = {\"learning_rate\": [0.1, 0.01],\n",
    "                  \"max_depth\": [5, 8],\n",
    "                  \"n_estimators\": [100, 200]}\n",
    "\n",
    "lightgbm_params = {\"learning_rate\": [0.01, 0.1],\n",
    "                   \"n_estimators\": [200,300, 500],\n",
    "                   \"max_depth\": range(1, 20), \n",
    "                   \"colsample_bytree\": [0.9, 0.8, 1]}"
   ]
  },
  {
   "cell_type": "code",
   "execution_count": 60,
   "id": "fddd02a5",
   "metadata": {
    "execution": {
     "iopub.execute_input": "2022-06-21T21:17:57.709241Z",
     "iopub.status.busy": "2022-06-21T21:17:57.708013Z",
     "iopub.status.idle": "2022-06-21T21:17:57.714405Z",
     "shell.execute_reply": "2022-06-21T21:17:57.713309Z"
    },
    "papermill": {
     "duration": 0.051114,
     "end_time": "2022-06-21T21:17:57.716945",
     "exception": false,
     "start_time": "2022-06-21T21:17:57.665831",
     "status": "completed"
    },
    "tags": []
   },
   "outputs": [],
   "source": [
    "classifiers = [('KNN', KNeighborsClassifier(), knn_params),\n",
    "               (\"CART\", DecisionTreeClassifier(), cart_params),\n",
    "               (\"RF\", RandomForestClassifier(), rf_params),\n",
    "               ('XGBoost', XGBClassifier(use_label_encoder=False, eval_metric='logloss'), xgboost_params),\n",
    "               ('LightGBM', LGBMClassifier(), lightgbm_params)]"
   ]
  },
  {
   "cell_type": "code",
   "execution_count": 61,
   "id": "57b3fecb",
   "metadata": {
    "execution": {
     "iopub.execute_input": "2022-06-21T21:17:57.802813Z",
     "iopub.status.busy": "2022-06-21T21:17:57.801583Z",
     "iopub.status.idle": "2022-06-22T00:19:18.077355Z",
     "shell.execute_reply": "2022-06-22T00:19:18.073556Z"
    },
    "papermill": {
     "duration": 10880.373789,
     "end_time": "2022-06-22T00:19:18.132718",
     "exception": false,
     "start_time": "2022-06-21T21:17:57.758929",
     "status": "completed"
    },
    "tags": []
   },
   "outputs": [
    {
     "name": "stdout",
     "output_type": "stream",
     "text": [
      "Hyperparameter Optimization....\n",
      "########## KNN ##########\n",
      "roc_auc (Before): 0.968\n",
      "roc_auc (After): 0.9745\n",
      "KNN best params: {'n_neighbors': 10}\n",
      "\n",
      "########## CART ##########\n",
      "roc_auc (Before): 0.938\n",
      "roc_auc (After): 0.9793\n",
      "CART best params: {'max_depth': 17, 'min_samples_split': 20}\n",
      "\n",
      "########## RF ##########\n",
      "roc_auc (Before): 0.9917\n",
      "roc_auc (After): 0.9917\n",
      "RF best params: {'max_depth': None, 'max_features': 'auto', 'min_samples_split': 15, 'n_estimators': 300}\n",
      "\n",
      "########## XGBoost ##########\n",
      "roc_auc (Before): 0.9944\n",
      "roc_auc (After): 0.9947\n",
      "XGBoost best params: {'learning_rate': 0.1, 'max_depth': 8, 'n_estimators': 200}\n",
      "\n",
      "########## LightGBM ##########\n",
      "roc_auc (Before): 0.9939\n",
      "roc_auc (After): 0.9948\n",
      "LightGBM best params: {'colsample_bytree': 0.8, 'learning_rate': 0.1, 'max_depth': 10, 'n_estimators': 500}\n",
      "\n"
     ]
    }
   ],
   "source": [
    "# hiperparametre formülü ile hesaplanmış olan en iyi model:\n",
    "best_models = hyperparameter_optimization(X, y)"
   ]
  },
  {
   "cell_type": "code",
   "execution_count": 62,
   "id": "b0f5800d",
   "metadata": {
    "execution": {
     "iopub.execute_input": "2022-06-22T00:19:18.226809Z",
     "iopub.status.busy": "2022-06-22T00:19:18.225292Z",
     "iopub.status.idle": "2022-06-22T00:31:44.888378Z",
     "shell.execute_reply": "2022-06-22T00:31:44.886297Z"
    },
    "papermill": {
     "duration": 746.764635,
     "end_time": "2022-06-22T00:31:44.941597",
     "exception": false,
     "start_time": "2022-06-22T00:19:18.176962",
     "status": "completed"
    },
    "tags": []
   },
   "outputs": [
    {
     "name": "stdout",
     "output_type": "stream",
     "text": [
      "Voting Classifier...\n",
      "Accuracy: 0.9576609273686759\n",
      "F1Score: 0.9504111891336876\n",
      "ROC_AUC: 0.9922004797855754\n"
     ]
    }
   ],
   "source": [
    "######################################################\n",
    "# 5. Stacking & Ensemble Learning\n",
    "######################################################\n",
    "\n",
    "\n",
    "voting_clf = voting_classifier(best_models, X, y)"
   ]
  },
  {
   "cell_type": "markdown",
   "id": "a00a6a9d",
   "metadata": {
    "papermill": {
     "duration": 0.042943,
     "end_time": "2022-06-22T00:31:45.027674",
     "exception": false,
     "start_time": "2022-06-22T00:31:44.984731",
     "status": "completed"
    },
    "tags": []
   },
   "source": [
    "# TAHMİNLEME"
   ]
  },
  {
   "cell_type": "code",
   "execution_count": 63,
   "id": "01f1d7a0",
   "metadata": {
    "execution": {
     "iopub.execute_input": "2022-06-22T00:31:45.117967Z",
     "iopub.status.busy": "2022-06-22T00:31:45.117450Z",
     "iopub.status.idle": "2022-06-22T00:31:45.133678Z",
     "shell.execute_reply": "2022-06-22T00:31:45.132315Z"
    },
    "papermill": {
     "duration": 0.062639,
     "end_time": "2022-06-22T00:31:45.136229",
     "exception": false,
     "start_time": "2022-06-22T00:31:45.073590",
     "status": "completed"
    },
    "tags": []
   },
   "outputs": [],
   "source": [
    "######################################################\n",
    "# 6. Prediction for a New Observation\n",
    "######################################################\n",
    "\n",
    "X.columns\n",
    "random_user = X.sample(1, random_state=45)"
   ]
  },
  {
   "cell_type": "code",
   "execution_count": 64,
   "id": "441623ef",
   "metadata": {
    "execution": {
     "iopub.execute_input": "2022-06-22T00:31:45.222952Z",
     "iopub.status.busy": "2022-06-22T00:31:45.221859Z",
     "iopub.status.idle": "2022-06-22T00:31:45.266983Z",
     "shell.execute_reply": "2022-06-22T00:31:45.265943Z"
    },
    "papermill": {
     "duration": 0.091653,
     "end_time": "2022-06-22T00:31:45.269653",
     "exception": false,
     "start_time": "2022-06-22T00:31:45.178000",
     "status": "completed"
    },
    "tags": []
   },
   "outputs": [
    {
     "data": {
      "text/html": [
       "<div>\n",
       "<style scoped>\n",
       "    .dataframe tbody tr th:only-of-type {\n",
       "        vertical-align: middle;\n",
       "    }\n",
       "\n",
       "    .dataframe tbody tr th {\n",
       "        vertical-align: top;\n",
       "    }\n",
       "\n",
       "    .dataframe thead th {\n",
       "        text-align: right;\n",
       "    }\n",
       "</style>\n",
       "<table border=\"1\" class=\"dataframe\">\n",
       "  <thead>\n",
       "    <tr style=\"text-align: right;\">\n",
       "      <th></th>\n",
       "      <th>GENDER</th>\n",
       "      <th>CUSTOMER_TYPE</th>\n",
       "      <th>AGE</th>\n",
       "      <th>TYPE_OF_TRAVEL</th>\n",
       "      <th>FLIGHT_DISTANCE</th>\n",
       "      <th>DEPARTURE_DELAY_IN_MINUTES</th>\n",
       "      <th>ARRIVAL_DELAY_IN_MINUTES</th>\n",
       "      <th>CLASS_Eco</th>\n",
       "      <th>CLASS_Eco Plus</th>\n",
       "      <th>NEW_AGE_CAT_old</th>\n",
       "      <th>NEW_AGE_CAT_young</th>\n",
       "      <th>NEW_DISTANCE_middle</th>\n",
       "      <th>NEW_DISTANCE_short</th>\n",
       "      <th>INFLIGHT_WIFI_SERVICE_2.0</th>\n",
       "      <th>INFLIGHT_WIFI_SERVICE_3.0</th>\n",
       "      <th>INFLIGHT_WIFI_SERVICE_4.0</th>\n",
       "      <th>INFLIGHT_WIFI_SERVICE_5.0</th>\n",
       "      <th>DEPARTURE/ARRIVAL_TIME_CONVENIENT_1</th>\n",
       "      <th>DEPARTURE/ARRIVAL_TIME_CONVENIENT_2</th>\n",
       "      <th>DEPARTURE/ARRIVAL_TIME_CONVENIENT_3</th>\n",
       "      <th>DEPARTURE/ARRIVAL_TIME_CONVENIENT_4</th>\n",
       "      <th>DEPARTURE/ARRIVAL_TIME_CONVENIENT_5</th>\n",
       "      <th>EASE_OF_ONLINE_BOOKING_1</th>\n",
       "      <th>EASE_OF_ONLINE_BOOKING_2</th>\n",
       "      <th>EASE_OF_ONLINE_BOOKING_3</th>\n",
       "      <th>EASE_OF_ONLINE_BOOKING_4</th>\n",
       "      <th>EASE_OF_ONLINE_BOOKING_5</th>\n",
       "      <th>GATE_LOCATION_1</th>\n",
       "      <th>GATE_LOCATION_2</th>\n",
       "      <th>GATE_LOCATION_3</th>\n",
       "      <th>GATE_LOCATION_4</th>\n",
       "      <th>GATE_LOCATION_5</th>\n",
       "      <th>FOOD_AND_DRINK_1</th>\n",
       "      <th>FOOD_AND_DRINK_2</th>\n",
       "      <th>FOOD_AND_DRINK_3</th>\n",
       "      <th>FOOD_AND_DRINK_4</th>\n",
       "      <th>FOOD_AND_DRINK_5</th>\n",
       "      <th>ONLINE_BOARDING_1</th>\n",
       "      <th>ONLINE_BOARDING_2</th>\n",
       "      <th>ONLINE_BOARDING_3</th>\n",
       "      <th>ONLINE_BOARDING_4</th>\n",
       "      <th>ONLINE_BOARDING_5</th>\n",
       "      <th>SEAT_COMFORT_1</th>\n",
       "      <th>SEAT_COMFORT_2</th>\n",
       "      <th>SEAT_COMFORT_3</th>\n",
       "      <th>SEAT_COMFORT_4</th>\n",
       "      <th>SEAT_COMFORT_5</th>\n",
       "      <th>INFLIGHT_ENTERTAINMENT_1</th>\n",
       "      <th>INFLIGHT_ENTERTAINMENT_2</th>\n",
       "      <th>INFLIGHT_ENTERTAINMENT_3</th>\n",
       "      <th>INFLIGHT_ENTERTAINMENT_4</th>\n",
       "      <th>INFLIGHT_ENTERTAINMENT_5</th>\n",
       "      <th>ON-BOARD_SERVICE_1</th>\n",
       "      <th>ON-BOARD_SERVICE_2</th>\n",
       "      <th>ON-BOARD_SERVICE_3</th>\n",
       "      <th>ON-BOARD_SERVICE_4</th>\n",
       "      <th>ON-BOARD_SERVICE_5</th>\n",
       "      <th>LEG_ROOM_SERVICE_1</th>\n",
       "      <th>LEG_ROOM_SERVICE_2</th>\n",
       "      <th>LEG_ROOM_SERVICE_3</th>\n",
       "      <th>LEG_ROOM_SERVICE_4</th>\n",
       "      <th>LEG_ROOM_SERVICE_5</th>\n",
       "      <th>BAGGAGE_HANDLING_2</th>\n",
       "      <th>BAGGAGE_HANDLING_3</th>\n",
       "      <th>BAGGAGE_HANDLING_4</th>\n",
       "      <th>BAGGAGE_HANDLING_5</th>\n",
       "      <th>CHECKIN_SERVICE_1</th>\n",
       "      <th>CHECKIN_SERVICE_2</th>\n",
       "      <th>CHECKIN_SERVICE_3</th>\n",
       "      <th>CHECKIN_SERVICE_4</th>\n",
       "      <th>CHECKIN_SERVICE_5</th>\n",
       "      <th>INFLIGHT_SERVICE_1</th>\n",
       "      <th>INFLIGHT_SERVICE_2</th>\n",
       "      <th>INFLIGHT_SERVICE_3</th>\n",
       "      <th>INFLIGHT_SERVICE_4</th>\n",
       "      <th>INFLIGHT_SERVICE_5</th>\n",
       "      <th>CLEANLINESS_1</th>\n",
       "      <th>CLEANLINESS_2</th>\n",
       "      <th>CLEANLINESS_3</th>\n",
       "      <th>CLEANLINESS_4</th>\n",
       "      <th>CLEANLINESS_5</th>\n",
       "    </tr>\n",
       "  </thead>\n",
       "  <tbody>\n",
       "    <tr>\n",
       "      <th>82787</th>\n",
       "      <td>1</td>\n",
       "      <td>0</td>\n",
       "      <td>0.302</td>\n",
       "      <td>1</td>\n",
       "      <td>-0.204</td>\n",
       "      <td>-0.658</td>\n",
       "      <td>-0.661</td>\n",
       "      <td>1</td>\n",
       "      <td>0</td>\n",
       "      <td>0</td>\n",
       "      <td>0</td>\n",
       "      <td>0</td>\n",
       "      <td>1</td>\n",
       "      <td>0</td>\n",
       "      <td>1</td>\n",
       "      <td>0</td>\n",
       "      <td>0</td>\n",
       "      <td>0</td>\n",
       "      <td>0</td>\n",
       "      <td>0</td>\n",
       "      <td>0</td>\n",
       "      <td>1</td>\n",
       "      <td>0</td>\n",
       "      <td>0</td>\n",
       "      <td>1</td>\n",
       "      <td>0</td>\n",
       "      <td>0</td>\n",
       "      <td>0</td>\n",
       "      <td>0</td>\n",
       "      <td>0</td>\n",
       "      <td>0</td>\n",
       "      <td>1</td>\n",
       "      <td>0</td>\n",
       "      <td>0</td>\n",
       "      <td>0</td>\n",
       "      <td>1</td>\n",
       "      <td>0</td>\n",
       "      <td>0</td>\n",
       "      <td>0</td>\n",
       "      <td>1</td>\n",
       "      <td>0</td>\n",
       "      <td>0</td>\n",
       "      <td>0</td>\n",
       "      <td>1</td>\n",
       "      <td>0</td>\n",
       "      <td>0</td>\n",
       "      <td>0</td>\n",
       "      <td>0</td>\n",
       "      <td>0</td>\n",
       "      <td>0</td>\n",
       "      <td>1</td>\n",
       "      <td>0</td>\n",
       "      <td>0</td>\n",
       "      <td>0</td>\n",
       "      <td>0</td>\n",
       "      <td>1</td>\n",
       "      <td>0</td>\n",
       "      <td>0</td>\n",
       "      <td>0</td>\n",
       "      <td>0</td>\n",
       "      <td>0</td>\n",
       "      <td>1</td>\n",
       "      <td>0</td>\n",
       "      <td>0</td>\n",
       "      <td>1</td>\n",
       "      <td>0</td>\n",
       "      <td>0</td>\n",
       "      <td>0</td>\n",
       "      <td>0</td>\n",
       "      <td>0</td>\n",
       "      <td>1</td>\n",
       "      <td>0</td>\n",
       "      <td>0</td>\n",
       "      <td>0</td>\n",
       "      <td>1</td>\n",
       "      <td>0</td>\n",
       "      <td>0</td>\n",
       "      <td>0</td>\n",
       "      <td>0</td>\n",
       "      <td>1</td>\n",
       "      <td>0</td>\n",
       "    </tr>\n",
       "  </tbody>\n",
       "</table>\n",
       "</div>"
      ],
      "text/plain": [
       "       GENDER  CUSTOMER_TYPE   AGE  TYPE_OF_TRAVEL  FLIGHT_DISTANCE  DEPARTURE_DELAY_IN_MINUTES  ARRIVAL_DELAY_IN_MINUTES  CLASS_Eco  CLASS_Eco Plus  NEW_AGE_CAT_old  NEW_AGE_CAT_young  NEW_DISTANCE_middle  NEW_DISTANCE_short  INFLIGHT_WIFI_SERVICE_2.0  INFLIGHT_WIFI_SERVICE_3.0  INFLIGHT_WIFI_SERVICE_4.0  INFLIGHT_WIFI_SERVICE_5.0  DEPARTURE/ARRIVAL_TIME_CONVENIENT_1  DEPARTURE/ARRIVAL_TIME_CONVENIENT_2  DEPARTURE/ARRIVAL_TIME_CONVENIENT_3  DEPARTURE/ARRIVAL_TIME_CONVENIENT_4  \\\n",
       "82787       1              0 0.302               1           -0.204                      -0.658                    -0.661          1               0                0                  0                    0                   1                          0                          1                          0                          0                                    0                                    0                                    0                                    0   \n",
       "\n",
       "       DEPARTURE/ARRIVAL_TIME_CONVENIENT_5  EASE_OF_ONLINE_BOOKING_1  EASE_OF_ONLINE_BOOKING_2  EASE_OF_ONLINE_BOOKING_3  EASE_OF_ONLINE_BOOKING_4  EASE_OF_ONLINE_BOOKING_5  GATE_LOCATION_1  GATE_LOCATION_2  GATE_LOCATION_3  GATE_LOCATION_4  GATE_LOCATION_5  FOOD_AND_DRINK_1  FOOD_AND_DRINK_2  FOOD_AND_DRINK_3  FOOD_AND_DRINK_4  FOOD_AND_DRINK_5  ONLINE_BOARDING_1  ONLINE_BOARDING_2  ONLINE_BOARDING_3  ONLINE_BOARDING_4  ONLINE_BOARDING_5  SEAT_COMFORT_1  SEAT_COMFORT_2  SEAT_COMFORT_3  \\\n",
       "82787                                    1                         0                         0                         1                         0                         0                0                0                0                0                1                 0                 0                 0                 1                 0                  0                  0                  1                  0                  0               0               1               0   \n",
       "\n",
       "       SEAT_COMFORT_4  SEAT_COMFORT_5  INFLIGHT_ENTERTAINMENT_1  INFLIGHT_ENTERTAINMENT_2  INFLIGHT_ENTERTAINMENT_3  INFLIGHT_ENTERTAINMENT_4  INFLIGHT_ENTERTAINMENT_5  ON-BOARD_SERVICE_1  ON-BOARD_SERVICE_2  ON-BOARD_SERVICE_3  ON-BOARD_SERVICE_4  ON-BOARD_SERVICE_5  LEG_ROOM_SERVICE_1  LEG_ROOM_SERVICE_2  LEG_ROOM_SERVICE_3  LEG_ROOM_SERVICE_4  LEG_ROOM_SERVICE_5  BAGGAGE_HANDLING_2  BAGGAGE_HANDLING_3  BAGGAGE_HANDLING_4  BAGGAGE_HANDLING_5  CHECKIN_SERVICE_1  CHECKIN_SERVICE_2  \\\n",
       "82787               0               0                         0                         0                         0                         1                         0                   0                   0                   0                   1                   0                   0                   0                   0                   0                   1                   0                   0                   1                   0                  0                  0   \n",
       "\n",
       "       CHECKIN_SERVICE_3  CHECKIN_SERVICE_4  CHECKIN_SERVICE_5  INFLIGHT_SERVICE_1  INFLIGHT_SERVICE_2  INFLIGHT_SERVICE_3  INFLIGHT_SERVICE_4  INFLIGHT_SERVICE_5  CLEANLINESS_1  CLEANLINESS_2  CLEANLINESS_3  CLEANLINESS_4  CLEANLINESS_5  \n",
       "82787                  0                  0                  1                   0                   0                   0                   1                   0              0              0              0              1              0  "
      ]
     },
     "execution_count": 64,
     "metadata": {},
     "output_type": "execute_result"
    }
   ],
   "source": [
    "random_user"
   ]
  },
  {
   "cell_type": "code",
   "execution_count": 65,
   "id": "505181e0",
   "metadata": {
    "execution": {
     "iopub.execute_input": "2022-06-22T00:31:45.358504Z",
     "iopub.status.busy": "2022-06-22T00:31:45.357578Z",
     "iopub.status.idle": "2022-06-22T00:31:45.531418Z",
     "shell.execute_reply": "2022-06-22T00:31:45.530592Z"
    },
    "papermill": {
     "duration": 0.219751,
     "end_time": "2022-06-22T00:31:45.533437",
     "exception": false,
     "start_time": "2022-06-22T00:31:45.313686",
     "status": "completed"
    },
    "tags": []
   },
   "outputs": [
    {
     "data": {
      "text/plain": [
       "array([0])"
      ]
     },
     "execution_count": 65,
     "metadata": {},
     "output_type": "execute_result"
    }
   ],
   "source": [
    "voting_clf.predict(random_user)"
   ]
  },
  {
   "cell_type": "code",
   "execution_count": 66,
   "id": "58dae0b7",
   "metadata": {
    "execution": {
     "iopub.execute_input": "2022-06-22T00:31:45.621335Z",
     "iopub.status.busy": "2022-06-22T00:31:45.620835Z",
     "iopub.status.idle": "2022-06-22T00:38:30.611272Z",
     "shell.execute_reply": "2022-06-22T00:38:30.610251Z"
    },
    "papermill": {
     "duration": 405.037125,
     "end_time": "2022-06-22T00:38:30.614096",
     "exception": false,
     "start_time": "2022-06-22T00:31:45.576971",
     "status": "completed"
    },
    "tags": []
   },
   "outputs": [],
   "source": [
    "y_pred = voting_clf.predict(X)"
   ]
  },
  {
   "cell_type": "code",
   "execution_count": 67,
   "id": "6e1d1bf1",
   "metadata": {
    "execution": {
     "iopub.execute_input": "2022-06-22T00:38:30.704417Z",
     "iopub.status.busy": "2022-06-22T00:38:30.703875Z",
     "iopub.status.idle": "2022-06-22T00:38:31.013433Z",
     "shell.execute_reply": "2022-06-22T00:38:31.012211Z"
    },
    "papermill": {
     "duration": 0.357074,
     "end_time": "2022-06-22T00:38:31.016075",
     "exception": false,
     "start_time": "2022-06-22T00:38:30.659001",
     "status": "completed"
    },
    "tags": []
   },
   "outputs": [
    {
     "data": {
      "image/png": "[encoded data removed]",
      "text/plain": [
       "<Figure size 432x288 with 2 Axes>"
      ]
     },
     "metadata": {
      "needs_background": "light"
     },
     "output_type": "display_data"
    }
   ],
   "source": [
    "plot_confusion_matrix(y, y_pred)"
   ]
  },
  {
   "cell_type": "code",
   "execution_count": 68,
   "id": "014fd586",
   "metadata": {
    "execution": {
     "iopub.execute_input": "2022-06-22T00:38:31.106092Z",
     "iopub.status.busy": "2022-06-22T00:38:31.104974Z",
     "iopub.status.idle": "2022-06-22T00:38:31.378567Z",
     "shell.execute_reply": "2022-06-22T00:38:31.377763Z"
    },
    "papermill": {
     "duration": 0.320431,
     "end_time": "2022-06-22T00:38:31.380837",
     "exception": false,
     "start_time": "2022-06-22T00:38:31.060406",
     "status": "completed"
    },
    "tags": []
   },
   "outputs": [
    {
     "name": "stdout",
     "output_type": "stream",
     "text": [
      "              precision    recall  f1-score   support\n",
      "\n",
      "           0       0.97      0.99      0.98     73452\n",
      "           1       0.98      0.96      0.97     56428\n",
      "\n",
      "    accuracy                           0.97    129880\n",
      "   macro avg       0.98      0.97      0.97    129880\n",
      "weighted avg       0.97      0.97      0.97    129880\n",
      "\n"
     ]
    }
   ],
   "source": [
    "print(classification_report(y, y_pred))"
   ]
  },
  {
   "cell_type": "code",
   "execution_count": 69,
   "id": "19e0f88c",
   "metadata": {
    "execution": {
     "iopub.execute_input": "2022-06-22T00:38:31.473214Z",
     "iopub.status.busy": "2022-06-22T00:38:31.472476Z",
     "iopub.status.idle": "2022-06-22T00:38:31.491345Z",
     "shell.execute_reply": "2022-06-22T00:38:31.490606Z"
    },
    "papermill": {
     "duration": 0.06726,
     "end_time": "2022-06-22T00:38:31.493258",
     "exception": false,
     "start_time": "2022-06-22T00:38:31.425998",
     "status": "completed"
    },
    "tags": []
   },
   "outputs": [
    {
     "data": {
      "text/plain": [
       "VotingClassifier(estimators=[('KNN', KNeighborsClassifier(n_neighbors=10)),\n",
       "                             ('RF',\n",
       "                              RandomForestClassifier(min_samples_split=15,\n",
       "                                                     n_estimators=300)),\n",
       "                             ('LightGBM',\n",
       "                              LGBMClassifier(colsample_bytree=0.8, max_depth=10,\n",
       "                                             n_estimators=500))],\n",
       "                 voting='soft')"
      ]
     },
     "execution_count": 69,
     "metadata": {},
     "output_type": "execute_result"
    }
   ],
   "source": [
    "voting_clf"
   ]
  },
  {
   "cell_type": "markdown",
   "id": "35b519e0",
   "metadata": {
    "papermill": {
     "duration": 0.042471,
     "end_time": "2022-06-22T00:38:31.579765",
     "exception": false,
     "start_time": "2022-06-22T00:38:31.537294",
     "status": "completed"
    },
    "tags": []
   },
   "source": [
    "__________________________________________\n",
    "\n",
    "Lgbm için overfit analizi yapmak istiyorum:"
   ]
  },
  {
   "cell_type": "code",
   "execution_count": 70,
   "id": "f0fa32db",
   "metadata": {
    "execution": {
     "iopub.execute_input": "2022-06-22T00:38:31.669775Z",
     "iopub.status.busy": "2022-06-22T00:38:31.668956Z",
     "iopub.status.idle": "2022-06-22T00:38:31.673527Z",
     "shell.execute_reply": "2022-06-22T00:38:31.672723Z"
    },
    "papermill": {
     "duration": 0.052135,
     "end_time": "2022-06-22T00:38:31.675480",
     "exception": false,
     "start_time": "2022-06-22T00:38:31.623345",
     "status": "completed"
    },
    "tags": []
   },
   "outputs": [],
   "source": [
    "lgbm_model_ = LGBMClassifier()"
   ]
  },
  {
   "cell_type": "code",
   "execution_count": 71,
   "id": "ebe61da5",
   "metadata": {
    "execution": {
     "iopub.execute_input": "2022-06-22T00:38:31.763474Z",
     "iopub.status.busy": "2022-06-22T00:38:31.762679Z",
     "iopub.status.idle": "2022-06-22T00:38:31.769049Z",
     "shell.execute_reply": "2022-06-22T00:38:31.768186Z"
    },
    "papermill": {
     "duration": 0.053808,
     "end_time": "2022-06-22T00:38:31.771471",
     "exception": false,
     "start_time": "2022-06-22T00:38:31.717663",
     "status": "completed"
    },
    "tags": []
   },
   "outputs": [],
   "source": [
    "lightgbm_params2 = [[\"learning_rate\", [0.01, 0.1]],[\"n_estimators\", [200, 300, 500]], ['max_depth', range(1, 20)], [\"colsample_bytree\", [0.9, 0.8, 1]]]"
   ]
  },
  {
   "cell_type": "code",
   "execution_count": 72,
   "id": "c7dd91ae",
   "metadata": {
    "execution": {
     "iopub.execute_input": "2022-06-22T00:38:31.859275Z",
     "iopub.status.busy": "2022-06-22T00:38:31.858352Z",
     "iopub.status.idle": "2022-06-22T00:47:44.768402Z",
     "shell.execute_reply": "2022-06-22T00:47:44.767190Z"
    },
    "papermill": {
     "duration": 553.005235,
     "end_time": "2022-06-22T00:47:44.818971",
     "exception": false,
     "start_time": "2022-06-22T00:38:31.813736",
     "status": "completed"
    },
    "tags": []
   },
   "outputs": [
    {
     "data": {
      "image/png": "[encoded data removed]",
      "text/plain": [
       "<Figure size 432x288 with 1 Axes>"
      ]
     },
     "metadata": {
      "needs_background": "light"
     },
     "output_type": "display_data"
    },
    {
     "data": {
      "image/png": "[encoded data removed]",
      "text/plain": [
       "<Figure size 432x288 with 1 Axes>"
      ]
     },
     "metadata": {
      "needs_background": "light"
     },
     "output_type": "display_data"
    },
    {
     "data": {
      "image/png": "[encoded data removed]",
      "text/plain": [
       "<Figure size 432x288 with 1 Axes>"
      ]
     },
     "metadata": {
      "needs_background": "light"
     },
     "output_type": "display_data"
    },
    {
     "data": {
      "image/png": "[encoded data removed]",
      "text/plain": [
       "<Figure size 432x288 with 1 Axes>"
      ]
     },
     "metadata": {
      "needs_background": "light"
     },
     "output_type": "display_data"
    }
   ],
   "source": [
    "for i in range(len(lightgbm_params2)):\n",
    "    val_curve_params(lgbm_model_, X, y, lightgbm_params2[i][0], lightgbm_params2[i][1])"
   ]
  },
  {
   "cell_type": "code",
   "execution_count": 73,
   "id": "8880855a",
   "metadata": {
    "execution": {
     "iopub.execute_input": "2022-06-22T00:47:44.913306Z",
     "iopub.status.busy": "2022-06-22T00:47:44.912766Z",
     "iopub.status.idle": "2022-06-22T00:56:52.053609Z",
     "shell.execute_reply": "2022-06-22T00:56:52.052177Z"
    },
    "papermill": {
     "duration": 547.236966,
     "end_time": "2022-06-22T00:56:52.102272",
     "exception": false,
     "start_time": "2022-06-22T00:47:44.865306",
     "status": "completed"
    },
    "tags": []
   },
   "outputs": [
    {
     "data": {
      "image/png": "[encoded data removed]",
      "text/plain": [
       "<Figure size 432x288 with 1 Axes>"
      ]
     },
     "metadata": {
      "needs_background": "light"
     },
     "output_type": "display_data"
    },
    {
     "data": {
      "image/png": "[encoded data removed]",
      "text/plain": [
       "<Figure size 432x288 with 1 Axes>"
      ]
     },
     "metadata": {
      "needs_background": "light"
     },
     "output_type": "display_data"
    },
    {
     "data": {
      "image/png": "[encoded data removed]",
      "text/plain": [
       "<Figure size 432x288 with 1 Axes>"
      ]
     },
     "metadata": {
      "needs_background": "light"
     },
     "output_type": "display_data"
    },
    {
     "data": {
      "image/png": "[encoded data removed]",
      "text/plain": [
       "<Figure size 432x288 with 1 Axes>"
      ]
     },
     "metadata": {
      "needs_background": "light"
     },
     "output_type": "display_data"
    }
   ],
   "source": [
    "for i in range(len(lightgbm_params2)):\n",
    "    val_curve_params(lgbm_model_, X, y, lightgbm_params2[i][0], lightgbm_params2[i][1], scoring=\"accuracy\")"
   ]
  },
  {
   "cell_type": "code",
   "execution_count": 74,
   "id": "f291eea6",
   "metadata": {
    "execution": {
     "iopub.execute_input": "2022-06-22T00:56:52.197610Z",
     "iopub.status.busy": "2022-06-22T00:56:52.197135Z",
     "iopub.status.idle": "2022-06-22T02:01:04.159154Z",
     "shell.execute_reply": "2022-06-22T02:01:04.157670Z"
    },
    "papermill": {
     "duration": 3852.013724,
     "end_time": "2022-06-22T02:01:04.162455",
     "exception": false,
     "start_time": "2022-06-22T00:56:52.148731",
     "status": "completed"
    },
    "tags": []
   },
   "outputs": [
    {
     "name": "stdout",
     "output_type": "stream",
     "text": [
      "Fitting 5 folds for each of 342 candidates, totalling 1710 fits\n"
     ]
    }
   ],
   "source": [
    "lgbm_best_grid_ = GridSearchCV(lgbm_model_, lightgbm_params, cv=5, n_jobs=-1, verbose=True).fit(X, y)"
   ]
  },
  {
   "cell_type": "code",
   "execution_count": 75,
   "id": "455edff4",
   "metadata": {
    "execution": {
     "iopub.execute_input": "2022-06-22T02:01:04.265361Z",
     "iopub.status.busy": "2022-06-22T02:01:04.263792Z",
     "iopub.status.idle": "2022-06-22T02:01:04.273635Z",
     "shell.execute_reply": "2022-06-22T02:01:04.272723Z"
    },
    "papermill": {
     "duration": 0.060993,
     "end_time": "2022-06-22T02:01:04.275548",
     "exception": false,
     "start_time": "2022-06-22T02:01:04.214555",
     "status": "completed"
    },
    "tags": []
   },
   "outputs": [
    {
     "data": {
      "text/plain": [
       "{'colsample_bytree': 0.8,\n",
       " 'learning_rate': 0.1,\n",
       " 'max_depth': 13,\n",
       " 'n_estimators': 500}"
      ]
     },
     "execution_count": 75,
     "metadata": {},
     "output_type": "execute_result"
    }
   ],
   "source": [
    "lgbm_best_grid_.best_params_"
   ]
  },
  {
   "cell_type": "code",
   "execution_count": 76,
   "id": "cdde5fb4",
   "metadata": {
    "execution": {
     "iopub.execute_input": "2022-06-22T02:01:04.372231Z",
     "iopub.status.busy": "2022-06-22T02:01:04.370946Z",
     "iopub.status.idle": "2022-06-22T02:01:09.241741Z",
     "shell.execute_reply": "2022-06-22T02:01:09.240641Z"
    },
    "papermill": {
     "duration": 4.922731,
     "end_time": "2022-06-22T02:01:09.244513",
     "exception": false,
     "start_time": "2022-06-22T02:01:04.321782",
     "status": "completed"
    },
    "tags": []
   },
   "outputs": [],
   "source": [
    "lgbm_final = lgbm_model_.set_params(**lgbm_best_grid_.best_params_).fit(X, y)"
   ]
  },
  {
   "cell_type": "code",
   "execution_count": 77,
   "id": "52e5bdce",
   "metadata": {
    "execution": {
     "iopub.execute_input": "2022-06-22T02:01:09.352195Z",
     "iopub.status.busy": "2022-06-22T02:01:09.351675Z",
     "iopub.status.idle": "2022-06-22T02:01:32.162628Z",
     "shell.execute_reply": "2022-06-22T02:01:32.161564Z"
    },
    "papermill": {
     "duration": 22.866386,
     "end_time": "2022-06-22T02:01:32.165264",
     "exception": false,
     "start_time": "2022-06-22T02:01:09.298878",
     "status": "completed"
    },
    "tags": []
   },
   "outputs": [],
   "source": [
    "cv_results_ = cross_validate(lgbm_final, X, y, cv=5, scoring=[\"accuracy\", \"f1\", \"roc_auc\"])"
   ]
  },
  {
   "cell_type": "code",
   "execution_count": 78,
   "id": "12520f70",
   "metadata": {
    "execution": {
     "iopub.execute_input": "2022-06-22T02:01:32.260451Z",
     "iopub.status.busy": "2022-06-22T02:01:32.259591Z",
     "iopub.status.idle": "2022-06-22T02:01:32.267643Z",
     "shell.execute_reply": "2022-06-22T02:01:32.266678Z"
    },
    "papermill": {
     "duration": 0.057785,
     "end_time": "2022-06-22T02:01:32.269619",
     "exception": false,
     "start_time": "2022-06-22T02:01:32.211834",
     "status": "completed"
    },
    "tags": []
   },
   "outputs": [
    {
     "data": {
      "text/plain": [
       "0.9637126578380043"
      ]
     },
     "execution_count": 78,
     "metadata": {},
     "output_type": "execute_result"
    }
   ],
   "source": [
    "cv_results_['test_accuracy'].mean()"
   ]
  },
  {
   "cell_type": "code",
   "execution_count": 79,
   "id": "77b99ec2",
   "metadata": {
    "execution": {
     "iopub.execute_input": "2022-06-22T02:01:32.364330Z",
     "iopub.status.busy": "2022-06-22T02:01:32.363859Z",
     "iopub.status.idle": "2022-06-22T02:01:32.370628Z",
     "shell.execute_reply": "2022-06-22T02:01:32.369713Z"
    },
    "papermill": {
     "duration": 0.056642,
     "end_time": "2022-06-22T02:01:32.372685",
     "exception": false,
     "start_time": "2022-06-22T02:01:32.316043",
     "status": "completed"
    },
    "tags": []
   },
   "outputs": [
    {
     "data": {
      "text/plain": [
       "0.9575186461591102"
      ]
     },
     "execution_count": 79,
     "metadata": {},
     "output_type": "execute_result"
    }
   ],
   "source": [
    "cv_results_['test_f1'].mean()"
   ]
  },
  {
   "cell_type": "code",
   "execution_count": 80,
   "id": "da5b532e",
   "metadata": {
    "execution": {
     "iopub.execute_input": "2022-06-22T02:01:32.467941Z",
     "iopub.status.busy": "2022-06-22T02:01:32.467221Z",
     "iopub.status.idle": "2022-06-22T02:01:32.474939Z",
     "shell.execute_reply": "2022-06-22T02:01:32.473661Z"
    },
    "papermill": {
     "duration": 0.058511,
     "end_time": "2022-06-22T02:01:32.477388",
     "exception": false,
     "start_time": "2022-06-22T02:01:32.418877",
     "status": "completed"
    },
    "tags": []
   },
   "outputs": [
    {
     "data": {
      "text/plain": [
       "0.9949647573607561"
      ]
     },
     "execution_count": 80,
     "metadata": {},
     "output_type": "execute_result"
    }
   ],
   "source": [
    "cv_results_['test_roc_auc'].mean()"
   ]
  }
 ],
 "metadata": {
  "kernelspec": {
   "display_name": "Python 3",
   "language": "python",
   "name": "python3"
  },
  "language_info": {
   "codemirror_mode": {
    "name": "ipython",
    "version": 3
   },
   "file_extension": ".py",
   "mimetype": "text/x-python",
   "name": "python",
   "nbconvert_exporter": "python",
   "pygments_lexer": "ipython3",
   "version": "3.7.12"
  },
  "papermill": {
   "default_parameters": {},
   "duration": 19125.034218,
   "end_time": "2022-06-22T02:01:35.188813",
   "environment_variables": {},
   "exception": null,
   "input_path": "__notebook__.ipynb",
   "output_path": "__notebook__.ipynb",
   "parameters": {},
   "start_time": "2022-06-21T20:42:50.154595",
   "version": "2.3.4"
  }
 },
 "nbformat": 4,
 "nbformat_minor": 5
}
